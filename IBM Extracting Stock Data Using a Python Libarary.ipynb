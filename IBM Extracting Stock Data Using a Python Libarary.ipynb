{
 "cells": [
  {
   "cell_type": "markdown",
   "id": "fe34bdaf-1464-4524-9555-3a30aadf1f62",
   "metadata": {},
   "source": [
    "# **Extracting Stock Data Using a Python Library**\n",
    "A company's stock share is a piece of the company more precisely:\n",
    "\n",
    "**A stock (also known as equity) is a security that represents the ownership of a fraction of a corporation. This entitles the owner of the stock to a proportion of the corporation's assets and profits equal to how much stock they own. Units of stock are called \"shares.\" [1]**\n",
    "\n",
    "An investor can buy a stock and sell it later. If the stock price increases, the investor profits, If it decreases,the investor with incur a loss.  Determining the stock price is complex; it depends on the number of outstanding shares, the size of the company's future profits, and much more. People trade stocks throughout the day the stock ticker is a report of the price of a certain stock, updated continuously throughout the trading session by the various stock market exchanges.\n",
    "\n",
    "You are a data scientist working for a hedge fund; it's your job to determine any suspicious stock activity. In this lab you will extract stock data using a Python library. We will use the yfinance library, it allows us to extract data for stocks returning data in a pandas dataframe. You will use the lab to extract.\n",
    "\n",
    "# **Table of Contents**\n",
    "- Using yfinance to Extract Stock Info\n",
    "- Using yfinance to Extract Historical Share Price Data\n",
    "- Using yfinance to Extract Historical Dividends Data\n",
    "- Exercise\n",
    "- \n",
    "Estimated Time Needed: 30 min"
   ]
  },
  {
   "cell_type": "code",
   "execution_count": 1,
   "id": "fc7a8b7f-7e9a-44eb-9d5b-6c7ecba73eb4",
   "metadata": {},
   "outputs": [
    {
     "name": "stdout",
     "output_type": "stream",
     "text": [
      "Collecting yfinance\n",
      "  Downloading yfinance-0.2.51-py2.py3-none-any.whl.metadata (5.5 kB)\n",
      "Requirement already satisfied: pandas>=1.3.0 in ./anaconda3/lib/python3.12/site-packages (from yfinance) (2.2.2)\n",
      "Requirement already satisfied: numpy>=1.16.5 in ./anaconda3/lib/python3.12/site-packages (from yfinance) (1.26.4)\n",
      "Requirement already satisfied: requests>=2.31 in ./anaconda3/lib/python3.12/site-packages (from yfinance) (2.31.0)\n",
      "Collecting multitasking>=0.0.7 (from yfinance)\n",
      "  Downloading multitasking-0.0.11-py3-none-any.whl.metadata (5.5 kB)\n",
      "Requirement already satisfied: lxml>=4.9.1 in ./anaconda3/lib/python3.12/site-packages (from yfinance) (5.2.1)\n",
      "Requirement already satisfied: platformdirs>=2.0.0 in ./anaconda3/lib/python3.12/site-packages (from yfinance) (3.10.0)\n",
      "Requirement already satisfied: pytz>=2022.5 in ./anaconda3/lib/python3.12/site-packages (from yfinance) (2024.1)\n",
      "Requirement already satisfied: frozendict>=2.3.4 in ./anaconda3/lib/python3.12/site-packages (from yfinance) (2.4.2)\n",
      "Collecting peewee>=3.16.2 (from yfinance)\n",
      "  Downloading peewee-3.17.8.tar.gz (948 kB)\n",
      "\u001b[2K     \u001b[90m━━━━━━━━━━━━━━━━━━━━━━━━━━━━━━━━━━━━━━━\u001b[0m \u001b[32m948.2/948.2 kB\u001b[0m \u001b[31m3.5 MB/s\u001b[0m eta \u001b[36m0:00:00\u001b[0m00:01\u001b[0m00:01\u001b[0m\n",
      "\u001b[?25h  Installing build dependencies ... \u001b[?25ldone\n",
      "\u001b[?25h  Getting requirements to build wheel ... \u001b[?25ldone\n",
      "\u001b[?25h  Preparing metadata (pyproject.toml) ... \u001b[?25ldone\n",
      "\u001b[?25hCollecting beautifulsoup4>=4.11.1 (from yfinance)\n",
      "  Downloading beautifulsoup4-4.12.3-py3-none-any.whl.metadata (3.8 kB)\n",
      "Requirement already satisfied: html5lib>=1.1 in ./anaconda3/lib/python3.12/site-packages (from yfinance) (1.1)\n",
      "Requirement already satisfied: soupsieve>1.2 in ./anaconda3/lib/python3.12/site-packages (from beautifulsoup4>=4.11.1->yfinance) (2.5)\n",
      "Requirement already satisfied: six>=1.9 in ./anaconda3/lib/python3.12/site-packages (from html5lib>=1.1->yfinance) (1.16.0)\n",
      "Requirement already satisfied: webencodings in ./anaconda3/lib/python3.12/site-packages (from html5lib>=1.1->yfinance) (0.5.1)\n",
      "Requirement already satisfied: python-dateutil>=2.8.2 in ./anaconda3/lib/python3.12/site-packages (from pandas>=1.3.0->yfinance) (2.9.0.post0)\n",
      "Requirement already satisfied: tzdata>=2022.7 in ./anaconda3/lib/python3.12/site-packages (from pandas>=1.3.0->yfinance) (2023.3)\n",
      "Requirement already satisfied: charset-normalizer<4,>=2 in ./anaconda3/lib/python3.12/site-packages (from requests>=2.31->yfinance) (3.4.1)\n",
      "Requirement already satisfied: idna<4,>=2.5 in ./anaconda3/lib/python3.12/site-packages (from requests>=2.31->yfinance) (3.10)\n",
      "Requirement already satisfied: urllib3<3,>=1.21.1 in ./anaconda3/lib/python3.12/site-packages (from requests>=2.31->yfinance) (2.3.0)\n",
      "Requirement already satisfied: certifi>=2017.4.17 in ./anaconda3/lib/python3.12/site-packages (from requests>=2.31->yfinance) (2024.12.14)\n",
      "Downloading yfinance-0.2.51-py2.py3-none-any.whl (104 kB)\n",
      "\u001b[2K   \u001b[90m━━━━━━━━━━━━━━━━━━━━━━━━━━━━━━━━━━━━━━━━\u001b[0m \u001b[32m104.7/104.7 kB\u001b[0m \u001b[31m4.1 MB/s\u001b[0m eta \u001b[36m0:00:00\u001b[0m\n",
      "\u001b[?25hDownloading beautifulsoup4-4.12.3-py3-none-any.whl (147 kB)\n",
      "\u001b[2K   \u001b[90m━━━━━━━━━━━━━━━━━━━━━━━━━━━━━━━━━━━━━━━━\u001b[0m \u001b[32m147.9/147.9 kB\u001b[0m \u001b[31m6.5 MB/s\u001b[0m eta \u001b[36m0:00:00\u001b[0m\n",
      "\u001b[?25hDownloading multitasking-0.0.11-py3-none-any.whl (8.5 kB)\n",
      "Building wheels for collected packages: peewee\n",
      "  Building wheel for peewee (pyproject.toml) ... \u001b[?25ldone\n",
      "\u001b[?25h  Created wheel for peewee: filename=peewee-3.17.8-cp312-cp312-macosx_10_9_x86_64.whl size=271084 sha256=19c783a3aa5f6bf2e36a7af70a525c4f930085c2b2be5252b4c2cbeab5437c63\n",
      "  Stored in directory: /Users/purushottamphuyal/Library/Caches/pip/wheels/8f/65/34/456800445efeafb05164fe95285c70e81ba1d96bae30f43917\n",
      "Successfully built peewee\n",
      "Installing collected packages: peewee, multitasking, beautifulsoup4, yfinance\n",
      "  Attempting uninstall: beautifulsoup4\n",
      "    Found existing installation: beautifulsoup4 4.10.0\n",
      "    Uninstalling beautifulsoup4-4.10.0:\n",
      "      Successfully uninstalled beautifulsoup4-4.10.0\n",
      "Successfully installed beautifulsoup4-4.12.3 multitasking-0.0.11 peewee-3.17.8 yfinance-0.2.51\n",
      "Requirement already satisfied: matplotlib in ./anaconda3/lib/python3.12/site-packages (3.8.4)\n",
      "Requirement already satisfied: contourpy>=1.0.1 in ./anaconda3/lib/python3.12/site-packages (from matplotlib) (1.2.0)\n",
      "Requirement already satisfied: cycler>=0.10 in ./anaconda3/lib/python3.12/site-packages (from matplotlib) (0.11.0)\n",
      "Requirement already satisfied: fonttools>=4.22.0 in ./anaconda3/lib/python3.12/site-packages (from matplotlib) (4.51.0)\n",
      "Requirement already satisfied: kiwisolver>=1.3.1 in ./anaconda3/lib/python3.12/site-packages (from matplotlib) (1.4.4)\n",
      "Requirement already satisfied: numpy>=1.21 in ./anaconda3/lib/python3.12/site-packages (from matplotlib) (1.26.4)\n",
      "Requirement already satisfied: packaging>=20.0 in ./anaconda3/lib/python3.12/site-packages (from matplotlib) (23.2)\n",
      "Requirement already satisfied: pillow>=8 in ./anaconda3/lib/python3.12/site-packages (from matplotlib) (10.4.0)\n",
      "Requirement already satisfied: pyparsing>=2.3.1 in ./anaconda3/lib/python3.12/site-packages (from matplotlib) (3.0.9)\n",
      "Requirement already satisfied: python-dateutil>=2.7 in ./anaconda3/lib/python3.12/site-packages (from matplotlib) (2.9.0.post0)\n",
      "Requirement already satisfied: six>=1.5 in ./anaconda3/lib/python3.12/site-packages (from python-dateutil>=2.7->matplotlib) (1.16.0)\n"
     ]
    }
   ],
   "source": [
    "!pip install yfinance\n",
    "!pip install matplotlib\n",
    "# !pip install pandas==1.3.3"
   ]
  },
  {
   "cell_type": "code",
   "execution_count": 2,
   "id": "ad84bd88-1324-4fca-a1bb-c4174afba2b1",
   "metadata": {},
   "outputs": [],
   "source": [
    "import yfinance as yf\n",
    "import pandas as pd"
   ]
  },
  {
   "cell_type": "markdown",
   "id": "41ac1394-940d-4178-a476-378331779500",
   "metadata": {},
   "source": [
    "Using the yfinance Library to Extract Stock Data\n"
   ]
  },
  {
   "cell_type": "markdown",
   "id": "68d74779-df89-4223-af22-1bda507b22d9",
   "metadata": {},
   "source": [
    "Using the Ticker module we can create an object that will allow us to access functions to extract data. To do this we need to provide the ticker symbol for the stock, here the company is Apple and the ticker symbol is AAPL.\n",
    "\n"
   ]
  },
  {
   "cell_type": "code",
   "execution_count": 3,
   "id": "351b7f87-12dc-4c1a-9853-f2e68743a694",
   "metadata": {},
   "outputs": [],
   "source": [
    "apple = yf.Ticker(\"AAPL\")"
   ]
  },
  {
   "cell_type": "markdown",
   "id": "ff9e7d60-bef8-492b-8496-9efe3c8630a5",
   "metadata": {},
   "source": [
    "Now we can access functions and variables to extract the type of data we need. You can view them and what they represent here https://aroussi.com/post/python-yahoo-finance.\n",
    "\n"
   ]
  },
  {
   "cell_type": "code",
   "execution_count": 10,
   "id": "376934f0-0c92-47cb-9c6c-c03469753cb5",
   "metadata": {},
   "outputs": [
    {
     "name": "stdout",
     "output_type": "stream",
     "text": [
      "GNU Wget 1.25.0, a non-interactive network retriever.\n",
      "Usage: wget [OPTION]... [URL]...\n",
      "\n",
      "Mandatory arguments to long options are mandatory for short options too.\n",
      "\n",
      "Startup:\n",
      "  -V,  --version                   display the version of Wget and exit\n",
      "  -h,  --help                      print this help\n",
      "  -b,  --background                go to background after startup\n",
      "  -e,  --execute=COMMAND           execute a `.wgetrc'-style command\n",
      "\n",
      "Logging and input file:\n",
      "  -o,  --output-file=FILE          log messages to FILE\n",
      "  -a,  --append-output=FILE        append messages to FILE\n",
      "  -d,  --debug                     print lots of debugging information\n",
      "  -q,  --quiet                     quiet (no output)\n",
      "  -v,  --verbose                   be verbose (this is the default)\n",
      "  -nv, --no-verbose                turn off verboseness, without being quiet\n",
      "       --report-speed=TYPE         output bandwidth as TYPE.  TYPE can be bits\n",
      "  -i,  --input-file=FILE           download URLs found in local or external FILE\n",
      "  -F,  --force-html                treat input file as HTML\n",
      "  -B,  --base=URL                  resolves HTML input-file links (-i -F)\n",
      "                                     relative to URL\n",
      "       --config=FILE               specify config file to use\n",
      "       --no-config                 do not read any config file\n",
      "       --rejected-log=FILE         log reasons for URL rejection to FILE\n",
      "\n",
      "Download:\n",
      "  -t,  --tries=NUMBER              set number of retries to NUMBER (0 unlimits)\n",
      "       --retry-connrefused         retry even if connection is refused\n",
      "       --retry-on-host-error       consider host errors as non-fatal, transient errors\n",
      "       --retry-on-http-error=ERRORS    comma-separated list of HTTP errors to retry\n",
      "  -O,  --output-document=FILE      write documents to FILE\n",
      "  -nc, --no-clobber                skip downloads that would download to\n",
      "                                     existing files (overwriting them)\n",
      "       --no-netrc                  don't try to obtain credentials from .netrc\n",
      "  -c,  --continue                  resume getting a partially-downloaded file\n",
      "       --start-pos=OFFSET          start downloading from zero-based position OFFSET\n",
      "       --progress=TYPE             select progress gauge type\n",
      "       --show-progress             display the progress bar in any verbosity mode\n",
      "  -N,  --timestamping              don't re-retrieve files unless newer than\n",
      "                                     local\n",
      "       --no-if-modified-since      don't use conditional if-modified-since get\n",
      "                                     requests in timestamping mode\n",
      "       --no-use-server-timestamps  don't set the local file's timestamp by\n",
      "                                     the one on the server\n",
      "  -S,  --server-response           print server response\n",
      "       --spider                    don't download anything\n",
      "  -T,  --timeout=SECONDS           set all timeout values to SECONDS\n",
      "       --dns-timeout=SECS          set the DNS lookup timeout to SECS\n",
      "       --connect-timeout=SECS      set the connect timeout to SECS\n",
      "       --read-timeout=SECS         set the read timeout to SECS\n",
      "  -w,  --wait=SECONDS              wait SECONDS between retrievals\n",
      "                                     (applies if more then 1 URL is to be retrieved)\n",
      "       --waitretry=SECONDS         wait 1..SECONDS between retries of a retrieval\n",
      "                                     (applies if more then 1 URL is to be retrieved)\n",
      "       --random-wait               wait from 0.5*WAIT...1.5*WAIT secs between retrievals\n",
      "                                     (applies if more then 1 URL is to be retrieved)\n",
      "       --no-proxy                  explicitly turn off proxy\n",
      "  -Q,  --quota=NUMBER              set retrieval quota to NUMBER\n",
      "       --bind-address=ADDRESS      bind to ADDRESS (hostname or IP) on local host\n",
      "       --limit-rate=RATE           limit download rate to RATE\n",
      "       --no-dns-cache              disable caching DNS lookups\n",
      "       --restrict-file-names=OS    restrict chars in file names to ones OS allows\n",
      "       --ignore-case               ignore case when matching files/directories\n",
      "  -4,  --inet4-only                connect only to IPv4 addresses\n",
      "  -6,  --inet6-only                connect only to IPv6 addresses\n",
      "       --prefer-family=FAMILY      connect first to addresses of specified family,\n",
      "                                     one of IPv6, IPv4, or none\n",
      "       --user=USER                 set both ftp and http user to USER\n",
      "       --password=PASS             set both ftp and http password to PASS\n",
      "       --ask-password              prompt for passwords\n",
      "       --use-askpass=COMMAND       specify credential handler for requesting \n",
      "                                     username and password.  If no COMMAND is \n",
      "                                     specified the WGET_ASKPASS or the SSH_ASKPASS \n",
      "                                     environment variable is used.\n",
      "       --no-iri                    turn off IRI support\n",
      "       --local-encoding=ENC        use ENC as the local encoding for IRIs\n",
      "       --remote-encoding=ENC       use ENC as the default remote encoding\n",
      "       --unlink                    remove file before clobber\n",
      "       --xattr                     turn on storage of metadata in extended file attributes\n",
      "\n",
      "Directories:\n",
      "  -nd, --no-directories            don't create directories\n",
      "  -x,  --force-directories         force creation of directories\n",
      "  -nH, --no-host-directories       don't create host directories\n",
      "       --protocol-directories      use protocol name in directories\n",
      "  -P,  --directory-prefix=PREFIX   save files to PREFIX/..\n",
      "       --cut-dirs=NUMBER           ignore NUMBER remote directory components\n",
      "\n",
      "HTTP options:\n",
      "       --http-user=USER            set http user to USER\n",
      "       --http-password=PASS        set http password to PASS\n",
      "       --no-cache                  disallow server-cached data\n",
      "       --default-page=NAME         change the default page name (normally\n",
      "                                     this is 'index.html'.)\n",
      "  -E,  --adjust-extension          save HTML/CSS documents with proper extensions\n",
      "       --ignore-length             ignore 'Content-Length' header field\n",
      "       --header=STRING             insert STRING among the headers\n",
      "       --compression=TYPE          choose compression, one of auto, gzip and none. (default: none)\n",
      "       --max-redirect              maximum redirections allowed per page\n",
      "       --proxy-user=USER           set USER as proxy username\n",
      "       --proxy-password=PASS       set PASS as proxy password\n",
      "       --referer=URL               include 'Referer: URL' header in HTTP request\n",
      "       --save-headers              save the HTTP headers to file\n",
      "  -U,  --user-agent=AGENT          identify as AGENT instead of Wget/VERSION\n",
      "       --no-http-keep-alive        disable HTTP keep-alive (persistent connections)\n",
      "       --no-cookies                don't use cookies\n",
      "       --load-cookies=FILE         load cookies from FILE before session\n",
      "       --save-cookies=FILE         save cookies to FILE after session\n",
      "       --keep-session-cookies      load and save session (non-permanent) cookies\n",
      "       --post-data=STRING          use the POST method; send STRING as the data\n",
      "       --post-file=FILE            use the POST method; send contents of FILE\n",
      "       --method=HTTPMethod         use method \"HTTPMethod\" in the request\n",
      "       --body-data=STRING          send STRING as data. --method MUST be set\n",
      "       --body-file=FILE            send contents of FILE. --method MUST be set\n",
      "       --content-disposition       honor the Content-Disposition header when\n",
      "                                     choosing local file names (EXPERIMENTAL)\n",
      "       --content-on-error          output the received content on server errors\n",
      "       --auth-no-challenge         send Basic HTTP authentication information\n",
      "                                     without first waiting for the server's\n",
      "                                     challenge\n",
      "\n",
      "HTTPS (SSL/TLS) options:\n",
      "       --secure-protocol=PR        choose secure protocol, one of auto, SSLv2,\n",
      "                                     SSLv3, TLSv1, TLSv1_1, TLSv1_2, TLSv1_3 and PFS\n",
      "       --https-only                only follow secure HTTPS links\n",
      "       --no-check-certificate      don't validate the server's certificate\n",
      "       --certificate=FILE          client certificate file\n",
      "       --certificate-type=TYPE     client certificate type, PEM or DER\n",
      "       --private-key=FILE          private key file\n",
      "       --private-key-type=TYPE     private key type, PEM or DER\n",
      "       --ca-certificate=FILE       file with the bundle of CAs\n",
      "       --ca-directory=DIR          directory where hash list of CAs is stored\n",
      "       --crl-file=FILE             file with bundle of CRLs\n",
      "       --pinnedpubkey=FILE/HASHES  Public key (PEM/DER) file, or any number\n",
      "                                   of base64 encoded sha256 hashes preceded by\n",
      "                                   'sha256//' and separated by ';', to verify\n",
      "                                   peer against\n",
      "       --random-file=FILE          file with random data for seeding the SSL PRNG\n",
      "\n",
      "       --ciphers=STR           Set the priority string (GnuTLS) or cipher list string (OpenSSL) directly.\n",
      "                                   Use with care. This option overrides --secure-protocol.\n",
      "                                   The format and syntax of this string depend on the specific SSL/TLS engine.\n",
      "HSTS options:\n",
      "       --no-hsts                   disable HSTS\n",
      "       --hsts-file                 path of HSTS database (will override default)\n",
      "\n",
      "FTP options:\n",
      "       --ftp-user=USER             set ftp user to USER\n",
      "       --ftp-password=PASS         set ftp password to PASS\n",
      "       --no-remove-listing         don't remove '.listing' files\n",
      "       --no-glob                   turn off FTP file name globbing\n",
      "       --no-passive-ftp            disable the \"passive\" transfer mode\n",
      "       --preserve-permissions      preserve remote file permissions\n",
      "       --retr-symlinks             when recursing, get linked-to files (not dir)\n",
      "\n",
      "FTPS options:\n",
      "       --ftps-implicit                 use implicit FTPS (default port is 990)\n",
      "       --ftps-resume-ssl               resume the SSL/TLS session started in the control connection when\n",
      "                                         opening a data connection\n",
      "       --ftps-clear-data-connection    cipher the control channel only; all the data will be in plaintext\n",
      "       --ftps-fallback-to-ftp          fall back to FTP if FTPS is not supported in the target server\n",
      "WARC options:\n",
      "       --warc-file=FILENAME        save request/response data to a .warc.gz file\n",
      "       --warc-header=STRING        insert STRING into the warcinfo record\n",
      "       --warc-max-size=NUMBER      set maximum size of WARC files to NUMBER\n",
      "       --warc-cdx                  write CDX index files\n",
      "       --warc-dedup=FILENAME       do not store records listed in this CDX file\n",
      "       --no-warc-compression       do not compress WARC files with GZIP\n",
      "       --no-warc-digests           do not calculate SHA1 digests\n",
      "       --no-warc-keep-log          do not store the log file in a WARC record\n",
      "       --warc-tempdir=DIRECTORY    location for temporary files created by the\n",
      "                                     WARC writer\n",
      "\n",
      "Recursive download:\n",
      "  -r,  --recursive                 specify recursive download\n",
      "  -l,  --level=NUMBER              maximum recursion depth (inf or 0 for infinite)\n",
      "       --delete-after              delete files locally after downloading them\n",
      "  -k,  --convert-links             make links in downloaded HTML or CSS point to\n",
      "                                     local files\n",
      "       --convert-file-only         convert the file part of the URLs only (usually known as the basename)\n",
      "       --backups=N                 before writing file X, rotate up to N backup files\n",
      "  -K,  --backup-converted          before converting file X, back up as X.orig\n",
      "  -m,  --mirror                    shortcut for -N -r -l inf --no-remove-listing\n",
      "  -p,  --page-requisites           get all images, etc. needed to display HTML page\n",
      "       --strict-comments           turn on strict (SGML) handling of HTML comments\n",
      "\n",
      "Recursive accept/reject:\n",
      "  -A,  --accept=LIST               comma-separated list of accepted extensions\n",
      "  -R,  --reject=LIST               comma-separated list of rejected extensions\n",
      "       --accept-regex=REGEX        regex matching accepted URLs\n",
      "       --reject-regex=REGEX        regex matching rejected URLs\n",
      "       --regex-type=TYPE           regex type (posix)\n",
      "  -D,  --domains=LIST              comma-separated list of accepted domains\n",
      "       --exclude-domains=LIST      comma-separated list of rejected domains\n",
      "       --follow-ftp                follow FTP links from HTML documents\n",
      "       --follow-tags=LIST          comma-separated list of followed HTML tags\n",
      "       --ignore-tags=LIST          comma-separated list of ignored HTML tags\n",
      "  -H,  --span-hosts                go to foreign hosts when recursive\n",
      "  -L,  --relative                  follow relative links only\n",
      "  -I,  --include-directories=LIST  list of allowed directories\n",
      "       --trust-server-names        use the name specified by the redirection\n",
      "                                     URL's last component\n",
      "  -X,  --exclude-directories=LIST  list of excluded directories\n",
      "  -np, --no-parent                 don't ascend to the parent directory\n",
      "\n",
      "Email bug reports, questions, discussions to <bug-wget@gnu.org>\n",
      "and/or open issues at https://savannah.gnu.org/bugs/?func=additem&group=wget.\n"
     ]
    }
   ],
   "source": [
    "!wget --help"
   ]
  },
  {
   "cell_type": "code",
   "execution_count": 11,
   "id": "caf8e70c-9c80-4a0f-b1d2-41ff4a339d15",
   "metadata": {},
   "outputs": [
    {
     "name": "stdout",
     "output_type": "stream",
     "text": [
      "--2025-01-13 15:52:31--  https://cf-courses-data.s3.us.cloud-object-storage.appdomain.cloud/IBMDeveloperSkillsNetwork-PY0220EN-SkillsNetwork/data/apple.json\n",
      "Resolving cf-courses-data.s3.us.cloud-object-storage.appdomain.cloud (cf-courses-data.s3.us.cloud-object-storage.appdomain.cloud)... 198.23.119.245\n",
      "Connecting to cf-courses-data.s3.us.cloud-object-storage.appdomain.cloud (cf-courses-data.s3.us.cloud-object-storage.appdomain.cloud)|198.23.119.245|:443... connected.\n",
      "HTTP request sent, awaiting response... 200 OK\n",
      "Length: 5699 (5.6K) [application/json]\n",
      "Saving to: ‘apple.json’\n",
      "\n",
      "apple.json          100%[===================>]   5.57K  --.-KB/s    in 0s      \n",
      "\n",
      "2025-01-13 15:52:31 (543 MB/s) - ‘apple.json’ saved [5699/5699]\n",
      "\n"
     ]
    }
   ],
   "source": [
    "!wget https://cf-courses-data.s3.us.cloud-object-storage.appdomain.cloud/IBMDeveloperSkillsNetwork-PY0220EN-SkillsNetwork/data/apple.json"
   ]
  },
  {
   "cell_type": "markdown",
   "id": "03659be5-aca3-4b36-9270-59818c9f0ab0",
   "metadata": {},
   "source": [
    "Stock Info\n",
    "Using the attribute info we can extract information about the stock as a Python dictionary."
   ]
  },
  {
   "cell_type": "code",
   "execution_count": 12,
   "id": "589f742b-4a19-4607-bb00-7976906a7ee9",
   "metadata": {},
   "outputs": [
    {
     "data": {
      "text/plain": [
       "{'zip': '95014',\n",
       " 'sector': 'Technology',\n",
       " 'fullTimeEmployees': 100000,\n",
       " 'longBusinessSummary': 'Apple Inc. designs, manufactures, and markets smartphones, personal computers, tablets, wearables, and accessories worldwide. It also sells various related services. In addition, the company offers iPhone, a line of smartphones; Mac, a line of personal computers; iPad, a line of multi-purpose tablets; AirPods Max, an over-ear wireless headphone; and wearables, home, and accessories comprising AirPods, Apple TV, Apple Watch, Beats products, HomePod, and iPod touch. Further, it provides AppleCare support services; cloud services store services; and operates various platforms, including the App Store that allow customers to discover and download applications and digital content, such as books, music, video, games, and podcasts. Additionally, the company offers various services, such as Apple Arcade, a game subscription service; Apple Music, which offers users a curated listening experience with on-demand radio stations; Apple News+, a subscription news and magazine service; Apple TV+, which offers exclusive original content; Apple Card, a co-branded credit card; and Apple Pay, a cashless payment service, as well as licenses its intellectual property. The company serves consumers, and small and mid-sized businesses; and the education, enterprise, and government markets. It distributes third-party applications for its products through the App Store. The company also sells its products through its retail and online stores, and direct sales force; and third-party cellular network carriers, wholesalers, retailers, and resellers. Apple Inc. was incorporated in 1977 and is headquartered in Cupertino, California.',\n",
       " 'city': 'Cupertino',\n",
       " 'phone': '408 996 1010',\n",
       " 'state': 'CA',\n",
       " 'country': 'United States',\n",
       " 'companyOfficers': [],\n",
       " 'website': 'https://www.apple.com',\n",
       " 'maxAge': 1,\n",
       " 'address1': 'One Apple Park Way',\n",
       " 'industry': 'Consumer Electronics',\n",
       " 'ebitdaMargins': 0.33890998,\n",
       " 'profitMargins': 0.26579002,\n",
       " 'grossMargins': 0.43019,\n",
       " 'operatingCashflow': 112241000448,\n",
       " 'revenueGrowth': 0.112,\n",
       " 'operatingMargins': 0.309,\n",
       " 'ebitda': 128217997312,\n",
       " 'targetLowPrice': 160,\n",
       " 'recommendationKey': 'buy',\n",
       " 'grossProfits': 152836000000,\n",
       " 'freeCashflow': 80153247744,\n",
       " 'targetMedianPrice': 199.5,\n",
       " 'currentPrice': 177.77,\n",
       " 'earningsGrowth': 0.25,\n",
       " 'currentRatio': 1.038,\n",
       " 'returnOnAssets': 0.19875,\n",
       " 'numberOfAnalystOpinions': 44,\n",
       " 'targetMeanPrice': 193.53,\n",
       " 'debtToEquity': 170.714,\n",
       " 'returnOnEquity': 1.45567,\n",
       " 'targetHighPrice': 215,\n",
       " 'totalCash': 63913000960,\n",
       " 'totalDebt': 122797998080,\n",
       " 'totalRevenue': 378323009536,\n",
       " 'totalCashPerShare': 3.916,\n",
       " 'financialCurrency': 'USD',\n",
       " 'revenuePerShare': 22.838,\n",
       " 'quickRatio': 0.875,\n",
       " 'recommendationMean': 1.8,\n",
       " 'exchange': 'NMS',\n",
       " 'shortName': 'Apple Inc.',\n",
       " 'longName': 'Apple Inc.',\n",
       " 'exchangeTimezoneName': 'America/New_York',\n",
       " 'exchangeTimezoneShortName': 'EDT',\n",
       " 'isEsgPopulated': False,\n",
       " 'gmtOffSetMilliseconds': '-14400000',\n",
       " 'quoteType': 'EQUITY',\n",
       " 'symbol': 'AAPL',\n",
       " 'messageBoardId': 'finmb_24937',\n",
       " 'market': 'us_market',\n",
       " 'annualHoldingsTurnover': None,\n",
       " 'enterpriseToRevenue': 7.824,\n",
       " 'beta3Year': None,\n",
       " 'enterpriseToEbitda': 23.086,\n",
       " '52WeekChange': 0.4549594,\n",
       " 'morningStarRiskRating': None,\n",
       " 'forwardEps': 6.56,\n",
       " 'revenueQuarterlyGrowth': None,\n",
       " 'sharesOutstanding': 16319399936,\n",
       " 'fundInceptionDate': None,\n",
       " 'annualReportExpenseRatio': None,\n",
       " 'totalAssets': None,\n",
       " 'bookValue': 4.402,\n",
       " 'sharesShort': 111286790,\n",
       " 'sharesPercentSharesOut': 0.0068,\n",
       " 'fundFamily': None,\n",
       " 'lastFiscalYearEnd': 1632528000,\n",
       " 'heldPercentInstitutions': 0.59397,\n",
       " 'netIncomeToCommon': 100554997760,\n",
       " 'trailingEps': 6.015,\n",
       " 'lastDividendValue': 0.22,\n",
       " 'SandP52WeekChange': 0.15217662,\n",
       " 'priceToBook': 40.38392,\n",
       " 'heldPercentInsiders': 0.0007,\n",
       " 'nextFiscalYearEnd': 1695600000,\n",
       " 'yield': None,\n",
       " 'mostRecentQuarter': 1640390400,\n",
       " 'shortRatio': 1.21,\n",
       " 'sharesShortPreviousMonthDate': 1644883200,\n",
       " 'floatShares': 16302795170,\n",
       " 'beta': 1.185531,\n",
       " 'enterpriseValue': 2959991898112,\n",
       " 'priceHint': 2,\n",
       " 'threeYearAverageReturn': None,\n",
       " 'lastSplitDate': 1598832000,\n",
       " 'lastSplitFactor': '4:1',\n",
       " 'legalType': None,\n",
       " 'lastDividendDate': 1643932800,\n",
       " 'morningStarOverallRating': None,\n",
       " 'earningsQuarterlyGrowth': 0.204,\n",
       " 'priceToSalesTrailing12Months': 7.668314,\n",
       " 'dateShortInterest': 1647302400,\n",
       " 'pegRatio': 1.94,\n",
       " 'ytdReturn': None,\n",
       " 'forwardPE': 27.099087,\n",
       " 'lastCapGain': None,\n",
       " 'shortPercentOfFloat': 0.0068,\n",
       " 'sharesShortPriorMonth': 108944701,\n",
       " 'impliedSharesOutstanding': 0,\n",
       " 'category': None,\n",
       " 'fiveYearAverageReturn': None,\n",
       " 'previousClose': 178.96,\n",
       " 'regularMarketOpen': 178.55,\n",
       " 'twoHundredDayAverage': 156.03505,\n",
       " 'trailingAnnualDividendYield': 0.004833482,\n",
       " 'payoutRatio': 0.1434,\n",
       " 'volume24Hr': None,\n",
       " 'regularMarketDayHigh': 179.61,\n",
       " 'navPrice': None,\n",
       " 'averageDailyVolume10Day': 93823630,\n",
       " 'regularMarketPreviousClose': 178.96,\n",
       " 'fiftyDayAverage': 166.498,\n",
       " 'trailingAnnualDividendRate': 0.865,\n",
       " 'open': 178.55,\n",
       " 'toCurrency': None,\n",
       " 'averageVolume10days': 93823630,\n",
       " 'expireDate': None,\n",
       " 'algorithm': None,\n",
       " 'dividendRate': 0.88,\n",
       " 'exDividendDate': 1643932800,\n",
       " 'circulatingSupply': None,\n",
       " 'startDate': None,\n",
       " 'regularMarketDayLow': 176.7,\n",
       " 'currency': 'USD',\n",
       " 'trailingPE': 29.55445,\n",
       " 'regularMarketVolume': 92633154,\n",
       " 'lastMarket': None,\n",
       " 'maxSupply': None,\n",
       " 'openInterest': None,\n",
       " 'marketCap': 2901099675648,\n",
       " 'volumeAllCurrencies': None,\n",
       " 'strikePrice': None,\n",
       " 'averageVolume': 95342043,\n",
       " 'dayLow': 176.7,\n",
       " 'ask': 178.53,\n",
       " 'askSize': 800,\n",
       " 'volume': 92633154,\n",
       " 'fiftyTwoWeekHigh': 182.94,\n",
       " 'fromCurrency': None,\n",
       " 'fiveYearAvgDividendYield': 1.13,\n",
       " 'fiftyTwoWeekLow': 122.25,\n",
       " 'bid': 178.4,\n",
       " 'tradeable': False,\n",
       " 'dividendYield': 0.005,\n",
       " 'bidSize': 3200,\n",
       " 'dayHigh': 179.61,\n",
       " 'regularMarketPrice': 177.77,\n",
       " 'preMarketPrice': 178.38,\n",
       " 'logo_url': 'https://logo.clearbit.com/apple.com'}"
      ]
     },
     "execution_count": 12,
     "metadata": {},
     "output_type": "execute_result"
    }
   ],
   "source": [
    "import json\n",
    "with open('apple.json') as json_file:\n",
    "    apple_info = json.load(json_file)\n",
    "    # Print the type of data variable    \n",
    "    #print(\"Type:\", type(apple_info))\n",
    "apple_info"
   ]
  },
  {
   "cell_type": "markdown",
   "id": "0d95ffb5-7626-4d12-aff8-19c1a035b5bb",
   "metadata": {},
   "source": [
    "We can get the 'country' using the key country"
   ]
  },
  {
   "cell_type": "code",
   "execution_count": 13,
   "id": "9fc97f2d-335f-4538-a06b-f2f0bffa52e9",
   "metadata": {},
   "outputs": [
    {
     "data": {
      "text/plain": [
       "'United States'"
      ]
     },
     "execution_count": 13,
     "metadata": {},
     "output_type": "execute_result"
    }
   ],
   "source": [
    "apple_info['country']"
   ]
  },
  {
   "cell_type": "markdown",
   "id": "68005ea2-f7eb-4e12-9965-80f4028fa12e",
   "metadata": {},
   "source": [
    "# **Extracting Share Price**\n",
    "A share is the single smallest part of a company's stock that you can buy, the prices of these shares fluctuate over time. Using the history() method we can get the share price of the stock over a certain period of time. Using the period parameter we can set how far back from the present to get data. The options for period are 1 day (1d), 5d, 1 month (1mo) , 3mo, 6mo, 1 year (1y), 2y, 5y, 10y, ytd, and max.\n",
    "\n"
   ]
  },
  {
   "cell_type": "code",
   "execution_count": 14,
   "id": "00357e97-80c5-443f-9f17-79c9b5a2c4d1",
   "metadata": {},
   "outputs": [],
   "source": [
    "apple_share_price_data = apple.history(period=\"max\")"
   ]
  },
  {
   "cell_type": "markdown",
   "id": "36bbc3a4-01c3-4807-a795-6d0f9a0c484d",
   "metadata": {},
   "source": [
    "The format that the data is returned in is a Pandas DataFrame. With the Date as the index the share Open, High, Low, Close, Volume, and Stock Splits are given for each day.\n",
    "\n"
   ]
  },
  {
   "cell_type": "code",
   "execution_count": 15,
   "id": "f809eca6-eac0-4090-9f5c-a82791907ba1",
   "metadata": {},
   "outputs": [
    {
     "data": {
      "text/html": [
       "<div>\n",
       "<style scoped>\n",
       "    .dataframe tbody tr th:only-of-type {\n",
       "        vertical-align: middle;\n",
       "    }\n",
       "\n",
       "    .dataframe tbody tr th {\n",
       "        vertical-align: top;\n",
       "    }\n",
       "\n",
       "    .dataframe thead th {\n",
       "        text-align: right;\n",
       "    }\n",
       "</style>\n",
       "<table border=\"1\" class=\"dataframe\">\n",
       "  <thead>\n",
       "    <tr style=\"text-align: right;\">\n",
       "      <th></th>\n",
       "      <th>Open</th>\n",
       "      <th>High</th>\n",
       "      <th>Low</th>\n",
       "      <th>Close</th>\n",
       "      <th>Volume</th>\n",
       "      <th>Dividends</th>\n",
       "      <th>Stock Splits</th>\n",
       "    </tr>\n",
       "    <tr>\n",
       "      <th>Date</th>\n",
       "      <th></th>\n",
       "      <th></th>\n",
       "      <th></th>\n",
       "      <th></th>\n",
       "      <th></th>\n",
       "      <th></th>\n",
       "      <th></th>\n",
       "    </tr>\n",
       "  </thead>\n",
       "  <tbody>\n",
       "    <tr>\n",
       "      <th>1980-12-12 00:00:00-05:00</th>\n",
       "      <td>0.098834</td>\n",
       "      <td>0.099264</td>\n",
       "      <td>0.098834</td>\n",
       "      <td>0.098834</td>\n",
       "      <td>469033600</td>\n",
       "      <td>0.0</td>\n",
       "      <td>0.0</td>\n",
       "    </tr>\n",
       "    <tr>\n",
       "      <th>1980-12-15 00:00:00-05:00</th>\n",
       "      <td>0.094108</td>\n",
       "      <td>0.094108</td>\n",
       "      <td>0.093678</td>\n",
       "      <td>0.093678</td>\n",
       "      <td>175884800</td>\n",
       "      <td>0.0</td>\n",
       "      <td>0.0</td>\n",
       "    </tr>\n",
       "    <tr>\n",
       "      <th>1980-12-16 00:00:00-05:00</th>\n",
       "      <td>0.087232</td>\n",
       "      <td>0.087232</td>\n",
       "      <td>0.086802</td>\n",
       "      <td>0.086802</td>\n",
       "      <td>105728000</td>\n",
       "      <td>0.0</td>\n",
       "      <td>0.0</td>\n",
       "    </tr>\n",
       "    <tr>\n",
       "      <th>1980-12-17 00:00:00-05:00</th>\n",
       "      <td>0.088951</td>\n",
       "      <td>0.089381</td>\n",
       "      <td>0.088951</td>\n",
       "      <td>0.088951</td>\n",
       "      <td>86441600</td>\n",
       "      <td>0.0</td>\n",
       "      <td>0.0</td>\n",
       "    </tr>\n",
       "    <tr>\n",
       "      <th>1980-12-18 00:00:00-05:00</th>\n",
       "      <td>0.091530</td>\n",
       "      <td>0.091959</td>\n",
       "      <td>0.091530</td>\n",
       "      <td>0.091530</td>\n",
       "      <td>73449600</td>\n",
       "      <td>0.0</td>\n",
       "      <td>0.0</td>\n",
       "    </tr>\n",
       "  </tbody>\n",
       "</table>\n",
       "</div>"
      ],
      "text/plain": [
       "                               Open      High       Low     Close     Volume  \\\n",
       "Date                                                                           \n",
       "1980-12-12 00:00:00-05:00  0.098834  0.099264  0.098834  0.098834  469033600   \n",
       "1980-12-15 00:00:00-05:00  0.094108  0.094108  0.093678  0.093678  175884800   \n",
       "1980-12-16 00:00:00-05:00  0.087232  0.087232  0.086802  0.086802  105728000   \n",
       "1980-12-17 00:00:00-05:00  0.088951  0.089381  0.088951  0.088951   86441600   \n",
       "1980-12-18 00:00:00-05:00  0.091530  0.091959  0.091530  0.091530   73449600   \n",
       "\n",
       "                           Dividends  Stock Splits  \n",
       "Date                                                \n",
       "1980-12-12 00:00:00-05:00        0.0           0.0  \n",
       "1980-12-15 00:00:00-05:00        0.0           0.0  \n",
       "1980-12-16 00:00:00-05:00        0.0           0.0  \n",
       "1980-12-17 00:00:00-05:00        0.0           0.0  \n",
       "1980-12-18 00:00:00-05:00        0.0           0.0  "
      ]
     },
     "execution_count": 15,
     "metadata": {},
     "output_type": "execute_result"
    }
   ],
   "source": [
    "apple_share_price_data.head()"
   ]
  },
  {
   "cell_type": "markdown",
   "id": "a0455fab-dbd8-4d0b-b66e-8bd5eb8a8b97",
   "metadata": {},
   "source": [
    "The format that the data is returned in is a Pandas DataFrame. With the Date as the index the share Open, High, Low, Close, Volume, and Stock Splits are given for each day.\n",
    "\n"
   ]
  },
  {
   "cell_type": "code",
   "execution_count": 17,
   "id": "c32f1906-f035-439c-9634-00e8254b7918",
   "metadata": {},
   "outputs": [
    {
     "data": {
      "text/html": [
       "<div>\n",
       "<style scoped>\n",
       "    .dataframe tbody tr th:only-of-type {\n",
       "        vertical-align: middle;\n",
       "    }\n",
       "\n",
       "    .dataframe tbody tr th {\n",
       "        vertical-align: top;\n",
       "    }\n",
       "\n",
       "    .dataframe thead th {\n",
       "        text-align: right;\n",
       "    }\n",
       "</style>\n",
       "<table border=\"1\" class=\"dataframe\">\n",
       "  <thead>\n",
       "    <tr style=\"text-align: right;\">\n",
       "      <th></th>\n",
       "      <th>Open</th>\n",
       "      <th>High</th>\n",
       "      <th>Low</th>\n",
       "      <th>Close</th>\n",
       "      <th>Volume</th>\n",
       "      <th>Dividends</th>\n",
       "      <th>Stock Splits</th>\n",
       "    </tr>\n",
       "    <tr>\n",
       "      <th>Date</th>\n",
       "      <th></th>\n",
       "      <th></th>\n",
       "      <th></th>\n",
       "      <th></th>\n",
       "      <th></th>\n",
       "      <th></th>\n",
       "      <th></th>\n",
       "    </tr>\n",
       "  </thead>\n",
       "  <tbody>\n",
       "    <tr>\n",
       "      <th>1980-12-12 00:00:00-05:00</th>\n",
       "      <td>0.098834</td>\n",
       "      <td>0.099264</td>\n",
       "      <td>0.098834</td>\n",
       "      <td>0.098834</td>\n",
       "      <td>469033600</td>\n",
       "      <td>0.0</td>\n",
       "      <td>0.0</td>\n",
       "    </tr>\n",
       "    <tr>\n",
       "      <th>1980-12-15 00:00:00-05:00</th>\n",
       "      <td>0.094108</td>\n",
       "      <td>0.094108</td>\n",
       "      <td>0.093678</td>\n",
       "      <td>0.093678</td>\n",
       "      <td>175884800</td>\n",
       "      <td>0.0</td>\n",
       "      <td>0.0</td>\n",
       "    </tr>\n",
       "    <tr>\n",
       "      <th>1980-12-16 00:00:00-05:00</th>\n",
       "      <td>0.087232</td>\n",
       "      <td>0.087232</td>\n",
       "      <td>0.086802</td>\n",
       "      <td>0.086802</td>\n",
       "      <td>105728000</td>\n",
       "      <td>0.0</td>\n",
       "      <td>0.0</td>\n",
       "    </tr>\n",
       "    <tr>\n",
       "      <th>1980-12-17 00:00:00-05:00</th>\n",
       "      <td>0.088951</td>\n",
       "      <td>0.089381</td>\n",
       "      <td>0.088951</td>\n",
       "      <td>0.088951</td>\n",
       "      <td>86441600</td>\n",
       "      <td>0.0</td>\n",
       "      <td>0.0</td>\n",
       "    </tr>\n",
       "    <tr>\n",
       "      <th>1980-12-18 00:00:00-05:00</th>\n",
       "      <td>0.091530</td>\n",
       "      <td>0.091959</td>\n",
       "      <td>0.091530</td>\n",
       "      <td>0.091530</td>\n",
       "      <td>73449600</td>\n",
       "      <td>0.0</td>\n",
       "      <td>0.0</td>\n",
       "    </tr>\n",
       "  </tbody>\n",
       "</table>\n",
       "</div>"
      ],
      "text/plain": [
       "                               Open      High       Low     Close     Volume  \\\n",
       "Date                                                                           \n",
       "1980-12-12 00:00:00-05:00  0.098834  0.099264  0.098834  0.098834  469033600   \n",
       "1980-12-15 00:00:00-05:00  0.094108  0.094108  0.093678  0.093678  175884800   \n",
       "1980-12-16 00:00:00-05:00  0.087232  0.087232  0.086802  0.086802  105728000   \n",
       "1980-12-17 00:00:00-05:00  0.088951  0.089381  0.088951  0.088951   86441600   \n",
       "1980-12-18 00:00:00-05:00  0.091530  0.091959  0.091530  0.091530   73449600   \n",
       "\n",
       "                           Dividends  Stock Splits  \n",
       "Date                                                \n",
       "1980-12-12 00:00:00-05:00        0.0           0.0  \n",
       "1980-12-15 00:00:00-05:00        0.0           0.0  \n",
       "1980-12-16 00:00:00-05:00        0.0           0.0  \n",
       "1980-12-17 00:00:00-05:00        0.0           0.0  \n",
       "1980-12-18 00:00:00-05:00        0.0           0.0  "
      ]
     },
     "execution_count": 17,
     "metadata": {},
     "output_type": "execute_result"
    }
   ],
   "source": [
    "apple_share_price_data.head()"
   ]
  },
  {
   "cell_type": "markdown",
   "id": "a0002586-921b-49eb-a313-e0add1341c19",
   "metadata": {},
   "source": [
    "We can reset the index of the DataFrame with the reset_index function. We also set the inplace paramter to True so the change takes place to the DataFrame itself."
   ]
  },
  {
   "cell_type": "code",
   "execution_count": 18,
   "id": "af58a527-975b-4236-8b2c-e77ae0abc6b3",
   "metadata": {},
   "outputs": [],
   "source": [
    "apple_share_price_data.reset_index(inplace=True)"
   ]
  },
  {
   "cell_type": "markdown",
   "id": "9a6491b2-5186-4761-bce2-9d4e434f4afc",
   "metadata": {},
   "source": [
    "We can plot the Open price against the Date:"
   ]
  },
  {
   "cell_type": "code",
   "execution_count": 19,
   "id": "fb70092d-b82b-4170-8740-d468bcc855f1",
   "metadata": {},
   "outputs": [
    {
     "data": {
      "text/plain": [
       "<Axes: xlabel='Date'>"
      ]
     },
     "execution_count": 19,
     "metadata": {},
     "output_type": "execute_result"
    },
    {
     "data": {
      "image/png": "[encoded data removed]",
      "text/plain": [
       "<Figure size 640x480 with 1 Axes>"
      ]
     },
     "metadata": {},
     "output_type": "display_data"
    }
   ],
   "source": [
    "apple_share_price_data.plot(x=\"Date\", y=\"Open\")"
   ]
  },
  {
   "cell_type": "markdown",
   "id": "04aac8f9-648c-44b5-a2f7-ca1cf607dcfc",
   "metadata": {},
   "source": [
    "# **Extracting Dividends**\n",
    "Dividends are the distribution of a companys profits to shareholders. In this case they are defined as an amount of money returned per share an investor owns. Using the variable dividends we can get a dataframe of the data. The period of the data is given by the period defined in the 'history` function."
   ]
  },
  {
   "cell_type": "code",
   "execution_count": 21,
   "id": "8a02a9c3-76ea-49df-9842-6c445114eca7",
   "metadata": {},
   "outputs": [
    {
     "data": {
      "text/plain": [
       "Date\n",
       "1987-05-11 00:00:00-04:00    0.000536\n",
       "1987-08-10 00:00:00-04:00    0.000536\n",
       "1987-11-17 00:00:00-05:00    0.000714\n",
       "1988-02-12 00:00:00-05:00    0.000714\n",
       "1988-05-16 00:00:00-04:00    0.000714\n",
       "                               ...   \n",
       "2023-11-10 00:00:00-05:00    0.240000\n",
       "2024-02-09 00:00:00-05:00    0.240000\n",
       "2024-05-10 00:00:00-04:00    0.250000\n",
       "2024-08-12 00:00:00-04:00    0.250000\n",
       "2024-11-08 00:00:00-05:00    0.250000\n",
       "Name: Dividends, Length: 85, dtype: float64"
      ]
     },
     "execution_count": 21,
     "metadata": {},
     "output_type": "execute_result"
    }
   ],
   "source": [
    "apple.dividends"
   ]
  },
  {
   "cell_type": "markdown",
   "id": "0010c561-4a4f-4b0d-8deb-3cb6ea1bc7c6",
   "metadata": {},
   "source": [
    "We can plot the dividends overtime:"
   ]
  },
  {
   "cell_type": "code",
   "execution_count": 22,
   "id": "ffd485a6-180a-4137-84e0-1dc8eaa081e8",
   "metadata": {},
   "outputs": [
    {
     "data": {
      "text/plain": [
       "<Axes: xlabel='Date'>"
      ]
     },
     "execution_count": 22,
     "metadata": {},
     "output_type": "execute_result"
    },
    {
     "data": {
      "image/png": "[encoded data removed]",
      "text/plain": [
       "<Figure size 640x480 with 1 Axes>"
      ]
     },
     "metadata": {},
     "output_type": "display_data"
    }
   ],
   "source": [
    "apple.dividends.plot()"
   ]
  },
  {
   "cell_type": "markdown",
   "id": "724682b9-8148-4de6-b6c8-94e3277d8e75",
   "metadata": {},
   "source": [
    "# **Exercise**\n",
    "Now using the Ticker module create an object for AMD (Advanced Micro Devices) with the ticker symbol is AMD called; name the object amd.\n",
    "\n"
   ]
  },
  {
   "cell_type": "code",
   "execution_count": 28,
   "id": "6ac4df90-5377-4f81-b231-3a44e252fef1",
   "metadata": {},
   "outputs": [
    {
     "name": "stdout",
     "output_type": "stream",
     "text": [
      "{'address1': '2485 Augustine Drive', 'city': 'Santa Clara', 'state': 'CA', 'zip': '95054', 'country': 'United States', 'phone': '408 749 4000', 'website': 'https://www.amd.com', 'industry': 'Semiconductors', 'industryKey': 'semiconductors', 'industryDisp': 'Semiconductors', 'sector': 'Technology', 'sectorKey': 'technology', 'sectorDisp': 'Technology', 'longBusinessSummary': 'Advanced Micro Devices, Inc. operates as a semiconductor company worldwide. It operates through Data Center, Client, Gaming, and Embedded segments. The company offers x86 microprocessors and graphics processing units (GPUs) as an accelerated processing unit, chipsets, data center, and professional GPUs; and embedded processors, and semi-custom system-on-chip (SoC) products, microprocessor and SoC development services and technology, data processing unites, field programmable gate arrays (FPGA), and adaptive SoC products. It provides processors under the AMD Ryzen, AMD Ryzen PRO, Ryzen Threadripper, Ryzen Threadripper PRO, AMD Athlon, AMD Athlon PRO, and AMD PRO A-Series brand names; graphics under the AMD Radeon graphics and AMD Embedded Radeon graphics; and professional graphics under the AMD Radeon Pro graphics brand name. In addition, the company offers data center graphics under the Radeon Instinct and Radeon PRO V-series brands, as well as servers under the AMD Instinct accelerators brand; server microprocessors under the AMD EPYC brands; low power solutions under the AMD Athlon, AMD Geode, AMD Ryzen, AMD EPYC, AMD R-Series, and G-Series brands; FPGA products under the Virtex-6, Virtex-7, Virtex UltraScale+, Kintex-7, Kintex UltraScale, Kintex UltraScale+, Artix-7, Artix UltraScale+, Spartan-6, and Spartan-7 brands; adaptive SOCs under the Zynq-7000, Zynq UltraScale+ MPSoC, Zynq UltraScale+ RFSoCs, Versal HBM, Versal Premium, Versal Prime, Versal AI Core, Versal AI Edge, Vitis, and Vivado brands; and compute and network acceleration board products under the Alveo brand. It serves original equipment and design manufacturers, public cloud service providers, system integrators, independent distributors, and add-in-board manufacturers through its direct sales force, and sales representatives. Advanced Micro Devices, Inc. was incorporated in 1969 and is headquartered in Santa Clara, California.', 'fullTimeEmployees': 26000, 'companyOfficers': [{'maxAge': 1, 'name': 'Dr. Lisa T. Su Ph.D.', 'age': 54, 'title': 'Chair, President & CEO', 'yearBorn': 1970, 'fiscalYear': 2023, 'totalPay': 2661511, 'exercisedValue': 120403856, 'unexercisedValue': 84790664}, {'maxAge': 1, 'name': 'Ms. Jean X. Hu Ph.D.', 'age': 61, 'title': 'Executive VP, CFO & Treasurer', 'yearBorn': 1963, 'fiscalYear': 2023, 'totalPay': 3207599, 'exercisedValue': 0, 'unexercisedValue': 0}, {'maxAge': 1, 'name': 'Mr. Forrest E. Norrod', 'age': 59, 'title': 'Executive VP & GM of Data Center Solutions Business Unit', 'yearBorn': 1965, 'fiscalYear': 2023, 'totalPay': 1227544, 'exercisedValue': 0, 'unexercisedValue': 15163074}, {'maxAge': 1, 'name': 'Mr. Philip  Guido', 'title': 'Executive VP & Chief Commercial Officer', 'fiscalYear': 2023, 'totalPay': 3781955, 'exercisedValue': 0, 'unexercisedValue': 0}, {'maxAge': 1, 'name': 'Mr. Keivan  Keshvari', 'title': 'Senior Vice President of Global Operations', 'fiscalYear': 2023, 'exercisedValue': 0, 'unexercisedValue': 0}, {'maxAge': 1, 'name': 'Mr. Philip Matthew Carter', 'age': 46, 'title': 'Chief Accounting Officer, Corporate VP & Principal Accounting Officer', 'yearBorn': 1978, 'fiscalYear': 2023, 'exercisedValue': 0, 'unexercisedValue': 0}, {'maxAge': 1, 'name': 'Mr. Mark D. Papermaster', 'age': 62, 'title': 'CTO & Executive VP', 'yearBorn': 1962, 'fiscalYear': 2023, 'totalPay': 1140933, 'exercisedValue': 4836541, 'unexercisedValue': 22460436}, {'maxAge': 1, 'name': 'Mr. Hasmukh  Ranjan', 'title': 'Senior VP & Chief Information Officer', 'fiscalYear': 2023, 'exercisedValue': 0, 'unexercisedValue': 0}, {'maxAge': 1, 'name': 'Mr. Mitchell J. Haws', 'age': 60, 'title': 'Vice President of Investor Relations', 'yearBorn': 1964, 'fiscalYear': 2023, 'exercisedValue': 0, 'unexercisedValue': 0}, {'maxAge': 1, 'name': 'Ms. Ava M. Hahn J.D.', 'age': 51, 'title': 'Senior VP, General Counsel & Corporate Secretary', 'yearBorn': 1973, 'fiscalYear': 2023, 'exercisedValue': 0, 'unexercisedValue': 0}], 'auditRisk': 7, 'boardRisk': 4, 'compensationRisk': 9, 'shareHolderRightsRisk': 3, 'overallRisk': 5, 'governanceEpochDate': 1735689600, 'compensationAsOfEpochDate': 1703980800, 'irWebsite': 'http://phx.corporate-ir.net/phoenix.zhtml?c=74093&p=irol-IRHome', 'maxAge': 86400, 'priceHint': 2, 'previousClose': 116.04, 'open': 115.295, 'dayLow': 114.41, 'dayHigh': 117.48, 'regularMarketPreviousClose': 116.04, 'regularMarketOpen': 115.295, 'regularMarketDayLow': 114.41, 'regularMarketDayHigh': 117.48, 'exDividendDate': 798940800, 'beta': 1.706, 'trailingPE': 103.83186, 'forwardPE': 22.85317, 'volume': 35359395, 'regularMarketVolume': 35359395, 'averageVolume': 36657922, 'averageVolume10days': 38288350, 'averageDailyVolume10Day': 38288350, 'bid': 114.6, 'ask': 121.28, 'bidSize': 100, 'askSize': 100, 'marketCap': 190404296704, 'fiftyTwoWeekLow': 114.41, 'fiftyTwoWeekHigh': 227.3, 'priceToSalesTrailing12Months': 7.83718, 'fiftyDayAverage': 134.4932, 'twoHundredDayAverage': 151.73355, 'currency': 'USD', 'enterpriseValue': 186004570112, 'profitMargins': 0.07516, 'floatShares': 1611885853, 'sharesOutstanding': 1622809984, 'sharesShort': 51636463, 'sharesShortPriorMonth': 49389555, 'sharesShortPreviousMonthDate': 1731628800, 'dateShortInterest': 1734048000, 'sharesPercentSharesOut': 0.0318, 'heldPercentInsiders': 0.00494, 'heldPercentInstitutions': 0.72096, 'shortRatio': 1.51, 'shortPercentOfFloat': 0.032, 'impliedSharesOutstanding': 1622809984, 'bookValue': 35.111, 'priceToBook': 3.341688, 'lastFiscalYearEnd': 1703894400, 'nextFiscalYearEnd': 1735516800, 'mostRecentQuarter': 1727481600, 'earningsQuarterlyGrowth': 1.579, 'netIncomeToCommon': 1826000000, 'trailingEps': 1.13, 'forwardEps': 5.1, 'lastSplitFactor': '2:1', 'lastSplitDate': 966902400, 'enterpriseToRevenue': 7.656, 'enterpriseToEbitda': 41.528, '52WeekChange': -0.26899332, 'SandP52WeekChange': 0.22263205, 'exchange': 'NMS', 'quoteType': 'EQUITY', 'symbol': 'AMD', 'underlyingSymbol': 'AMD', 'shortName': 'Advanced Micro Devices, Inc.', 'longName': 'Advanced Micro Devices, Inc.', 'firstTradeDateEpochUtc': 322151400, 'timeZoneFullName': 'America/New_York', 'timeZoneShortName': 'EST', 'uuid': '48af4341-f745-363f-945f-a838eeabb062', 'messageBoardId': 'finmb_168864', 'gmtOffSetMilliseconds': -18000000, 'currentPrice': 117.33, 'targetHighPrice': 250.0, 'targetLowPrice': 110.0, 'targetMeanPrice': 177.51535, 'targetMedianPrice': 175.0, 'recommendationMean': 1.63265, 'recommendationKey': 'buy', 'numberOfAnalystOpinions': 43, 'totalCash': 4544000000, 'totalCashPerShare': 2.8, 'ebitda': 4479000064, 'totalDebt': 2238000128, 'quickRatio': 1.575, 'currentRatio': 2.498, 'totalRevenue': 24295000064, 'debtToEquity': 3.927, 'revenuePerShare': 15.011, 'returnOnAssets': 0.01249, 'returnOnEquity': 0.03262, 'freeCashflow': 2221374976, 'operatingCashflow': 2123000064, 'earningsGrowth': 1.611, 'revenueGrowth': 0.176, 'grossMargins': 0.52122, 'ebitdaMargins': 0.18436001, 'operatingMargins': 0.10617, 'financialCurrency': 'USD', 'trailingPegRatio': 0.3002}\n"
     ]
    }
   ],
   "source": [
    "import yfinance as yf\n",
    "amd = yf.Ticker(\"AMD\")\n",
    "print(amd.info)"
   ]
  },
  {
   "cell_type": "code",
   "execution_count": 30,
   "id": "66915644-94bc-4eb3-9a9b-5b270a1233e0",
   "metadata": {},
   "outputs": [
    {
     "name": "stdout",
     "output_type": "stream",
     "text": [
      "--2025-01-13 16:00:19--  https://cf-courses-data.s3.us.cloud-object-storage.appdomain.cloud/IBMDeveloperSkillsNetwork-PY0220EN-SkillsNetwork/data/amd.json\n",
      "Resolving cf-courses-data.s3.us.cloud-object-storage.appdomain.cloud (cf-courses-data.s3.us.cloud-object-storage.appdomain.cloud)... 169.45.118.108\n",
      "Connecting to cf-courses-data.s3.us.cloud-object-storage.appdomain.cloud (cf-courses-data.s3.us.cloud-object-storage.appdomain.cloud)|169.45.118.108|:443... connected.\n",
      "HTTP request sent, awaiting response... 200 OK\n",
      "Length: 5838 (5.7K) [application/json]\n",
      "Saving to: ‘amd.json’\n",
      "\n",
      "amd.json            100%[===================>]   5.70K  --.-KB/s    in 0s      \n",
      "\n",
      "2025-01-13 16:00:19 (398 MB/s) - ‘amd.json’ saved [5838/5838]\n",
      "\n"
     ]
    }
   ],
   "source": [
    "!wget https://cf-courses-data.s3.us.cloud-object-storage.appdomain.cloud/IBMDeveloperSkillsNetwork-PY0220EN-SkillsNetwork/data/amd.json"
   ]
  },
  {
   "cell_type": "code",
   "execution_count": 31,
   "id": "3d55c47b-70dc-4305-95c4-8182f201dcdc",
   "metadata": {},
   "outputs": [
    {
     "data": {
      "text/plain": [
       "{'zip': '95054',\n",
       " 'sector': 'Technology',\n",
       " 'fullTimeEmployees': 15500,\n",
       " 'longBusinessSummary': 'Advanced Micro Devices, Inc. operates as a semiconductor company worldwide. The company operates in two segments, Computing and Graphics; and Enterprise, Embedded and Semi-Custom. Its products include x86 microprocessors as an accelerated processing unit, chipsets, discrete and integrated graphics processing units (GPUs), data center and professional GPUs, and development services; and server and embedded processors, and semi-custom System-on-Chip (SoC) products, development services, and technology for game consoles. The company provides processors for desktop and notebook personal computers under the AMD Ryzen, AMD Ryzen PRO, Ryzen Threadripper, Ryzen Threadripper PRO, AMD Athlon, AMD Athlon PRO, AMD FX, AMD A-Series, and AMD PRO A-Series processors brands; discrete GPUs for desktop and notebook PCs under the AMD Radeon graphics, AMD Embedded Radeon graphics brands; and professional graphics products under the AMD Radeon Pro and AMD FirePro graphics brands. It also offers Radeon Instinct, Radeon PRO V-series, and AMD Instinct accelerators for servers; chipsets under the AMD trademark; microprocessors for servers under the AMD EPYC; embedded processor solutions under the AMD Athlon, AMD Geode, AMD Ryzen, AMD EPYC, AMD R-Series, and G-Series processors brands; and customer-specific solutions based on AMD CPU, GPU, and multi-media technologies, as well as semi-custom SoC products. It serves original equipment manufacturers, public cloud service providers, original design manufacturers, system integrators, independent distributors, online retailers, and add-in-board manufacturers through its direct sales force, independent distributors, and sales representatives. The company was incorporated in 1969 and is headquartered in Santa Clara, California.',\n",
       " 'city': 'Santa Clara',\n",
       " 'phone': '408 749 4000',\n",
       " 'state': 'CA',\n",
       " 'country': 'United States',\n",
       " 'companyOfficers': [],\n",
       " 'website': 'https://www.amd.com',\n",
       " 'maxAge': 1,\n",
       " 'address1': '2485 Augustine Drive',\n",
       " 'industry': 'Semiconductors',\n",
       " 'ebitdaMargins': 0.24674,\n",
       " 'profitMargins': 0.19240999,\n",
       " 'grossMargins': 0.48248002,\n",
       " 'operatingCashflow': 3520999936,\n",
       " 'revenueGrowth': 0.488,\n",
       " 'operatingMargins': 0.22198,\n",
       " 'ebitda': 4055000064,\n",
       " 'targetLowPrice': 107,\n",
       " 'recommendationKey': 'buy',\n",
       " 'grossProfits': 7929000000,\n",
       " 'freeCashflow': 3122749952,\n",
       " 'targetMedianPrice': 150,\n",
       " 'currentPrice': 119.22,\n",
       " 'earningsGrowth': -0.454,\n",
       " 'currentRatio': 2.024,\n",
       " 'returnOnAssets': 0.21327,\n",
       " 'numberOfAnalystOpinions': 38,\n",
       " 'targetMeanPrice': 152.02,\n",
       " 'debtToEquity': 9.764,\n",
       " 'returnOnEquity': 0.47428,\n",
       " 'targetHighPrice': 200,\n",
       " 'totalCash': 3608000000,\n",
       " 'totalDebt': 732000000,\n",
       " 'totalRevenue': 16433999872,\n",
       " 'totalCashPerShare': 3.008,\n",
       " 'financialCurrency': 'USD',\n",
       " 'revenuePerShare': 13.548,\n",
       " 'quickRatio': 1.49,\n",
       " 'recommendationMean': 2.2,\n",
       " 'exchange': 'NMS',\n",
       " 'shortName': 'Advanced Micro Devices, Inc.',\n",
       " 'longName': 'Advanced Micro Devices, Inc.',\n",
       " 'exchangeTimezoneName': 'America/New_York',\n",
       " 'exchangeTimezoneShortName': 'EDT',\n",
       " 'isEsgPopulated': False,\n",
       " 'gmtOffSetMilliseconds': '-14400000',\n",
       " 'quoteType': 'EQUITY',\n",
       " 'symbol': 'AMD',\n",
       " 'messageBoardId': 'finmb_168864',\n",
       " 'market': 'us_market',\n",
       " 'annualHoldingsTurnover': None,\n",
       " 'enterpriseToRevenue': 8.525,\n",
       " 'beta3Year': None,\n",
       " 'enterpriseToEbitda': 34.551,\n",
       " '52WeekChange': 0.51966953,\n",
       " 'morningStarRiskRating': None,\n",
       " 'forwardEps': 4.72,\n",
       " 'revenueQuarterlyGrowth': None,\n",
       " 'sharesOutstanding': 1627360000,\n",
       " 'fundInceptionDate': None,\n",
       " 'annualReportExpenseRatio': None,\n",
       " 'totalAssets': None,\n",
       " 'bookValue': 6.211,\n",
       " 'sharesShort': 27776129,\n",
       " 'sharesPercentSharesOut': 0.0171,\n",
       " 'fundFamily': None,\n",
       " 'lastFiscalYearEnd': 1640390400,\n",
       " 'heldPercentInstitutions': 0.52896,\n",
       " 'netIncomeToCommon': 3161999872,\n",
       " 'trailingEps': 2.57,\n",
       " 'lastDividendValue': 0.005,\n",
       " 'SandP52WeekChange': 0.15217662,\n",
       " 'priceToBook': 19.194977,\n",
       " 'heldPercentInsiders': 0.00328,\n",
       " 'nextFiscalYearEnd': 1703462400,\n",
       " 'yield': None,\n",
       " 'mostRecentQuarter': 1640390400,\n",
       " 'shortRatio': 0.24,\n",
       " 'sharesShortPreviousMonthDate': 1644883200,\n",
       " 'floatShares': 1193798619,\n",
       " 'beta': 1.848425,\n",
       " 'enterpriseValue': 140104957952,\n",
       " 'priceHint': 2,\n",
       " 'threeYearAverageReturn': None,\n",
       " 'lastSplitDate': 966902400,\n",
       " 'lastSplitFactor': '2:1',\n",
       " 'legalType': None,\n",
       " 'lastDividendDate': 798940800,\n",
       " 'morningStarOverallRating': None,\n",
       " 'earningsQuarterlyGrowth': -0.453,\n",
       " 'priceToSalesTrailing12Months': 11.805638,\n",
       " 'dateShortInterest': 1647302400,\n",
       " 'pegRatio': 0.99,\n",
       " 'ytdReturn': None,\n",
       " 'forwardPE': 25.258476,\n",
       " 'lastCapGain': None,\n",
       " 'shortPercentOfFloat': 0.0171,\n",
       " 'sharesShortPriorMonth': 88709340,\n",
       " 'impliedSharesOutstanding': 0,\n",
       " 'category': None,\n",
       " 'fiveYearAverageReturn': None,\n",
       " 'previousClose': 123.23,\n",
       " 'regularMarketOpen': 123.04,\n",
       " 'twoHundredDayAverage': 116.6998,\n",
       " 'trailingAnnualDividendYield': 0,\n",
       " 'payoutRatio': 0,\n",
       " 'volume24Hr': None,\n",
       " 'regularMarketDayHigh': 125.66,\n",
       " 'navPrice': None,\n",
       " 'averageDailyVolume10Day': 102167370,\n",
       " 'regularMarketPreviousClose': 123.23,\n",
       " 'fiftyDayAverage': 115.95,\n",
       " 'trailingAnnualDividendRate': 0,\n",
       " 'open': 123.04,\n",
       " 'toCurrency': None,\n",
       " 'averageVolume10days': 102167370,\n",
       " 'expireDate': None,\n",
       " 'algorithm': None,\n",
       " 'dividendRate': None,\n",
       " 'exDividendDate': 798940800,\n",
       " 'circulatingSupply': None,\n",
       " 'startDate': None,\n",
       " 'regularMarketDayLow': 118.59,\n",
       " 'currency': 'USD',\n",
       " 'trailingPE': 46.389107,\n",
       " 'regularMarketVolume': 99476946,\n",
       " 'lastMarket': None,\n",
       " 'maxSupply': None,\n",
       " 'openInterest': None,\n",
       " 'marketCap': 194013855744,\n",
       " 'volumeAllCurrencies': None,\n",
       " 'strikePrice': None,\n",
       " 'averageVolume': 102428813,\n",
       " 'dayLow': 118.59,\n",
       " 'ask': 117.24,\n",
       " 'askSize': 1100,\n",
       " 'volume': 99476946,\n",
       " 'fiftyTwoWeekHigh': 164.46,\n",
       " 'fromCurrency': None,\n",
       " 'fiveYearAvgDividendYield': None,\n",
       " 'fiftyTwoWeekLow': 72.5,\n",
       " 'bid': 117.24,\n",
       " 'tradeable': False,\n",
       " 'dividendYield': None,\n",
       " 'bidSize': 900,\n",
       " 'dayHigh': 125.66,\n",
       " 'regularMarketPrice': 119.22,\n",
       " 'preMarketPrice': 116.98,\n",
       " 'logo_url': 'https://logo.clearbit.com/amd.com'}"
      ]
     },
     "execution_count": 31,
     "metadata": {},
     "output_type": "execute_result"
    }
   ],
   "source": [
    "import json\n",
    "with open('amd.json') as json_file:\n",
    "    amd_info = json.load(json_file)\n",
    "    # Print the type of data variable    \n",
    "    #print(\"Type:\", type(apple_info))\n",
    "amd_info"
   ]
  },
  {
   "cell_type": "markdown",
   "id": "f11e7ecb-15b2-4af0-aa8c-862234fac061",
   "metadata": {},
   "source": [
    "Question 1 Use the key 'country' to find the country the stock belongs to, remember it as it will be a quiz question.\n",
    "\n"
   ]
  },
  {
   "cell_type": "code",
   "execution_count": 33,
   "id": "6e0d882c-d83d-4e6a-9941-12d6480777f8",
   "metadata": {},
   "outputs": [
    {
     "name": "stdout",
     "output_type": "stream",
     "text": [
      "The country the stock belongs to is: United States\n"
     ]
    }
   ],
   "source": [
    "# Access the information dictionary and get the value for the key 'country'\n",
    "country = amd.info.get('country', 'Country information not available')\n",
    "print(f\"The country the stock belongs to is: {country}\")\n"
   ]
  },
  {
   "cell_type": "markdown",
   "id": "98d85e49-8eed-45c3-a7e0-fe1885eb6299",
   "metadata": {},
   "source": [
    "Question 2 Use the key 'sector' to find the sector the stock belongs to, remember it as it will be a quiz question."
   ]
  },
  {
   "cell_type": "code",
   "execution_count": 35,
   "id": "dd441e00-96a0-47e8-80f1-9821f2ac8a7a",
   "metadata": {},
   "outputs": [
    {
     "name": "stdout",
     "output_type": "stream",
     "text": [
      "The sector the stock belongs to is: Technology\n"
     ]
    }
   ],
   "source": [
    "# Access the information dictionary and get the value for the key 'sector'\n",
    "sector = amd.info.get('sector', 'Sector information not available')\n",
    "print(f\"The sector the stock belongs to is: {sector}\")\n"
   ]
  },
  {
   "cell_type": "markdown",
   "id": "85b4a149-0274-4075-83a8-f3d54de2d353",
   "metadata": {},
   "source": [
    "Question 3 Obtain stock data for AMD using the history function, set the period to max. Find the Volume traded on the first day (first row)."
   ]
  },
  {
   "cell_type": "code",
   "execution_count": 36,
   "id": "009ee1f4-c1ea-4c79-b0df-47a8d46ef9b9",
   "metadata": {},
   "outputs": [
    {
     "name": "stdout",
     "output_type": "stream",
     "text": [
      "Volume traded on the first day: 219600\n"
     ]
    }
   ],
   "source": [
    "# Get historical data for AMD stock with period set to 'max'\n",
    "amd_history = amd.history(period=\"max\")\n",
    "\n",
    "# Display the first row of the historical data to find the volume traded\n",
    "first_row = amd_history.head(1)  # Get the first row\n",
    "first_day_volume = first_row['Volume'].values[0]  # Get the 'Volume' value\n",
    "print(f\"Volume traded on the first day: {first_day_volume}\")\n"
   ]
  },
  {
   "cell_type": "code",
   "execution_count": null,
   "id": "c9d68f8b-4c0f-410c-b2ef-d59a4d004861",
   "metadata": {},
   "outputs": [],
   "source": []
  }
 ],
 "metadata": {
  "kernelspec": {
   "display_name": "Python 3 (ipykernel)",
   "language": "python",
   "name": "python3"
  },
  "language_info": {
   "codemirror_mode": {
    "name": "ipython",
    "version": 3
   },
   "file_extension": ".py",
   "mimetype": "text/x-python",
   "name": "python",
   "nbconvert_exporter": "python",
   "pygments_lexer": "ipython3",
   "version": "3.12.2"
  }
 },
 "nbformat": 4,
 "nbformat_minor": 5
}
