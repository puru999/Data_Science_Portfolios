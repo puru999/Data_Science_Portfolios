{
 "cells": [
  {
   "cell_type": "markdown",
   "id": "640024ba-49d0-47d9-87d8-589afa257e58",
   "metadata": {},
   "source": [
    "# Data Science\n",
    "\n",
    "Data Science Note Book\n"
   ]
  },
  {
   "cell_type": "markdown",
   "id": "c4ffa002-b35d-4d22-a618-495d009e031e",
   "metadata": {},
   "source": [
    "## Introduction\n",
    "\n",
    "This notebook demonstrates essential skills in data science, including markdown documentation, coding examples, and tool listings. It is structured to showcase the capabilities needed for a data scientist."
   ]
  },
  {
   "cell_type": "markdown",
   "id": "fbf419b9-31e6-4b07-8af5-29568514b03c",
   "metadata": {},
   "source": [
    "#### Data Science Languages\n",
    "\n",
    "1 Python  \n",
    "2 R  \n",
    "3 Julia  \n",
    "4 SQL  \n",
    "5 Scala  \n"
   ]
  },
  {
   "cell_type": "markdown",
   "id": "beece570-a44d-41a7-acc3-1e983f5d9e3e",
   "metadata": {},
   "source": [
    "## Data Science Libraries  \n",
    "- NumPy  \n",
    "- Pandas  \n",
    "- Matplotlib  \n",
    "- Seaborn  \n",
    "- TensorFlow  \n",
    "- Scikit-learn  "
   ]
  },
  {
   "cell_type": "markdown",
   "id": "4b64c1e0-d807-44dd-a670-305a306ad222",
   "metadata": {},
   "source": [
    "## Data Science Tools  \n",
    "\n",
    "|Juypter NoteBook  |  For Interactive Computing\n",
    "|Rs Studio-        |  For Statistical computing\n",
    "|TensorFlow        |  For Deep learning and AI \n",
    "|Tableau           |  For Data visualization \n",
    "|Apache Spark      |  For Distributed data processing\n",
    "\n",
    "\n"
   ]
  },
  {
   "cell_type": "markdown",
   "id": "9c5e0610-4708-43cc-9a61-3be885ff4df9",
   "metadata": {},
   "source": [
    "## Arithmetic Expression Examples  \n",
    "Arithmetic expressions include operations such as addition, subtraction, multiplication, and division. Below are some examples using Python."
   ]
  },
  {
   "cell_type": "markdown",
   "id": "03d00054-0f4c-4574-9bd0-e10a3da83d9f",
   "metadata": {},
   "source": [
    "# Multiply and Add Numbers"
   ]
  },
  {
   "cell_type": "code",
   "execution_count": 5,
   "id": "076527cd-8890-4e3f-8071-d2e2594d8242",
   "metadata": {},
   "outputs": [
    {
     "data": {
      "text/plain": [
       "15"
      ]
     },
     "execution_count": 5,
     "metadata": {},
     "output_type": "execute_result"
    }
   ],
   "source": [
    "##Mulitplication\n",
    "5*3\n"
   ]
  },
  {
   "cell_type": "code",
   "execution_count": 6,
   "id": "ac7f4c60-54f1-4115-a1c9-cef63c4012b4",
   "metadata": {},
   "outputs": [
    {
     "data": {
      "text/plain": [
       "15"
      ]
     },
     "execution_count": 6,
     "metadata": {},
     "output_type": "execute_result"
    }
   ],
   "source": [
    "## Addition\n",
    "10+5"
   ]
  },
  {
   "cell_type": "markdown",
   "id": "bb5968d2-e299-4f85-a9e4-9040cca8f198",
   "metadata": {},
   "source": [
    "# Convert Minutes to Hours\n"
   ]
  },
  {
   "cell_type": "code",
   "execution_count": 11,
   "id": "287cf8a8-309a-4fbb-be31-22ba45f3fb9e",
   "metadata": {},
   "outputs": [
    {
     "name": "stdout",
     "output_type": "stream",
     "text": [
      "120 minutes is equal to 2.0 hours.\n"
     ]
    }
   ],
   "source": [
    "\n",
    "minutes =120\n",
    "hours = minutes / 60\n",
    "print(f\"{minutes} minutes is equal to {hours} hours.\")"
   ]
  },
  {
   "cell_type": "markdown",
   "id": "1c17870a-f8c4-44c6-8419-aa5aea0f51ae",
   "metadata": {},
   "source": [
    "# Objectives  \n",
    "- Learn basic markdown formatting.  \n",
    "- Explore popular data science tools and libraries.  \n",
    "- Practice Python programming with arithmetic examples.  \n",
    "- Demonstrate sharing and collaboration via GitHub.  "
   ]
  },
  {
   "cell_type": "markdown",
   "id": "c66d6ec5-cd93-46a8-8574-c89223745119",
   "metadata": {},
   "source": [
    "## Author  \n",
    "Purushottam Phuyal"
   ]
  },
  {
   "cell_type": "code",
   "execution_count": null,
   "id": "433558db-0e3e-4a89-800e-f93177d6d4a9",
   "metadata": {},
   "outputs": [],
   "source": []
  }
 ],
 "metadata": {
  "kernelspec": {
   "display_name": "Python [conda env:anaconda3]",
   "language": "python",
   "name": "conda-env-anaconda3-py"
  },
  "language_info": {
   "codemirror_mode": {
    "name": "ipython",
    "version": 3
   },
   "file_extension": ".py",
   "mimetype": "text/x-python",
   "name": "python",
   "nbconvert_exporter": "python",
   "pygments_lexer": "ipython3",
   "version": "3.12.4"
  }
 },
 "nbformat": 4,
 "nbformat_minor": 5
}
