{
 "cells": [
  {
   "cell_type": "markdown",
   "id": "49b7662a-291d-4bc9-a9f2-db916012de39",
   "metadata": {},
   "source": [
    "# **Web Scraping Lab**\n",
    "Estimated time needed: 30 minutes\n",
    "\n",
    "# **Objectives**\n",
    "After completing this lab you will be able to:\n",
    "\n",
    "# **Table of Contents**\n",
    "Beautiful Soup Object\n",
    "Tag\n",
    "Children, Parents, and Siblings\n",
    "HTML Attributes\n",
    "Navigable String\n",
    "\n",
    "Filter\n",
    "find All\n",
    "find\n",
    "HTML Attributes\n",
    "Navigable String\n",
    "\n",
    "**Downloading And Scraping The Contents Of A Web**\n",
    "Estimated time needed: 25 min\n",
    "\n",
    "For this lab, we are going to be using Python and several Python libraries. Some of these libraries might be installed in your lab environment or in SN Labs. Others may need to be installed by you. The cells below will install these libraries when executed.\n",
    "\n"
   ]
  },
  {
   "cell_type": "code",
   "execution_count": 2,
   "id": "f5e6240b-3dfd-43f7-a807-5bc7134be702",
   "metadata": {},
   "outputs": [
    {
     "name": "stdout",
     "output_type": "stream",
     "text": [
      "Status Code: 200\n"
     ]
    }
   ],
   "source": [
    "import requests\n",
    "response = requests.get(\"https://api.github.com\")\n",
    "print(\"Status Code:\", response.status_code)\n"
   ]
  },
  {
   "cell_type": "markdown",
   "id": "466446c1-999c-42ec-b9bf-aa20b4acb9e4",
   "metadata": {},
   "source": [
    "Import the required modules and functions"
   ]
  },
  {
   "cell_type": "code",
   "execution_count": 4,
   "id": "d58799ab-856a-4b7b-ae17-888478cab4d5",
   "metadata": {},
   "outputs": [],
   "source": [
    "from bs4 import BeautifulSoup # this module helps in web scrapping.\n",
    "import requests  # this module helps us to download a web page"
   ]
  },
  {
   "cell_type": "markdown",
   "id": "002bda19-c2c8-4553-b985-04d2aaa3c44d",
   "metadata": {},
   "source": [
    "# **Beautiful Soup Objects**\n",
    "\n",
    "Beautiful Soup is a Python library for pulling data out of HTML and XML files, we will focus on HTML files. This is accomplished by representing the HTML as a set of objects with methods used to parse the HTML. We can navigate the HTML as a tree and/or filter out what we are looking for.\n",
    "\n",
    "Consider the following HTML:"
   ]
  },
  {
   "cell_type": "code",
   "execution_count": 6,
   "id": "c045fbdd-f90e-4599-8ad3-045e271f29ab",
   "metadata": {},
   "outputs": [
    {
     "data": {
      "text/html": [
       "<!DOCTYPE html>\n",
       "<html>\n",
       "<head>\n",
       "<title>Page Title</title>\n",
       "</head>\n",
       "<body>\n",
       "<h3><b id='boldest'>Lebron James</b></h3>\n",
       "<p> Salary: $ 92,000,000 </p>\n",
       "<h3> Stephen Curry</h3>\n",
       "<p> Salary: $85,000, 000 </p>\n",
       "<h3> Kevin Durant </h3>\n",
       "<p> Salary: $73,200, 000</p>\n",
       "</body>\n",
       "</html>\n"
      ],
      "text/plain": [
       "<IPython.core.display.HTML object>"
      ]
     },
     "metadata": {},
     "output_type": "display_data"
    }
   ],
   "source": [
    "%%html\n",
    "<!DOCTYPE html>\n",
    "<html>\n",
    "<head>\n",
    "<title>Page Title</title>\n",
    "</head>\n",
    "<body>\n",
    "<h3><b id='boldest'>Lebron James</b></h3>\n",
    "<p> Salary: $ 92,000,000 </p>\n",
    "<h3> Stephen Curry</h3>\n",
    "<p> Salary: $85,000, 000 </p>\n",
    "<h3> Kevin Durant </h3>\n",
    "<p> Salary: $73,200, 000</p>\n",
    "</body>\n",
    "</html>"
   ]
  },
  {
   "cell_type": "markdown",
   "id": "a74dc08b-7e45-449f-a726-1e20b2d6532d",
   "metadata": {},
   "source": [
    "We can store it as a string in the variable HTML:"
   ]
  },
  {
   "cell_type": "code",
   "execution_count": 8,
   "id": "2bf59fc7-e759-4417-ad10-531c6b864148",
   "metadata": {},
   "outputs": [],
   "source": [
    "html=\"<!DOCTYPE html><html><head><title>Page Title</title></head><body><h3><b id='boldest'>Lebron James</b></h3><p> Salary: $ 92,000,000 </p><h3> Stephen Curry</h3><p> Salary: $85,000, 000 </p><h3> Kevin Durant </h3><p> Salary: $73,200, 000</p></body></html>\""
   ]
  },
  {
   "cell_type": "markdown",
   "id": "0e612f9e-8644-426f-951b-d754a71a95e3",
   "metadata": {},
   "source": [
    "To parse a document, pass it into the BeautifulSoup constructor, the BeautifulSoup object, which represents the document as a nested data structure:\n",
    "\n"
   ]
  },
  {
   "cell_type": "code",
   "execution_count": 10,
   "id": "7a992a2d-fbc2-4484-8706-7a9ff2783ec7",
   "metadata": {},
   "outputs": [],
   "source": [
    "soup = BeautifulSoup(html, \"html.parser\")"
   ]
  },
  {
   "cell_type": "markdown",
   "id": "6a75de9e-c5b2-4f14-a4df-1fe4925cb8df",
   "metadata": {},
   "source": [
    "First, the document is converted to Unicode, (similar to ASCII), and HTML entities are converted to Unicode characters. Beautiful Soup transforms a complex HTML document into a complex tree of Python objects. The BeautifulSoup object can create other types of objects. In this lab, we will cover BeautifulSoup and Tag objects that for the purposes of this lab are identical, and NavigableString objects."
   ]
  },
  {
   "cell_type": "markdown",
   "id": "719b5fe8-0499-4911-8be9-199757ff6bb0",
   "metadata": {},
   "source": [
    "We can use the method prettify() to display the HTML in the nested structure:"
   ]
  },
  {
   "cell_type": "code",
   "execution_count": 13,
   "id": "58db414a-b354-4edb-adf2-e1cedff08e58",
   "metadata": {},
   "outputs": [
    {
     "name": "stdout",
     "output_type": "stream",
     "text": [
      "<!DOCTYPE html>\n",
      "<html>\n",
      " <head>\n",
      "  <title>\n",
      "   Page Title\n",
      "  </title>\n",
      " </head>\n",
      " <body>\n",
      "  <h3>\n",
      "   <b id=\"boldest\">\n",
      "    Lebron James\n",
      "   </b>\n",
      "  </h3>\n",
      "  <p>\n",
      "   Salary: $ 92,000,000\n",
      "  </p>\n",
      "  <h3>\n",
      "   Stephen Curry\n",
      "  </h3>\n",
      "  <p>\n",
      "   Salary: $85,000, 000\n",
      "  </p>\n",
      "  <h3>\n",
      "   Kevin Durant\n",
      "  </h3>\n",
      "  <p>\n",
      "   Salary: $73,200, 000\n",
      "  </p>\n",
      " </body>\n",
      "</html>\n",
      "\n"
     ]
    }
   ],
   "source": [
    "print(soup.prettify())"
   ]
  },
  {
   "cell_type": "markdown",
   "id": "747dbfe5-aaf9-400d-8434-611f274cbc35",
   "metadata": {},
   "source": [
    "# **Tags **"
   ]
  },
  {
   "cell_type": "markdown",
   "id": "16cca204-5644-46bd-bce1-b17c4ef23d40",
   "metadata": {},
   "source": [
    "Let's say we want the title of the page and the name of the top paid player we can use the Tag. The Tag object corresponds to an HTML tag in the original document, for example, the tag title.\n",
    "\n"
   ]
  },
  {
   "cell_type": "code",
   "execution_count": 16,
   "id": "342b35c5-088d-4bc4-989d-220af7cfb998",
   "metadata": {},
   "outputs": [
    {
     "name": "stdout",
     "output_type": "stream",
     "text": [
      "tag object: <title>Page Title</title>\n"
     ]
    }
   ],
   "source": [
    "tag_object=soup.title\n",
    "print(\"tag object:\",tag_object)"
   ]
  },
  {
   "cell_type": "markdown",
   "id": "eb39e228-0a85-4925-a35a-0492dc7b98c2",
   "metadata": {},
   "source": [
    "we can see the tag type bs4.element.Tag"
   ]
  },
  {
   "cell_type": "code",
   "execution_count": 18,
   "id": "46badc8f-64d4-47cf-ac85-bfc9a363ee5c",
   "metadata": {},
   "outputs": [
    {
     "name": "stdout",
     "output_type": "stream",
     "text": [
      "tag object type: <class 'bs4.element.Tag'>\n"
     ]
    }
   ],
   "source": [
    "print(\"tag object type:\",type(tag_object))"
   ]
  },
  {
   "cell_type": "markdown",
   "id": "245e03c6-ca50-44ad-b013-332d8019e626",
   "metadata": {},
   "source": [
    "If there is more than one Tag with the same name, the first element with that Tag name is called, this corresponds to the most paid player:"
   ]
  },
  {
   "cell_type": "code",
   "execution_count": 20,
   "id": "c01ae4a5-24b1-42c3-8fdf-ea8e6bdef869",
   "metadata": {},
   "outputs": [
    {
     "data": {
      "text/plain": [
       "<h3><b id=\"boldest\">Lebron James</b></h3>"
      ]
     },
     "execution_count": 20,
     "metadata": {},
     "output_type": "execute_result"
    }
   ],
   "source": [
    "tag_object=soup.h3\n",
    "tag_object"
   ]
  },
  {
   "cell_type": "markdown",
   "id": "a5a57164-3229-4197-ad65-debc6ca4bd2c",
   "metadata": {},
   "source": [
    "Enclosed in the bold attribute b, it helps to use the tree representation. We can navigate down the tree using the child attribute to get the name."
   ]
  },
  {
   "cell_type": "markdown",
   "id": "a44b6bb3-504f-490d-91ad-deeee1bf5557",
   "metadata": {},
   "source": [
    "Children, Parents, and Siblings\n",
    "As stated above the Tag object is a tree of objects we can access the child of the tag or navigate down the branch as follows:"
   ]
  },
  {
   "cell_type": "code",
   "execution_count": 23,
   "id": "7e8d8b8f-a8c3-43f1-80af-498af78a704e",
   "metadata": {},
   "outputs": [
    {
     "data": {
      "text/plain": [
       "<b id=\"boldest\">Lebron James</b>"
      ]
     },
     "execution_count": 23,
     "metadata": {},
     "output_type": "execute_result"
    }
   ],
   "source": [
    "tag_child =tag_object.b\n",
    "tag_child"
   ]
  },
  {
   "cell_type": "markdown",
   "id": "cdbffa66-659b-49e1-a338-fb404e01d64d",
   "metadata": {},
   "source": [
    "You can access the parent with the  parent"
   ]
  },
  {
   "cell_type": "code",
   "execution_count": 25,
   "id": "b10a385c-d1a0-4273-810c-a497a71961e1",
   "metadata": {},
   "outputs": [
    {
     "data": {
      "text/plain": [
       "<h3><b id=\"boldest\">Lebron James</b></h3>"
      ]
     },
     "execution_count": 25,
     "metadata": {},
     "output_type": "execute_result"
    }
   ],
   "source": [
    "parent_tag=tag_child.parent\n",
    "parent_tag"
   ]
  },
  {
   "cell_type": "markdown",
   "id": "c9837411-b181-471f-b118-6876e27cf111",
   "metadata": {},
   "source": [
    "this is identical to"
   ]
  },
  {
   "cell_type": "code",
   "execution_count": 27,
   "id": "aae9f579-8a22-4d79-8889-2d6f75c4e7e2",
   "metadata": {},
   "outputs": [
    {
     "data": {
      "text/plain": [
       "<h3><b id=\"boldest\">Lebron James</b></h3>"
      ]
     },
     "execution_count": 27,
     "metadata": {},
     "output_type": "execute_result"
    }
   ],
   "source": [
    "tag_object"
   ]
  },
  {
   "cell_type": "markdown",
   "id": "18355716-eaae-4ce9-b03a-94cd4d9bc244",
   "metadata": {},
   "source": [
    "tag_object parent is the body element."
   ]
  },
  {
   "cell_type": "code",
   "execution_count": 29,
   "id": "be04ae2c-4b90-4273-b9f0-efee0ff4dd4f",
   "metadata": {},
   "outputs": [
    {
     "data": {
      "text/plain": [
       "<body><h3><b id=\"boldest\">Lebron James</b></h3><p> Salary: $ 92,000,000 </p><h3> Stephen Curry</h3><p> Salary: $85,000, 000 </p><h3> Kevin Durant </h3><p> Salary: $73,200, 000</p></body>"
      ]
     },
     "execution_count": 29,
     "metadata": {},
     "output_type": "execute_result"
    }
   ],
   "source": [
    "tag_object.parent"
   ]
  },
  {
   "cell_type": "markdown",
   "id": "406d9249-7b7b-4b25-9a5f-819cfe5ef772",
   "metadata": {},
   "source": [
    "Tag_object sibling is the paragraph element"
   ]
  },
  {
   "cell_type": "code",
   "execution_count": 31,
   "id": "51020a2e-bebe-4cb8-9cf9-31ad9831d202",
   "metadata": {},
   "outputs": [
    {
     "data": {
      "text/plain": [
       "<p> Salary: $ 92,000,000 </p>"
      ]
     },
     "execution_count": 31,
     "metadata": {},
     "output_type": "execute_result"
    }
   ],
   "source": [
    "sibling_1=tag_object.next_sibling\n",
    "sibling_1"
   ]
  },
  {
   "cell_type": "markdown",
   "id": "2bc6c01f-cf76-4c8c-be12-cda2f125950f",
   "metadata": {},
   "source": [
    "sibling_2 is the header element which is also a sibling of both sibling_1 and tag_object"
   ]
  },
  {
   "cell_type": "code",
   "execution_count": 33,
   "id": "c56bdeee-ce4a-4d2f-815d-de93bcc4a2a8",
   "metadata": {},
   "outputs": [
    {
     "data": {
      "text/plain": [
       "<h3> Stephen Curry</h3>"
      ]
     },
     "execution_count": 33,
     "metadata": {},
     "output_type": "execute_result"
    }
   ],
   "source": [
    "sibling_2=sibling_1.next_sibling\n",
    "sibling_2"
   ]
  },
  {
   "cell_type": "markdown",
   "id": "710fcb49-9613-44e2-b554-ba236ed0b2b0",
   "metadata": {},
   "source": [
    "# **Exercise: next_sibling** \n",
    "Using the object sibling_2 and the property next_sibling to find the salary of Stephen Curry:"
   ]
  },
  {
   "cell_type": "code",
   "execution_count": 35,
   "id": "df6644cc-5c3e-45c2-b523-488903cc9f94",
   "metadata": {},
   "outputs": [
    {
     "data": {
      "text/plain": [
       "<p> Salary: $85,000, 000 </p>"
      ]
     },
     "execution_count": 35,
     "metadata": {},
     "output_type": "execute_result"
    }
   ],
   "source": [
    "sibling_2.next_sibling"
   ]
  },
  {
   "cell_type": "markdown",
   "id": "3301ef79-76ee-4066-8807-29441fd68137",
   "metadata": {},
   "source": [
    "# **HTML Attributes** \n",
    "If the tag has attributes, the tag id=\"boldest\" has an attribute id whose value is boldest. You can access a tag’s attributes by treating the tag like a dictionary:"
   ]
  },
  {
   "cell_type": "code",
   "execution_count": 38,
   "id": "0f39c94b-a9f2-4ab6-8c5a-1e6a0cdbc761",
   "metadata": {},
   "outputs": [
    {
     "data": {
      "text/plain": [
       "'boldest'"
      ]
     },
     "execution_count": 38,
     "metadata": {},
     "output_type": "execute_result"
    }
   ],
   "source": [
    "tag_child['id']"
   ]
  },
  {
   "cell_type": "markdown",
   "id": "9502f2ff-d8c1-48a7-9c82-2ab3b6fc48d0",
   "metadata": {},
   "source": [
    "You can access that dictionary directly as attrs:"
   ]
  },
  {
   "cell_type": "code",
   "execution_count": 45,
   "id": "47ebd48c-fbdd-4559-b67b-2dbfff3add02",
   "metadata": {},
   "outputs": [
    {
     "data": {
      "text/plain": [
       "{'id': 'boldest'}"
      ]
     },
     "execution_count": 45,
     "metadata": {},
     "output_type": "execute_result"
    }
   ],
   "source": [
    "tag_child.attrs"
   ]
  },
  {
   "cell_type": "markdown",
   "id": "85443f2f-b461-4b4d-805c-b941f64ee4d1",
   "metadata": {},
   "source": [
    "You can also work with Multi-valued attribute check out [1] for more.\n",
    "\n",
    "We can also obtain the content if the attribute of the tag using the Python get() method."
   ]
  },
  {
   "cell_type": "code",
   "execution_count": 58,
   "id": "92a03a14-f593-4482-85ba-614e254aa2e0",
   "metadata": {},
   "outputs": [
    {
     "data": {
      "text/plain": [
       "'boldest'"
      ]
     },
     "execution_count": 58,
     "metadata": {},
     "output_type": "execute_result"
    }
   ],
   "source": [
    "tag_child.get('id')"
   ]
  },
  {
   "cell_type": "markdown",
   "id": "b6c9a5f8-e9e2-4e6b-8a77-2c519fafc2ef",
   "metadata": {},
   "source": [
    "# **Navigable String**\n",
    "A string corresponds to a bit of text or content within a tag. Beautiful Soup uses the NavigableString class to contain this text. In our HTML we can obtain the name of the first player by extracting the sting of the Tag object tag_child as follows:"
   ]
  },
  {
   "cell_type": "code",
   "execution_count": 62,
   "id": "6eb3564e-e544-4516-a775-4f8c2718692d",
   "metadata": {},
   "outputs": [
    {
     "data": {
      "text/plain": [
       "'Lebron James'"
      ]
     },
     "execution_count": 62,
     "metadata": {},
     "output_type": "execute_result"
    }
   ],
   "source": [
    "tag_string=tag_child.string\n",
    "tag_string"
   ]
  },
  {
   "cell_type": "markdown",
   "id": "d76f4dbf-26bf-4eaf-b66a-45f0413254a9",
   "metadata": {},
   "source": [
    "we can verify the type is Navigable String"
   ]
  },
  {
   "cell_type": "code",
   "execution_count": 65,
   "id": "1cad6e0a-cc52-40a6-a09d-7d54103d0b9c",
   "metadata": {},
   "outputs": [
    {
     "data": {
      "text/plain": [
       "bs4.element.NavigableString"
      ]
     },
     "execution_count": 65,
     "metadata": {},
     "output_type": "execute_result"
    }
   ],
   "source": [
    "type(tag_string)"
   ]
  },
  {
   "cell_type": "markdown",
   "id": "805f5c45-dfdd-4834-b2de-316b85480044",
   "metadata": {},
   "source": [
    "A NavigableString is just like a Python string or Unicode string, to be more precise. The main difference is that it also supports some BeautifulSoup features. We can covert it to sting object in Python:\n",
    "\n"
   ]
  },
  {
   "cell_type": "code",
   "execution_count": 68,
   "id": "73ae1e11-ab9f-4fee-be64-811280405e36",
   "metadata": {},
   "outputs": [
    {
     "data": {
      "text/plain": [
       "'Lebron James'"
      ]
     },
     "execution_count": 68,
     "metadata": {},
     "output_type": "execute_result"
    }
   ],
   "source": [
    "unicode_string = str(tag_string)\n",
    "unicode_string"
   ]
  },
  {
   "cell_type": "markdown",
   "id": "47303fe6-adf9-4190-904d-91fea4e8dad3",
   "metadata": {},
   "source": [
    "# **Filter**\n",
    "Filters allow you to find complex patterns, the simplest filter is a string. In this section we will pass a string to a different filter method and Beautiful Soup will perform a match against that exact string. Consider the following HTML of rocket launchs:"
   ]
  },
  {
   "cell_type": "code",
   "execution_count": 71,
   "id": "07ae1ca1-0c57-4fa0-badd-6284424e67d3",
   "metadata": {},
   "outputs": [
    {
     "data": {
      "text/html": [
       "<table>\n",
       "  <tr>\n",
       "    <td id='flight' >Flight No</td>\n",
       "    <td>Launch site</td> \n",
       "    <td>Payload mass</td>\n",
       "   </tr>\n",
       "  <tr> \n",
       "    <td>1</td>\n",
       "    <td><a href='https://en.wikipedia.org/wiki/Florida'>Florida</a></td>\n",
       "    <td>300 kg</td>\n",
       "  </tr>\n",
       "  <tr>\n",
       "    <td>2</td>\n",
       "    <td><a href='https://en.wikipedia.org/wiki/Texas'>Texas</a></td>\n",
       "    <td>94 kg</td>\n",
       "  </tr>\n",
       "  <tr>\n",
       "    <td>3</td>\n",
       "    <td><a href='https://en.wikipedia.org/wiki/Florida'>Florida</a> </td>\n",
       "    <td>80 kg</td>\n",
       "  </tr>\n",
       "</table>\n"
      ],
      "text/plain": [
       "<IPython.core.display.HTML object>"
      ]
     },
     "metadata": {},
     "output_type": "display_data"
    }
   ],
   "source": [
    "%%html\n",
    "<table>\n",
    "  <tr>\n",
    "    <td id='flight' >Flight No</td>\n",
    "    <td>Launch site</td> \n",
    "    <td>Payload mass</td>\n",
    "   </tr>\n",
    "  <tr> \n",
    "    <td>1</td>\n",
    "    <td><a href='https://en.wikipedia.org/wiki/Florida'>Florida</a></td>\n",
    "    <td>300 kg</td>\n",
    "  </tr>\n",
    "  <tr>\n",
    "    <td>2</td>\n",
    "    <td><a href='https://en.wikipedia.org/wiki/Texas'>Texas</a></td>\n",
    "    <td>94 kg</td>\n",
    "  </tr>\n",
    "  <tr>\n",
    "    <td>3</td>\n",
    "    <td><a href='https://en.wikipedia.org/wiki/Florida'>Florida</a> </td>\n",
    "    <td>80 kg</td>\n",
    "  </tr>\n",
    "</table>"
   ]
  },
  {
   "cell_type": "markdown",
   "id": "c8c907c9-775a-447b-a5b0-77e43e7773af",
   "metadata": {},
   "source": [
    "We can store it as a string in the variable table:"
   ]
  },
  {
   "cell_type": "code",
   "execution_count": 74,
   "id": "ed76c9cc-6eca-44ae-9448-9d3c231ac07f",
   "metadata": {},
   "outputs": [],
   "source": [
    "table=\"<table><tr><td id='flight' >Flight No</td><td>Launch site</td><td>Payload mass</td></tr><tr><td>1</td><td><a href='https://en.wikipedia.org/wiki/Florida'>Florida</a></td><td>300 kg</td></tr><tr><td>2</td><td><a href='https://en.wikipedia.org/wiki/Texas'>Texas</a></td><td>94 kg</td></tr><tr><td>3</td><td><a href='https://en.wikipedia.org/wiki/Florida'>Florida</a> </td><td>80 kg</td></tr></table>\""
   ]
  },
  {
   "cell_type": "code",
   "execution_count": 76,
   "id": "bfe2c9f2-5adf-4203-867b-8f8dce9bd78d",
   "metadata": {},
   "outputs": [],
   "source": [
    "table_bs = BeautifulSoup(table, \"html.parser\")"
   ]
  },
  {
   "cell_type": "markdown",
   "id": "a7479563-1619-42c5-a93d-eb36d5873791",
   "metadata": {},
   "source": [
    "# **find All**\n",
    "The find_all() method looks through a tag’s descendants and retrieves all descendants that match your filters.\n",
    "\n",
    "The Method signature for find_all(name, attrs, recursive, string, limit, **kwargs)\n",
    "\n",
    "# **Name**\n",
    "When we set the name parameter to a tag name, the method will extract all the tags with that name and its children."
   ]
  },
  {
   "cell_type": "code",
   "execution_count": 79,
   "id": "6b37091f-6bf7-465f-8e7b-4d2b05da0c94",
   "metadata": {},
   "outputs": [
    {
     "data": {
      "text/plain": [
       "[<tr><td id=\"flight\">Flight No</td><td>Launch site</td><td>Payload mass</td></tr>,\n",
       " <tr><td>1</td><td><a href=\"https://en.wikipedia.org/wiki/Florida\">Florida</a></td><td>300 kg</td></tr>,\n",
       " <tr><td>2</td><td><a href=\"https://en.wikipedia.org/wiki/Texas\">Texas</a></td><td>94 kg</td></tr>,\n",
       " <tr><td>3</td><td><a href=\"https://en.wikipedia.org/wiki/Florida\">Florida</a> </td><td>80 kg</td></tr>]"
      ]
     },
     "execution_count": 79,
     "metadata": {},
     "output_type": "execute_result"
    }
   ],
   "source": [
    "table_rows=table_bs.find_all('tr')\n",
    "table_rows"
   ]
  },
  {
   "cell_type": "markdown",
   "id": "ed5ac8d2-3644-4c7d-a371-f02156196c95",
   "metadata": {},
   "source": [
    "The result is a Python Iterable just like a list, each element is a tag object:\n",
    "\n"
   ]
  },
  {
   "cell_type": "code",
   "execution_count": 82,
   "id": "e4affa47-589a-4fbf-be57-3c58ca05f9c7",
   "metadata": {},
   "outputs": [
    {
     "data": {
      "text/plain": [
       "<tr><td id=\"flight\">Flight No</td><td>Launch site</td><td>Payload mass</td></tr>"
      ]
     },
     "execution_count": 82,
     "metadata": {},
     "output_type": "execute_result"
    }
   ],
   "source": [
    "first_row =table_rows[0]\n",
    "first_row"
   ]
  },
  {
   "cell_type": "markdown",
   "id": "c10957db-fa8a-4703-b541-6ad19247453a",
   "metadata": {},
   "source": [
    "The type is tag"
   ]
  },
  {
   "cell_type": "code",
   "execution_count": 85,
   "id": "d3ee431f-1546-460d-84c4-8ceef7a462de",
   "metadata": {},
   "outputs": [
    {
     "name": "stdout",
     "output_type": "stream",
     "text": [
      "<class 'bs4.element.Tag'>\n"
     ]
    }
   ],
   "source": [
    "print(type(first_row))"
   ]
  },
  {
   "cell_type": "markdown",
   "id": "d96ee3f5-4d1f-4175-885a-00da71832474",
   "metadata": {},
   "source": [
    "we can obtain the child"
   ]
  },
  {
   "cell_type": "code",
   "execution_count": 88,
   "id": "a2bdb0e8-53ce-4db0-a7f2-a938c212fbab",
   "metadata": {},
   "outputs": [
    {
     "data": {
      "text/plain": [
       "<td id=\"flight\">Flight No</td>"
      ]
     },
     "execution_count": 88,
     "metadata": {},
     "output_type": "execute_result"
    }
   ],
   "source": [
    "first_row.td"
   ]
  },
  {
   "cell_type": "markdown",
   "id": "afd016ec-369a-424b-82da-3eecd4a3bbb2",
   "metadata": {},
   "source": [
    "If we iterate through the list, each element corresponds to a row in the table:"
   ]
  },
  {
   "cell_type": "code",
   "execution_count": 91,
   "id": "23f94663-bca0-4b9e-adde-dcdb2d078014",
   "metadata": {},
   "outputs": [
    {
     "name": "stdout",
     "output_type": "stream",
     "text": [
      "row 0 is <tr><td id=\"flight\">Flight No</td><td>Launch site</td><td>Payload mass</td></tr>\n",
      "row 1 is <tr><td>1</td><td><a href=\"https://en.wikipedia.org/wiki/Florida\">Florida</a></td><td>300 kg</td></tr>\n",
      "row 2 is <tr><td>2</td><td><a href=\"https://en.wikipedia.org/wiki/Texas\">Texas</a></td><td>94 kg</td></tr>\n",
      "row 3 is <tr><td>3</td><td><a href=\"https://en.wikipedia.org/wiki/Florida\">Florida</a> </td><td>80 kg</td></tr>\n"
     ]
    }
   ],
   "source": [
    "for i,row in enumerate(table_rows):\n",
    "    print(\"row\",i,\"is\",row)\n",
    "    "
   ]
  },
  {
   "cell_type": "markdown",
   "id": "b6fb1401-31a6-4ea3-b9b4-9e8a1048523e",
   "metadata": {},
   "source": [
    "As row is a cell object, we can apply the method find_all to it and extract table cells in the object cells using the tag td, this is all the children with the name td. The result is a list, each element corresponds to a cell and is a Tag object, we can iterate through this list as well. We can extract the content using the string attribute.\n",
    "\n"
   ]
  },
  {
   "cell_type": "code",
   "execution_count": 94,
   "id": "33d642a8-c501-4be7-878f-e7f217130cc5",
   "metadata": {},
   "outputs": [
    {
     "name": "stdout",
     "output_type": "stream",
     "text": [
      "row 0\n",
      "colunm 0 cell <td id=\"flight\">Flight No</td>\n",
      "colunm 1 cell <td>Launch site</td>\n",
      "colunm 2 cell <td>Payload mass</td>\n",
      "row 1\n",
      "colunm 0 cell <td>1</td>\n",
      "colunm 1 cell <td><a href=\"https://en.wikipedia.org/wiki/Florida\">Florida</a></td>\n",
      "colunm 2 cell <td>300 kg</td>\n",
      "row 2\n",
      "colunm 0 cell <td>2</td>\n",
      "colunm 1 cell <td><a href=\"https://en.wikipedia.org/wiki/Texas\">Texas</a></td>\n",
      "colunm 2 cell <td>94 kg</td>\n",
      "row 3\n",
      "colunm 0 cell <td>3</td>\n",
      "colunm 1 cell <td><a href=\"https://en.wikipedia.org/wiki/Florida\">Florida</a> </td>\n",
      "colunm 2 cell <td>80 kg</td>\n"
     ]
    }
   ],
   "source": [
    "for i,row in enumerate(table_rows):\n",
    "    print(\"row\",i)\n",
    "    cells=row.find_all('td')\n",
    "    for j,cell in enumerate(cells):\n",
    "        print('colunm',j,\"cell\",cell)"
   ]
  },
  {
   "cell_type": "markdown",
   "id": "2bd8179f-7e83-4d29-b843-a54189509714",
   "metadata": {},
   "source": [
    "If we use a list we can match against any item in that list."
   ]
  },
  {
   "cell_type": "code",
   "execution_count": 97,
   "id": "24ebad09-58b7-4925-bfe2-2d7d8bf11065",
   "metadata": {},
   "outputs": [
    {
     "data": {
      "text/plain": [
       "[<tr><td id=\"flight\">Flight No</td><td>Launch site</td><td>Payload mass</td></tr>,\n",
       " <td id=\"flight\">Flight No</td>,\n",
       " <td>Launch site</td>,\n",
       " <td>Payload mass</td>,\n",
       " <tr><td>1</td><td><a href=\"https://en.wikipedia.org/wiki/Florida\">Florida</a></td><td>300 kg</td></tr>,\n",
       " <td>1</td>,\n",
       " <td><a href=\"https://en.wikipedia.org/wiki/Florida\">Florida</a></td>,\n",
       " <td>300 kg</td>,\n",
       " <tr><td>2</td><td><a href=\"https://en.wikipedia.org/wiki/Texas\">Texas</a></td><td>94 kg</td></tr>,\n",
       " <td>2</td>,\n",
       " <td><a href=\"https://en.wikipedia.org/wiki/Texas\">Texas</a></td>,\n",
       " <td>94 kg</td>,\n",
       " <tr><td>3</td><td><a href=\"https://en.wikipedia.org/wiki/Florida\">Florida</a> </td><td>80 kg</td></tr>,\n",
       " <td>3</td>,\n",
       " <td><a href=\"https://en.wikipedia.org/wiki/Florida\">Florida</a> </td>,\n",
       " <td>80 kg</td>]"
      ]
     },
     "execution_count": 97,
     "metadata": {},
     "output_type": "execute_result"
    }
   ],
   "source": [
    "list_input=table_bs .find_all(name=[\"tr\", \"td\"])\n",
    "list_input"
   ]
  },
  {
   "cell_type": "markdown",
   "id": "2b023b7b-2dd4-443f-b1ec-c619a0b514e1",
   "metadata": {},
   "source": [
    "# **Attributes**\n",
    "If the argument is not recognized it will be turned into a filter on the tag’s attributes. For example the id argument, Beautiful Soup will filter against each tag’s id attribute. For example, the first td elements have a value of id of flight, therefore we can filter based on that id value."
   ]
  },
  {
   "cell_type": "code",
   "execution_count": 100,
   "id": "ac06e773-85e2-4b88-af52-b38f280eb1c3",
   "metadata": {},
   "outputs": [
    {
     "data": {
      "text/plain": [
       "[<td id=\"flight\">Flight No</td>]"
      ]
     },
     "execution_count": 100,
     "metadata": {},
     "output_type": "execute_result"
    }
   ],
   "source": [
    "table_bs.find_all(id=\"flight\")"
   ]
  },
  {
   "cell_type": "markdown",
   "id": "126c989e-716b-4dc7-857d-016c0ad34766",
   "metadata": {},
   "source": [
    "We can find all the elements that have links to the Florida Wikipedia page:"
   ]
  },
  {
   "cell_type": "code",
   "execution_count": 103,
   "id": "af9c9610-1c2a-4dc1-a548-d4b4c932d002",
   "metadata": {},
   "outputs": [
    {
     "data": {
      "text/plain": [
       "[<a href=\"https://en.wikipedia.org/wiki/Florida\">Florida</a>,\n",
       " <a href=\"https://en.wikipedia.org/wiki/Florida\">Florida</a>]"
      ]
     },
     "execution_count": 103,
     "metadata": {},
     "output_type": "execute_result"
    }
   ],
   "source": [
    "list_input=table_bs.find_all(href=\"https://en.wikipedia.org/wiki/Florida\")\n",
    "list_input"
   ]
  },
  {
   "cell_type": "markdown",
   "id": "76e561a4-51eb-4b57-88ec-63c7e6f3f82b",
   "metadata": {},
   "source": [
    "If we set the href attribute to True, regardless of what the value is, the code finds all tags with href value:\n",
    "\n"
   ]
  },
  {
   "cell_type": "code",
   "execution_count": 106,
   "id": "3de7b08c-9b2d-4d3b-a643-57bb71423749",
   "metadata": {},
   "outputs": [
    {
     "data": {
      "text/plain": [
       "[<a href=\"https://en.wikipedia.org/wiki/Florida\">Florida</a>,\n",
       " <a href=\"https://en.wikipedia.org/wiki/Texas\">Texas</a>,\n",
       " <a href=\"https://en.wikipedia.org/wiki/Florida\">Florida</a>]"
      ]
     },
     "execution_count": 106,
     "metadata": {},
     "output_type": "execute_result"
    }
   ],
   "source": [
    "table_bs.find_all(href=True)"
   ]
  },
  {
   "cell_type": "markdown",
   "id": "6329fa58-9ccb-4310-b7f2-0c935c6882c0",
   "metadata": {},
   "source": [
    "There are other methods for dealing with attributes and other related methods; Check out the following link"
   ]
  },
  {
   "cell_type": "markdown",
   "id": "4d24b780-bb74-4b78-a16a-e1b4ac231613",
   "metadata": {},
   "source": [
    "# **Exercise: find_all**\n",
    "Using the logic above, find all the elements without href value"
   ]
  },
  {
   "cell_type": "code",
   "execution_count": 110,
   "id": "73c34e76-45b9-40c9-99b3-16ed925d3e05",
   "metadata": {},
   "outputs": [
    {
     "data": {
      "text/plain": [
       "[<b id=\"boldest\">Lebron James</b>]"
      ]
     },
     "execution_count": 110,
     "metadata": {},
     "output_type": "execute_result"
    }
   ],
   "source": [
    "soup.find_all(id=\"boldest\")"
   ]
  },
  {
   "cell_type": "markdown",
   "id": "d32055be-5ec6-4d9e-83b5-00c49185f75f",
   "metadata": {},
   "source": [
    "# **string**"
   ]
  },
  {
   "cell_type": "markdown",
   "id": "caf04fdb-dcdb-4a7b-bba8-da84416870d2",
   "metadata": {},
   "source": [
    "With string you can search for strings instead of tags, where we find all the elments with Florida:\n",
    "\n"
   ]
  },
  {
   "cell_type": "code",
   "execution_count": 114,
   "id": "7f26eb65-3489-4249-a40f-c2a400d0c0e4",
   "metadata": {},
   "outputs": [
    {
     "data": {
      "text/plain": [
       "['Florida', 'Florida']"
      ]
     },
     "execution_count": 114,
     "metadata": {},
     "output_type": "execute_result"
    }
   ],
   "source": [
    "table_bs.find_all(string=\"Florida\")"
   ]
  },
  {
   "cell_type": "markdown",
   "id": "ba45e132-82f0-441a-a787-a312b630781d",
   "metadata": {},
   "source": [
    "# **find**\n",
    "The find_all() method scans the entire document looking for results, it’s if you are looking for one element you can use the find() method to find the first element in the document. Consider the following two table:\n",
    "\n"
   ]
  },
  {
   "cell_type": "code",
   "execution_count": 117,
   "id": "b37c3d61-14f0-4a5e-ae8a-3ef3946e2af1",
   "metadata": {},
   "outputs": [
    {
     "data": {
      "text/html": [
       "<h3>Rocket Launch </h3>\n",
       "\n",
       "<p>\n",
       "<table class='rocket'>\n",
       "  <tr>\n",
       "    <td>Flight No</td>\n",
       "    <td>Launch site</td> \n",
       "    <td>Payload mass</td>\n",
       "  </tr>\n",
       "  <tr>\n",
       "    <td>1</td>\n",
       "    <td>Florida</td>\n",
       "    <td>300 kg</td>\n",
       "  </tr>\n",
       "  <tr>\n",
       "    <td>2</td>\n",
       "    <td>Texas</td>\n",
       "    <td>94 kg</td>\n",
       "  </tr>\n",
       "  <tr>\n",
       "    <td>3</td>\n",
       "    <td>Florida </td>\n",
       "    <td>80 kg</td>\n",
       "  </tr>\n",
       "</table>\n",
       "</p>\n",
       "<p>\n",
       "\n",
       "<h3>Pizza Party  </h3>\n",
       "  \n",
       "    \n",
       "<table class='pizza'>\n",
       "  <tr>\n",
       "    <td>Pizza Place</td>\n",
       "    <td>Orders</td> \n",
       "    <td>Slices </td>\n",
       "   </tr>\n",
       "  <tr>\n",
       "    <td>Domino's Pizza</td>\n",
       "    <td>10</td>\n",
       "    <td>100</td>\n",
       "  </tr>\n",
       "  <tr>\n",
       "    <td>Little Caesars</td>\n",
       "    <td>12</td>\n",
       "    <td >144 </td>\n",
       "  </tr>\n",
       "  <tr>\n",
       "    <td>Papa John's </td>\n",
       "    <td>15 </td>\n",
       "    <td>165</td>\n",
       "  </tr>\n"
      ],
      "text/plain": [
       "<IPython.core.display.HTML object>"
      ]
     },
     "metadata": {},
     "output_type": "display_data"
    }
   ],
   "source": [
    "%%html\n",
    "<h3>Rocket Launch </h3>\n",
    "\n",
    "<p>\n",
    "<table class='rocket'>\n",
    "  <tr>\n",
    "    <td>Flight No</td>\n",
    "    <td>Launch site</td> \n",
    "    <td>Payload mass</td>\n",
    "  </tr>\n",
    "  <tr>\n",
    "    <td>1</td>\n",
    "    <td>Florida</td>\n",
    "    <td>300 kg</td>\n",
    "  </tr>\n",
    "  <tr>\n",
    "    <td>2</td>\n",
    "    <td>Texas</td>\n",
    "    <td>94 kg</td>\n",
    "  </tr>\n",
    "  <tr>\n",
    "    <td>3</td>\n",
    "    <td>Florida </td>\n",
    "    <td>80 kg</td>\n",
    "  </tr>\n",
    "</table>\n",
    "</p>\n",
    "<p>\n",
    "\n",
    "<h3>Pizza Party  </h3>\n",
    "  \n",
    "    \n",
    "<table class='pizza'>\n",
    "  <tr>\n",
    "    <td>Pizza Place</td>\n",
    "    <td>Orders</td> \n",
    "    <td>Slices </td>\n",
    "   </tr>\n",
    "  <tr>\n",
    "    <td>Domino's Pizza</td>\n",
    "    <td>10</td>\n",
    "    <td>100</td>\n",
    "  </tr>\n",
    "  <tr>\n",
    "    <td>Little Caesars</td>\n",
    "    <td>12</td>\n",
    "    <td >144 </td>\n",
    "  </tr>\n",
    "  <tr>\n",
    "    <td>Papa John's </td>\n",
    "    <td>15 </td>\n",
    "    <td>165</td>\n",
    "  </tr>"
   ]
  },
  {
   "cell_type": "markdown",
   "id": "213d5697-248f-417f-a853-37632a39051a",
   "metadata": {},
   "source": [
    "We store the HTML as a Python string and assign two_tables:"
   ]
  },
  {
   "cell_type": "code",
   "execution_count": 120,
   "id": "6b5c4b59-5fa1-4d7c-8019-ee9de0f2e51d",
   "metadata": {},
   "outputs": [],
   "source": [
    "two_tables=\"<h3>Rocket Launch </h3><p><table class='rocket'><tr><td>Flight No</td><td>Launch site</td> <td>Payload mass</td></tr><tr><td>1</td><td>Florida</td><td>300 kg</td></tr><tr><td>2</td><td>Texas</td><td>94 kg</td></tr><tr><td>3</td><td>Florida </td><td>80 kg</td></tr></table></p><p><h3>Pizza Party  </h3><table class='pizza'><tr><td>Pizza Place</td><td>Orders</td> <td>Slices </td></tr><tr><td>Domino's Pizza</td><td>10</td><td>100</td></tr><tr><td>Little Caesars</td><td>12</td><td >144 </td></tr><tr><td>Papa John's </td><td>15 </td><td>165</td></tr>\""
   ]
  },
  {
   "cell_type": "markdown",
   "id": "da3167c8-f186-4697-a285-1960945a6f0c",
   "metadata": {},
   "source": [
    "We create a BeautifulSoup object two_tables_bs"
   ]
  },
  {
   "cell_type": "code",
   "execution_count": 123,
   "id": "bd875487-2c72-49f9-95b4-85b791393512",
   "metadata": {},
   "outputs": [],
   "source": [
    "two_tables_bs= BeautifulSoup(two_tables, 'html.parser')"
   ]
  },
  {
   "cell_type": "markdown",
   "id": "8366df9a-1f1a-41c8-89c2-3e40c4098dcc",
   "metadata": {},
   "source": [
    "We can find the first table using the tag name table"
   ]
  },
  {
   "cell_type": "code",
   "execution_count": 126,
   "id": "30cd68d8-b992-45ad-867f-956f9e354ee1",
   "metadata": {},
   "outputs": [
    {
     "data": {
      "text/plain": [
       "<table class=\"rocket\"><tr><td>Flight No</td><td>Launch site</td> <td>Payload mass</td></tr><tr><td>1</td><td>Florida</td><td>300 kg</td></tr><tr><td>2</td><td>Texas</td><td>94 kg</td></tr><tr><td>3</td><td>Florida </td><td>80 kg</td></tr></table>"
      ]
     },
     "execution_count": 126,
     "metadata": {},
     "output_type": "execute_result"
    }
   ],
   "source": [
    "two_tables_bs.find(\"table\")"
   ]
  },
  {
   "cell_type": "markdown",
   "id": "9e5c8eee-029c-4ae9-bf25-ca40febc03ed",
   "metadata": {},
   "source": [
    "We can filter on the class attribute to find the second table, but because class is a keyword in Python, we add an underscore.\n",
    "\n"
   ]
  },
  {
   "cell_type": "code",
   "execution_count": 129,
   "id": "a4d4f3e8-cafe-4f30-9b84-7fa47c2d5b4f",
   "metadata": {},
   "outputs": [
    {
     "data": {
      "text/plain": [
       "<table class=\"pizza\"><tr><td>Pizza Place</td><td>Orders</td> <td>Slices </td></tr><tr><td>Domino's Pizza</td><td>10</td><td>100</td></tr><tr><td>Little Caesars</td><td>12</td><td>144 </td></tr><tr><td>Papa John's </td><td>15 </td><td>165</td></tr></table>"
      ]
     },
     "execution_count": 129,
     "metadata": {},
     "output_type": "execute_result"
    }
   ],
   "source": [
    "two_tables_bs.find(\"table\",class_='pizza')"
   ]
  },
  {
   "cell_type": "markdown",
   "id": "d83e943e-7953-4027-973c-9c9aec94f679",
   "metadata": {},
   "source": [
    "# **Downloading And Scraping The Contents Of A Web Page**\n",
    "We Download the contents of the web page:"
   ]
  },
  {
   "cell_type": "code",
   "execution_count": 132,
   "id": "d58897cd-4e7f-4175-b316-64f6477f55a0",
   "metadata": {},
   "outputs": [],
   "source": [
    "url = \"https://web.archive.org/web/20230224123642/https://www.ibm.com/us-en/\""
   ]
  },
  {
   "cell_type": "markdown",
   "id": "af686971-d6e8-4ada-813d-908a16b881f4",
   "metadata": {},
   "source": [
    "We use get to download the contents of the webpage in text format and store in a variable called data:"
   ]
  },
  {
   "cell_type": "code",
   "execution_count": 135,
   "id": "dc6f2862-ec60-4986-87fd-9f1302f0169a",
   "metadata": {},
   "outputs": [],
   "source": [
    "data  = requests.get(url).text "
   ]
  },
  {
   "cell_type": "markdown",
   "id": "2c4feee3-ee98-428e-bbbc-2061138d518c",
   "metadata": {},
   "source": [
    "We create a BeautifulSoup object using the BeautifulSoup constructor"
   ]
  },
  {
   "cell_type": "code",
   "execution_count": 137,
   "id": "380031a3-7fa2-4e1c-8f69-3976f97c1d22",
   "metadata": {},
   "outputs": [],
   "source": [
    "soup = BeautifulSoup(data,\"html.parser\")  # create a soup object using the variable 'data'"
   ]
  },
  {
   "cell_type": "markdown",
   "id": "66008d2a-df26-4809-b4e1-550829beeec5",
   "metadata": {},
   "source": [
    "Scrape all links"
   ]
  },
  {
   "cell_type": "code",
   "execution_count": 139,
   "id": "5a2eac59-27f8-411b-908f-47aa705fd7e5",
   "metadata": {},
   "outputs": [
    {
     "name": "stdout",
     "output_type": "stream",
     "text": [
      "https://web.archive.org/web/20230224123642/https://www.ibm.com/reports/threat-intelligence/\n",
      "https://web.archive.org/web/20230224123642/https://www.ibm.com/about\n",
      "https://web.archive.org/web/20230224123642/https://www.ibm.com/consulting/?lnk=flathl\n",
      "https://web.archive.org/web/20230224123642/https://www.ibm.com/consulting/strategy/?lnk=flathl\n",
      "https://web.archive.org/web/20230224123642/https://www.ibm.com/consulting/ibmix?lnk=flathl\n",
      "https://web.archive.org/web/20230224123642/https://www.ibm.com/consulting/technology/\n",
      "https://web.archive.org/web/20230224123642/https://www.ibm.com/consulting/operations/?lnk=flathl\n",
      "https://web.archive.org/web/20230224123642/https://www.ibm.com/strategic-partnerships\n",
      "https://web.archive.org/web/20230224123642/https://www.ibm.com/employment/?lnk=flatitem\n",
      "https://web.archive.org/web/20230224123642/https://www.ibm.com/impact\n",
      "https://web.archive.org/web/20230224123642/https://research.ibm.com/\n",
      "https://web.archive.org/web/20230224123642/https://www.ibm.com/\n"
     ]
    }
   ],
   "source": [
    "for link in soup.find_all('a',href=True):  # in html anchor/link is represented by the tag <a>\n",
    "\n",
    "    print(link.get('href'))\n"
   ]
  },
  {
   "cell_type": "markdown",
   "id": "66915eff-caf6-4644-91d4-f9112eb6342f",
   "metadata": {},
   "source": [
    "# **Scrape all images Tags¶**"
   ]
  },
  {
   "cell_type": "code",
   "execution_count": 141,
   "id": "a35aa363-6c96-44ec-830f-ad555810bb9e",
   "metadata": {},
   "outputs": [
    {
     "name": "stdout",
     "output_type": "stream",
     "text": [
      "<img alt=\"Person standing with arms crossed\" aria-describedby=\"bx--image-1\" class=\"bx--image__img\" src=\"https://web.archive.org/web/20230224123642im_/https://1.dam.s81c.com/p/0a23e414312bcb6f/08196d0e04260ae5_cropped.jpg.global.sr_16x9.jpg\"/>\n",
      "https://web.archive.org/web/20230224123642im_/https://1.dam.s81c.com/p/0a23e414312bcb6f/08196d0e04260ae5_cropped.jpg.global.sr_16x9.jpg\n",
      "<img alt=\"Team members at work in a conference room\" aria-describedby=\"bx--image-2\" class=\"bx--image__img\" src=\"https://web.archive.org/web/20230224123642im_/https://1.dam.s81c.com/p/06655c075aa3aa29/CaitOppermann_2019_12_06_IBMGarage_DSC3304.jpg.global.m_16x9.jpg\"/>\n",
      "https://web.archive.org/web/20230224123642im_/https://1.dam.s81c.com/p/06655c075aa3aa29/CaitOppermann_2019_12_06_IBMGarage_DSC3304.jpg.global.m_16x9.jpg\n",
      "<img alt=\"Coworkers looking at laptops\" aria-describedby=\"bx--image-3\" class=\"bx--image__img\" src=\"https://web.archive.org/web/20230224123642im_/https://1.dam.s81c.com/p/08f951353c2707b8/052022_CaitOppermann_InsideIBM_London_2945_03.jpg.global.sr_16x9.jpg\"/>\n",
      "https://web.archive.org/web/20230224123642im_/https://1.dam.s81c.com/p/08f951353c2707b8/052022_CaitOppermann_InsideIBM_London_2945_03.jpg.global.sr_16x9.jpg\n",
      "<img alt=\"Cloud developer with red sweater coding at desk\" aria-describedby=\"bx--image-4\" class=\"bx--image__img\" src=\"https://web.archive.org/web/20230224123642im_/https://1.dam.s81c.com/p/064e0139f5a3aa5e/0500002_Lowell_LI_100119.jpg.global.sr_16x9.jpg\"/>\n",
      "https://web.archive.org/web/20230224123642im_/https://1.dam.s81c.com/p/064e0139f5a3aa5e/0500002_Lowell_LI_100119.jpg.global.sr_16x9.jpg\n",
      "<img alt=\"Aerial view of automated conveyer belt and machinery at work\" aria-describedby=\"bx--image-5\" class=\"bx--image__img\" src=\"https://web.archive.org/web/20230224123642im_/https://1.dam.s81c.com/p/0795cae91a25156f/conveyorrobottopview.jpg.global.sr_16x9.jpg\"/>\n",
      "https://web.archive.org/web/20230224123642im_/https://1.dam.s81c.com/p/0795cae91a25156f/conveyorrobottopview.jpg.global.sr_16x9.jpg\n",
      "<img alt=\"Overhead view of partners collaborating on design with laptops and coffee\" aria-describedby=\"bx--image-6\" class=\"bx--image__img\" src=\"https://web.archive.org/web/20230224123642im_/https://1.dam.s81c.com/p/06dfa9ccdba4ec79/1f417900-9042-44d1-9c219a854bbb62ea.jpg.global.sr_16x9.jpg\"/>\n",
      "https://web.archive.org/web/20230224123642im_/https://1.dam.s81c.com/p/06dfa9ccdba4ec79/1f417900-9042-44d1-9c219a854bbb62ea.jpg.global.sr_16x9.jpg\n"
     ]
    }
   ],
   "source": [
    "for link in soup.find_all('img'):# in html image is represented by the tag <img>\n",
    "    print(link)\n",
    "    print(link.get('src'))"
   ]
  },
  {
   "cell_type": "markdown",
   "id": "b884c770-1e25-4c2c-ade6-13a8dedbd8f9",
   "metadata": {},
   "source": [
    "# **Scrape data from HTML tables**"
   ]
  },
  {
   "cell_type": "code",
   "execution_count": 143,
   "id": "abdaa746-3dcc-42d8-9261-180bca08e44b",
   "metadata": {},
   "outputs": [],
   "source": [
    "#The below url contains an html table with data about colors and color codes.\n",
    "url = \"https://cf-courses-data.s3.us.cloud-object-storage.appdomain.cloud/IBM-DA0321EN-SkillsNetwork/labs/datasets/HTMLColorCodes.html\""
   ]
  },
  {
   "cell_type": "markdown",
   "id": "4137be7e-9f3e-46a9-a5f6-4875eee2ada6",
   "metadata": {},
   "source": [
    "Before proceeding to scrape a web site, you need to examine the contents, and the way data is organized on the website. Open the above url in your browser and check how many rows and columns are there in the color table."
   ]
  },
  {
   "cell_type": "code",
   "execution_count": 145,
   "id": "f7f316e4-cc18-4b61-900f-fc60a0f56d4b",
   "metadata": {},
   "outputs": [],
   "source": [
    "# get the contents of the webpage in text format and store in a variable called data\n",
    "data  = requests.get(url).text"
   ]
  },
  {
   "cell_type": "code",
   "execution_count": 146,
   "id": "bff8130e-b6c2-429e-b4bf-3701a069d85f",
   "metadata": {},
   "outputs": [],
   "source": [
    "soup = BeautifulSoup(data,\"html.parser\")"
   ]
  },
  {
   "cell_type": "code",
   "execution_count": 147,
   "id": "dc3df3d8-e0fb-4d39-8a4c-f5d47a1f4db6",
   "metadata": {},
   "outputs": [],
   "source": [
    "#find a html table in the web page\n",
    "table = soup.find('table') # in html table is represented by the tag <table>"
   ]
  },
  {
   "cell_type": "code",
   "execution_count": 148,
   "id": "3f8ef3e8-4167-4597-8f76-10a9eb8e94f4",
   "metadata": {},
   "outputs": [
    {
     "name": "stdout",
     "output_type": "stream",
     "text": [
      "Color Name--->None\n",
      "lightsalmon--->#FFA07A\n",
      "salmon--->#FA8072\n",
      "darksalmon--->#E9967A\n",
      "lightcoral--->#F08080\n",
      "coral--->#FF7F50\n",
      "tomato--->#FF6347\n",
      "orangered--->#FF4500\n",
      "gold--->#FFD700\n",
      "orange--->#FFA500\n",
      "darkorange--->#FF8C00\n",
      "lightyellow--->#FFFFE0\n",
      "lemonchiffon--->#FFFACD\n",
      "papayawhip--->#FFEFD5\n",
      "moccasin--->#FFE4B5\n",
      "peachpuff--->#FFDAB9\n",
      "palegoldenrod--->#EEE8AA\n",
      "khaki--->#F0E68C\n",
      "darkkhaki--->#BDB76B\n",
      "yellow--->#FFFF00\n",
      "lawngreen--->#7CFC00\n",
      "chartreuse--->#7FFF00\n",
      "limegreen--->#32CD32\n",
      "lime--->#00FF00\n",
      "forestgreen--->#228B22\n",
      "green--->#008000\n",
      "powderblue--->#B0E0E6\n",
      "lightblue--->#ADD8E6\n",
      "lightskyblue--->#87CEFA\n",
      "skyblue--->#87CEEB\n",
      "deepskyblue--->#00BFFF\n",
      "lightsteelblue--->#B0C4DE\n",
      "dodgerblue--->#1E90FF\n"
     ]
    }
   ],
   "source": [
    "#Get all rows from the table\n",
    "for row in table.find_all('tr'): # in html table row is represented by the tag <tr>\n",
    "    # Get all columns in each row.\n",
    "    cols = row.find_all('td') # in html a column is represented by the tag <td>\n",
    "    color_name = cols[2].string # store the value in column 3 as color_name\n",
    "    color_code = cols[3].string # store the value in column 4 as color_code\n",
    "    print(\"{}--->{}\".format(color_name,color_code))"
   ]
  },
  {
   "cell_type": "markdown",
   "id": "4f91ce9d-5939-49ac-8e6b-0bad6db8a1ca",
   "metadata": {},
   "source": [
    "# **Scrape data from HTML tables into a DataFrame using BeautifulSoup and Pandas**"
   ]
  },
  {
   "cell_type": "code",
   "execution_count": 150,
   "id": "14f44459-ec09-4984-8e9a-ffcc8b85d010",
   "metadata": {},
   "outputs": [],
   "source": [
    "import pandas as pd"
   ]
  },
  {
   "cell_type": "code",
   "execution_count": 151,
   "id": "12735027-c5ce-42bc-81b2-2981f2cf0ee5",
   "metadata": {},
   "outputs": [],
   "source": [
    "#The below url contains html tables with data about world population.\n",
    "url = \"https://en.wikipedia.org/wiki/World_population\""
   ]
  },
  {
   "cell_type": "markdown",
   "id": "12734938-60d0-42a3-aa27-8e6aa1e46352",
   "metadata": {},
   "source": [
    "Before proceeding to scrape a web site, you need to examine the contents, and the way data is organized on the website. Open the above url in your browser and check the tables on the webpage."
   ]
  },
  {
   "cell_type": "code",
   "execution_count": 153,
   "id": "92ffa74e-85c1-40aa-a566-bb7e19e2ec9c",
   "metadata": {},
   "outputs": [],
   "source": [
    "# get the contents of the webpage in text format and store in a variable called data\n",
    "data  = requests.get(url).text"
   ]
  },
  {
   "cell_type": "code",
   "execution_count": 154,
   "id": "af564323-207e-46cc-8dd2-a237f020e89f",
   "metadata": {},
   "outputs": [],
   "source": [
    "soup = BeautifulSoup(data,\"html.parser\")"
   ]
  },
  {
   "cell_type": "code",
   "execution_count": 155,
   "id": "26fbe41f-9065-499f-b988-d46c78d9904e",
   "metadata": {},
   "outputs": [],
   "source": [
    "# find all html tables in the web page\n",
    "tables = soup.find_all('table') # in html table is represented by the tag <table>"
   ]
  },
  {
   "cell_type": "code",
   "execution_count": 156,
   "id": "924a460b-c478-4842-b1f3-7ca6c1ebb9d6",
   "metadata": {},
   "outputs": [
    {
     "data": {
      "text/plain": [
       "30"
      ]
     },
     "execution_count": 156,
     "metadata": {},
     "output_type": "execute_result"
    }
   ],
   "source": [
    "# we can see how many tables were found by checking the length of the tables list\n",
    "len(tables)"
   ]
  },
  {
   "cell_type": "markdown",
   "id": "9f425ae1-d9cb-4aae-bda7-63a1cf34cc4f",
   "metadata": {},
   "source": [
    "Assume that we are looking for the 10 most densly populated countries table, we can look through the tables list and find the right one we are look for based on the data in each table or we can search for the table name if it is in the table but this option might not always work."
   ]
  },
  {
   "cell_type": "code",
   "execution_count": 158,
   "id": "42731729-9b10-4b2b-a6a7-a47e2b012658",
   "metadata": {},
   "outputs": [
    {
     "name": "stdout",
     "output_type": "stream",
     "text": [
      "7\n"
     ]
    }
   ],
   "source": [
    "for index,table in enumerate(tables):\n",
    "    if (\"10 most densely populated countries\" in str(table)):\n",
    "        table_index = index\n",
    "print(table_index)"
   ]
  },
  {
   "cell_type": "markdown",
   "id": "605a24e9-cbb7-4e92-9cb7-88ec21d7f7ed",
   "metadata": {},
   "source": [
    "See if you can locate the table name of the table, 10 most densly populated countries, below."
   ]
  },
  {
   "cell_type": "code",
   "execution_count": 160,
   "id": "4e9f06da-5573-409b-9cf7-ceb953fb25cb",
   "metadata": {},
   "outputs": [
    {
     "name": "stdout",
     "output_type": "stream",
     "text": [
      "<table class=\"wikitable sortable\" style=\"text-align:right\">\n",
      " <caption>\n",
      "  10 most densely populated countries\n",
      "  <small>\n",
      "   (with population above 5 million)\n",
      "  </small>\n",
      "  <sup class=\"reference\" id=\"cite_ref-:10_104-0\">\n",
      "   <a href=\"#cite_note-:10-104\">\n",
      "    <span class=\"cite-bracket\">\n",
      "     [\n",
      "    </span>\n",
      "    99\n",
      "    <span class=\"cite-bracket\">\n",
      "     ]\n",
      "    </span>\n",
      "   </a>\n",
      "  </sup>\n",
      " </caption>\n",
      " <tbody>\n",
      "  <tr>\n",
      "   <th scope=\"col\">\n",
      "    Rank\n",
      "   </th>\n",
      "   <th scope=\"col\">\n",
      "    Country\n",
      "   </th>\n",
      "   <th scope=\"col\">\n",
      "    Population\n",
      "   </th>\n",
      "   <th scope=\"col\">\n",
      "    Area\n",
      "    <br/>\n",
      "    <small>\n",
      "     (km\n",
      "     <sup>\n",
      "      2\n",
      "     </sup>\n",
      "     )\n",
      "    </small>\n",
      "   </th>\n",
      "   <th scope=\"col\">\n",
      "    Density\n",
      "    <br/>\n",
      "    <small>\n",
      "     (pop/km\n",
      "     <sup>\n",
      "      2\n",
      "     </sup>\n",
      "     )\n",
      "    </small>\n",
      "   </th>\n",
      "  </tr>\n",
      "  <tr>\n",
      "   <td>\n",
      "    1\n",
      "   </td>\n",
      "   <td align=\"left\">\n",
      "    <span class=\"flagicon\">\n",
      "     <span class=\"mw-image-border\" typeof=\"mw:File\">\n",
      "      <span>\n",
      "       <img alt=\"\" class=\"mw-file-element\" data-file-height=\"600\" data-file-width=\"900\" decoding=\"async\" height=\"15\" src=\"//upload.wikimedia.org/wikipedia/commons/thumb/4/48/Flag_of_Singapore.svg/23px-Flag_of_Singapore.svg.png\" srcset=\"//upload.wikimedia.org/wikipedia/commons/thumb/4/48/Flag_of_Singapore.svg/35px-Flag_of_Singapore.svg.png 1.5x, //upload.wikimedia.org/wikipedia/commons/thumb/4/48/Flag_of_Singapore.svg/45px-Flag_of_Singapore.svg.png 2x\" width=\"23\"/>\n",
      "      </span>\n",
      "     </span>\n",
      "    </span>\n",
      "    <a href=\"/wiki/Singapore\" title=\"Singapore\">\n",
      "     Singapore\n",
      "    </a>\n",
      "   </td>\n",
      "   <td>\n",
      "    5,921,231\n",
      "   </td>\n",
      "   <td>\n",
      "    719\n",
      "   </td>\n",
      "   <td>\n",
      "    8,235\n",
      "   </td>\n",
      "  </tr>\n",
      "  <tr>\n",
      "   <td>\n",
      "    2\n",
      "   </td>\n",
      "   <td align=\"left\">\n",
      "    <span class=\"flagicon\">\n",
      "     <span class=\"mw-image-border\" typeof=\"mw:File\">\n",
      "      <span>\n",
      "       <img alt=\"\" class=\"mw-file-element\" data-file-height=\"600\" data-file-width=\"1000\" decoding=\"async\" height=\"14\" src=\"//upload.wikimedia.org/wikipedia/commons/thumb/f/f9/Flag_of_Bangladesh.svg/23px-Flag_of_Bangladesh.svg.png\" srcset=\"//upload.wikimedia.org/wikipedia/commons/thumb/f/f9/Flag_of_Bangladesh.svg/35px-Flag_of_Bangladesh.svg.png 1.5x, //upload.wikimedia.org/wikipedia/commons/thumb/f/f9/Flag_of_Bangladesh.svg/46px-Flag_of_Bangladesh.svg.png 2x\" width=\"23\"/>\n",
      "      </span>\n",
      "     </span>\n",
      "    </span>\n",
      "    <a href=\"/wiki/Bangladesh\" title=\"Bangladesh\">\n",
      "     Bangladesh\n",
      "    </a>\n",
      "   </td>\n",
      "   <td>\n",
      "    165,650,475\n",
      "   </td>\n",
      "   <td>\n",
      "    148,460\n",
      "   </td>\n",
      "   <td>\n",
      "    1,116\n",
      "   </td>\n",
      "  </tr>\n",
      "  <tr>\n",
      "   <td>\n",
      "    3\n",
      "   </td>\n",
      "   <td align=\"left\">\n",
      "    <p>\n",
      "     <span class=\"flagicon\">\n",
      "      <span class=\"mw-image-border\" typeof=\"mw:File\">\n",
      "       <span>\n",
      "        <img alt=\"\" class=\"mw-file-element\" data-file-height=\"600\" data-file-width=\"1200\" decoding=\"async\" height=\"12\" src=\"//upload.wikimedia.org/wikipedia/commons/thumb/0/00/Flag_of_Palestine.svg/23px-Flag_of_Palestine.svg.png\" srcset=\"//upload.wikimedia.org/wikipedia/commons/thumb/0/00/Flag_of_Palestine.svg/35px-Flag_of_Palestine.svg.png 1.5x, //upload.wikimedia.org/wikipedia/commons/thumb/0/00/Flag_of_Palestine.svg/46px-Flag_of_Palestine.svg.png 2x\" width=\"23\"/>\n",
      "       </span>\n",
      "      </span>\n",
      "     </span>\n",
      "     <a href=\"/wiki/Palestine\" title=\"Palestine\">\n",
      "      Palestine\n",
      "     </a>\n",
      "     <sup class=\"reference\" id=\"cite_ref-105\">\n",
      "      <a href=\"#cite_note-105\">\n",
      "       <span class=\"cite-bracket\">\n",
      "        [\n",
      "       </span>\n",
      "       note 3\n",
      "       <span class=\"cite-bracket\">\n",
      "        ]\n",
      "       </span>\n",
      "      </a>\n",
      "     </sup>\n",
      "     <sup class=\"reference\" id=\"cite_ref-106\">\n",
      "      <a href=\"#cite_note-106\">\n",
      "       <span class=\"cite-bracket\">\n",
      "        [\n",
      "       </span>\n",
      "       100\n",
      "       <span class=\"cite-bracket\">\n",
      "        ]\n",
      "       </span>\n",
      "      </a>\n",
      "     </sup>\n",
      "    </p>\n",
      "   </td>\n",
      "   <td>\n",
      "    5,223,000\n",
      "   </td>\n",
      "   <td>\n",
      "    6,025\n",
      "   </td>\n",
      "   <td>\n",
      "    867\n",
      "   </td>\n",
      "  </tr>\n",
      "  <tr>\n",
      "   <td>\n",
      "    4\n",
      "   </td>\n",
      "   <td align=\"left\">\n",
      "    <span class=\"flagicon\">\n",
      "     <span class=\"mw-image-border\" typeof=\"mw:File\">\n",
      "      <span>\n",
      "       <img alt=\"\" class=\"mw-file-element\" data-file-height=\"600\" data-file-width=\"900\" decoding=\"async\" height=\"15\" src=\"//upload.wikimedia.org/wikipedia/commons/thumb/7/72/Flag_of_the_Republic_of_China.svg/23px-Flag_of_the_Republic_of_China.svg.png\" srcset=\"//upload.wikimedia.org/wikipedia/commons/thumb/7/72/Flag_of_the_Republic_of_China.svg/35px-Flag_of_the_Republic_of_China.svg.png 1.5x, //upload.wikimedia.org/wikipedia/commons/thumb/7/72/Flag_of_the_Republic_of_China.svg/45px-Flag_of_the_Republic_of_China.svg.png 2x\" width=\"23\"/>\n",
      "      </span>\n",
      "     </span>\n",
      "    </span>\n",
      "    <a href=\"/wiki/Taiwan\" title=\"Taiwan\">\n",
      "     Taiwan\n",
      "    </a>\n",
      "    <sup class=\"reference\" id=\"cite_ref-107\">\n",
      "     <a href=\"#cite_note-107\">\n",
      "      <span class=\"cite-bracket\">\n",
      "       [\n",
      "      </span>\n",
      "      note 4\n",
      "      <span class=\"cite-bracket\">\n",
      "       ]\n",
      "      </span>\n",
      "     </a>\n",
      "    </sup>\n",
      "   </td>\n",
      "   <td>\n",
      "    23,580,712\n",
      "   </td>\n",
      "   <td>\n",
      "    35,980\n",
      "   </td>\n",
      "   <td>\n",
      "    655\n",
      "   </td>\n",
      "  </tr>\n",
      "  <tr>\n",
      "   <td>\n",
      "    5\n",
      "   </td>\n",
      "   <td align=\"left\">\n",
      "    <span class=\"flagicon\">\n",
      "     <span class=\"mw-image-border\" typeof=\"mw:File\">\n",
      "      <span>\n",
      "       <img alt=\"\" class=\"mw-file-element\" data-file-height=\"600\" data-file-width=\"900\" decoding=\"async\" height=\"15\" src=\"//upload.wikimedia.org/wikipedia/commons/thumb/0/09/Flag_of_South_Korea.svg/23px-Flag_of_South_Korea.svg.png\" srcset=\"//upload.wikimedia.org/wikipedia/commons/thumb/0/09/Flag_of_South_Korea.svg/35px-Flag_of_South_Korea.svg.png 1.5x, //upload.wikimedia.org/wikipedia/commons/thumb/0/09/Flag_of_South_Korea.svg/45px-Flag_of_South_Korea.svg.png 2x\" width=\"23\"/>\n",
      "      </span>\n",
      "     </span>\n",
      "    </span>\n",
      "    <a href=\"/wiki/South_Korea\" title=\"South Korea\">\n",
      "     South Korea\n",
      "    </a>\n",
      "   </td>\n",
      "   <td>\n",
      "    51,844,834\n",
      "   </td>\n",
      "   <td>\n",
      "    99,720\n",
      "   </td>\n",
      "   <td>\n",
      "    520\n",
      "   </td>\n",
      "  </tr>\n",
      "  <tr>\n",
      "   <td>\n",
      "    6\n",
      "   </td>\n",
      "   <td align=\"left\">\n",
      "    <span class=\"flagicon\">\n",
      "     <span class=\"mw-image-border\" typeof=\"mw:File\">\n",
      "      <span>\n",
      "       <img alt=\"\" class=\"mw-file-element\" data-file-height=\"1920\" data-file-width=\"2880\" decoding=\"async\" height=\"15\" src=\"//upload.wikimedia.org/wikipedia/commons/thumb/5/59/Flag_of_Lebanon.svg/23px-Flag_of_Lebanon.svg.png\" srcset=\"//upload.wikimedia.org/wikipedia/commons/thumb/5/59/Flag_of_Lebanon.svg/35px-Flag_of_Lebanon.svg.png 1.5x, //upload.wikimedia.org/wikipedia/commons/thumb/5/59/Flag_of_Lebanon.svg/45px-Flag_of_Lebanon.svg.png 2x\" width=\"23\"/>\n",
      "      </span>\n",
      "     </span>\n",
      "    </span>\n",
      "    <a href=\"/wiki/Lebanon\" title=\"Lebanon\">\n",
      "     Lebanon\n",
      "    </a>\n",
      "   </td>\n",
      "   <td>\n",
      "    5,296,814\n",
      "   </td>\n",
      "   <td>\n",
      "    10,400\n",
      "   </td>\n",
      "   <td>\n",
      "    509\n",
      "   </td>\n",
      "  </tr>\n",
      "  <tr>\n",
      "   <td>\n",
      "    7\n",
      "   </td>\n",
      "   <td align=\"left\">\n",
      "    <span class=\"flagicon\">\n",
      "     <span class=\"mw-image-border\" typeof=\"mw:File\">\n",
      "      <span>\n",
      "       <img alt=\"\" class=\"mw-file-element\" data-file-height=\"600\" data-file-width=\"900\" decoding=\"async\" height=\"15\" src=\"//upload.wikimedia.org/wikipedia/commons/thumb/1/17/Flag_of_Rwanda.svg/23px-Flag_of_Rwanda.svg.png\" srcset=\"//upload.wikimedia.org/wikipedia/commons/thumb/1/17/Flag_of_Rwanda.svg/35px-Flag_of_Rwanda.svg.png 1.5x, //upload.wikimedia.org/wikipedia/commons/thumb/1/17/Flag_of_Rwanda.svg/45px-Flag_of_Rwanda.svg.png 2x\" width=\"23\"/>\n",
      "      </span>\n",
      "     </span>\n",
      "    </span>\n",
      "    <a href=\"/wiki/Rwanda\" title=\"Rwanda\">\n",
      "     Rwanda\n",
      "    </a>\n",
      "   </td>\n",
      "   <td>\n",
      "    13,173,730\n",
      "   </td>\n",
      "   <td>\n",
      "    26,338\n",
      "   </td>\n",
      "   <td>\n",
      "    500\n",
      "   </td>\n",
      "  </tr>\n",
      "  <tr>\n",
      "   <td>\n",
      "    8\n",
      "   </td>\n",
      "   <td align=\"left\">\n",
      "    <span class=\"flagicon\">\n",
      "     <span class=\"mw-image-border\" typeof=\"mw:File\">\n",
      "      <span>\n",
      "       <img alt=\"\" class=\"mw-file-element\" data-file-height=\"600\" data-file-width=\"1000\" decoding=\"async\" height=\"14\" src=\"//upload.wikimedia.org/wikipedia/commons/thumb/5/50/Flag_of_Burundi.svg/23px-Flag_of_Burundi.svg.png\" srcset=\"//upload.wikimedia.org/wikipedia/commons/thumb/5/50/Flag_of_Burundi.svg/35px-Flag_of_Burundi.svg.png 1.5x, //upload.wikimedia.org/wikipedia/commons/thumb/5/50/Flag_of_Burundi.svg/46px-Flag_of_Burundi.svg.png 2x\" width=\"23\"/>\n",
      "      </span>\n",
      "     </span>\n",
      "    </span>\n",
      "    <a href=\"/wiki/Burundi\" title=\"Burundi\">\n",
      "     Burundi\n",
      "    </a>\n",
      "   </td>\n",
      "   <td>\n",
      "    12,696,478\n",
      "   </td>\n",
      "   <td>\n",
      "    27,830\n",
      "   </td>\n",
      "   <td>\n",
      "    456\n",
      "   </td>\n",
      "  </tr>\n",
      "  <tr>\n",
      "   <td>\n",
      "    9\n",
      "   </td>\n",
      "   <td align=\"left\">\n",
      "    <span class=\"flagicon\">\n",
      "     <span class=\"mw-image-border\" typeof=\"mw:File\">\n",
      "      <span>\n",
      "       <img alt=\"\" class=\"mw-file-element\" data-file-height=\"800\" data-file-width=\"1100\" decoding=\"async\" height=\"15\" src=\"//upload.wikimedia.org/wikipedia/commons/thumb/d/d4/Flag_of_Israel.svg/21px-Flag_of_Israel.svg.png\" srcset=\"//upload.wikimedia.org/wikipedia/commons/thumb/d/d4/Flag_of_Israel.svg/32px-Flag_of_Israel.svg.png 1.5x, //upload.wikimedia.org/wikipedia/commons/thumb/d/d4/Flag_of_Israel.svg/41px-Flag_of_Israel.svg.png 2x\" width=\"21\"/>\n",
      "      </span>\n",
      "     </span>\n",
      "    </span>\n",
      "    <a href=\"/wiki/Israel\" title=\"Israel\">\n",
      "     Israel\n",
      "    </a>\n",
      "   </td>\n",
      "   <td>\n",
      "    9,402,617\n",
      "   </td>\n",
      "   <td>\n",
      "    21,937\n",
      "   </td>\n",
      "   <td>\n",
      "    429\n",
      "   </td>\n",
      "  </tr>\n",
      "  <tr>\n",
      "   <td>\n",
      "    10\n",
      "   </td>\n",
      "   <td align=\"left\">\n",
      "    <span class=\"flagicon\">\n",
      "     <span class=\"mw-image-border\" typeof=\"mw:File\">\n",
      "      <span>\n",
      "       <img alt=\"\" class=\"mw-file-element\" data-file-height=\"600\" data-file-width=\"900\" decoding=\"async\" height=\"15\" src=\"//upload.wikimedia.org/wikipedia/en/thumb/4/41/Flag_of_India.svg/23px-Flag_of_India.svg.png\" srcset=\"//upload.wikimedia.org/wikipedia/en/thumb/4/41/Flag_of_India.svg/35px-Flag_of_India.svg.png 1.5x, //upload.wikimedia.org/wikipedia/en/thumb/4/41/Flag_of_India.svg/45px-Flag_of_India.svg.png 2x\" width=\"23\"/>\n",
      "      </span>\n",
      "     </span>\n",
      "    </span>\n",
      "    <a href=\"/wiki/India\" title=\"India\">\n",
      "     India\n",
      "    </a>\n",
      "   </td>\n",
      "   <td>\n",
      "    1,389,637,446\n",
      "   </td>\n",
      "   <td>\n",
      "    3,287,263\n",
      "   </td>\n",
      "   <td>\n",
      "    423\n",
      "   </td>\n",
      "  </tr>\n",
      " </tbody>\n",
      "</table>\n",
      "\n"
     ]
    }
   ],
   "source": [
    "print(tables[table_index].prettify())"
   ]
  },
  {
   "cell_type": "code",
   "execution_count": 161,
   "id": "3bd94ac3-4c17-41fb-8980-d815d4ec254f",
   "metadata": {},
   "outputs": [
    {
     "name": "stdout",
     "output_type": "stream",
     "text": [
      "  Rank                 Country     Population       Area Density\n",
      "0    1               Singapore      5,921,231        719   8,235\n",
      "1    2              Bangladesh    165,650,475    148,460   1,116\n",
      "2    3  Palestine[note 3][100]      5,223,000      6,025     867\n",
      "3    4          Taiwan[note 4]     23,580,712     35,980     655\n",
      "4    5             South Korea     51,844,834     99,720     520\n",
      "5    6                 Lebanon      5,296,814     10,400     509\n",
      "6    7                  Rwanda     13,173,730     26,338     500\n",
      "7    8                 Burundi     12,696,478     27,830     456\n",
      "8    9                  Israel      9,402,617     21,937     429\n",
      "9   10                   India  1,389,637,446  3,287,263     423\n"
     ]
    }
   ],
   "source": [
    "import pandas as pd\n",
    "\n",
    "population_data = pd.DataFrame(columns=[\"Rank\", \"Country\", \"Population\", \"Area\", \"Density\"])\n",
    "\n",
    "for row in tables[table_index].tbody.find_all(\"tr\"):\n",
    "    col = row.find_all(\"td\")\n",
    "    if len(col) == 5:  # Ensure there are 5 columns\n",
    "        rank = col[0].text.strip()\n",
    "        country = col[1].text.strip()\n",
    "        population = col[2].text.strip()\n",
    "        area = col[3].text.strip()\n",
    "        density = col[4].text.strip()\n",
    "\n",
    "        # Create a new DataFrame for the row\n",
    "        new_row = pd.DataFrame({\n",
    "            \"Rank\": [rank],\n",
    "            \"Country\": [country],\n",
    "            \"Population\": [population],\n",
    "            \"Area\": [area],\n",
    "            \"Density\": [density]\n",
    "        })\n",
    "\n",
    "        # Concatenate the new row to the main DataFrame\n",
    "        population_data = pd.concat([population_data, new_row], ignore_index=True)\n",
    "\n",
    "print(population_data)\n"
   ]
  },
  {
   "cell_type": "markdown",
   "id": "d1b8709c-bee0-4d0b-8f43-0d0d091bfa5d",
   "metadata": {},
   "source": [
    "# **Scrape data from HTML tables into a DataFrame using BeautifulSoup and read_html**\n",
    "Using the same url, data, soup, and tables object as in the last section we can use the read_html function to create a DataFrame.\n",
    "\n",
    "Remember the table we need is located in tables[table_index]\n",
    "\n",
    "We can now use the pandas function read_html and give it the string version of the table as well as the flavor which is the parsing engine bs4."
   ]
  },
  {
   "cell_type": "code",
   "execution_count": 163,
   "id": "287eb2ea-119a-4306-bd80-e47e89a7a0d8",
   "metadata": {},
   "outputs": [
    {
     "name": "stdout",
     "output_type": "stream",
     "text": [
      "No tables found.\n"
     ]
    }
   ],
   "source": [
    "from bs4 import BeautifulSoup\n",
    "import pandas as pd\n",
    "\n",
    "# Sample HTML table (replace this with your actual HTML content)\n",
    "html_content = '''Your HTML content above as a string'''\n",
    "\n",
    "# Parse HTML content\n",
    "soup = BeautifulSoup(html_content, 'html.parser')\n",
    "\n",
    "# Extract the table\n",
    "tables = soup.find_all('table', class_='wikitable')  # You may adjust 'class' based on your table\n",
    "\n",
    "# Ensure the table exists\n",
    "if len(tables) > 0:\n",
    "    print(\"Table found!\")\n",
    "else:\n",
    "    print(\"No tables found.\")\n"
   ]
  },
  {
   "cell_type": "code",
   "execution_count": 164,
   "id": "53929033-407c-4bec-8a9e-c206f4cf26d8",
   "metadata": {},
   "outputs": [
    {
     "name": "stdout",
     "output_type": "stream",
     "text": [
      "Number of tables: 0\n",
      "No tables found. Please check your HTML content.\n"
     ]
    }
   ],
   "source": [
    "print(\"Number of tables:\", len(tables))\n",
    "if len(tables) > 0:\n",
    "    table_html = str(tables[0])\n",
    "    df = pd.read_html(table_html, flavor='bs4')[0]\n",
    "    print(df.head())\n",
    "else:\n",
    "    print(\"No tables found. Please check your HTML content.\")\n"
   ]
  },
  {
   "cell_type": "code",
   "execution_count": 165,
   "id": "0d02179a-a6df-4163-b8ec-a87509d91305",
   "metadata": {},
   "outputs": [],
   "source": [
    "population_data[\"Population\"] = population_data[\"Population\"].str.replace(\",\", \"\").astype(int)\n",
    "population_data[\"Area\"] = population_data[\"Area\"].str.replace(\",\", \"\").astype(int)\n",
    "population_data[\"Density\"] = population_data[\"Density\"].str.replace(\",\", \"\").astype(int)\n"
   ]
  },
  {
   "cell_type": "code",
   "execution_count": 166,
   "id": "0e0fffeb-ce6f-48e7-94dc-5f413d030040",
   "metadata": {},
   "outputs": [],
   "source": [
    "population_data.to_csv(\"population_data.csv\", index=False)\n"
   ]
  },
  {
   "cell_type": "code",
   "execution_count": 171,
   "id": "526127d2-ca6b-462a-a23d-48b30f07608b",
   "metadata": {},
   "outputs": [
    {
     "name": "stdout",
     "output_type": "stream",
     "text": [
      "         Population          Area     Density\n",
      "count  1.000000e+01  1.000000e+01    10.00000\n",
      "mean   1.682427e+08  3.664672e+05  1371.00000\n",
      "std    4.319508e+08  1.027321e+06  2422.01413\n",
      "min    5.223000e+06  7.190000e+02   423.00000\n",
      "25%    6.791578e+06  1.328425e+04   467.00000\n",
      "50%    1.293510e+07  2.708400e+04   514.50000\n",
      "75%    4.477880e+07  8.378500e+04   814.00000\n",
      "max    1.389637e+09  3.287263e+06  8235.00000\n"
     ]
    }
   ],
   "source": [
    "print(population_data.describe())  # Summary statistics\n"
   ]
  },
  {
   "cell_type": "code",
   "execution_count": 173,
   "id": "631d69fd-e70a-449f-be3f-bada2288a075",
   "metadata": {},
   "outputs": [
    {
     "name": "stdout",
     "output_type": "stream",
     "text": [
      "  Rank                 Country  Population    Area  Density\n",
      "0    1               Singapore     5921231     719     8235\n",
      "1    2              Bangladesh   165650475  148460     1116\n",
      "2    3  Palestine[note 3][100]     5223000    6025      867\n",
      "3    4          Taiwan[note 4]    23580712   35980      655\n",
      "4    5             South Korea    51844834   99720      520\n"
     ]
    }
   ],
   "source": [
    "df = population_data  # Assign population_data to df\n",
    "print(df.head())  # Now, this will work\n"
   ]
  },
  {
   "cell_type": "markdown",
   "id": "6617e03c-f824-49ce-88fd-1ad5c8c7b6f6",
   "metadata": {},
   "source": [
    "We can see there are 25 DataFrames just like when we used find_all on the soup object."
   ]
  },
  {
   "cell_type": "code",
   "execution_count": 181,
   "id": "e30c8d38-ef23-44ca-ae46-aec0ae2f2db6",
   "metadata": {},
   "outputs": [],
   "source": [
    "import matplotlib.pyplot as plt\n"
   ]
  },
  {
   "cell_type": "code",
   "execution_count": 193,
   "id": "61a33e1c-3c0e-4338-aa76-18d0b99c438f",
   "metadata": {},
   "outputs": [
    {
     "data": {
      "image/png": "[encoded data removed]",
      "text/plain": [
       "<Figure size 1000x600 with 1 Axes>"
      ]
     },
     "metadata": {},
     "output_type": "display_data"
    }
   ],
   "source": [
    "top_10_countries = population_data.sort_values(by=\"Population\", ascending=False).head(10)\n",
    "plt.figure(figsize=(10, 6))\n",
    "plt.bar(top_10_countries[\"Country\"], top_10_countries[\"Population\"])\n",
    "plt.xlabel(\"Country\")\n",
    "plt.ylabel(\"Population\")\n",
    "plt.title(\"Top 10 Most Populated Countries\")\n",
    "plt.xticks(rotation=45)\n",
    "plt.show()\n"
   ]
  },
  {
   "cell_type": "code",
   "execution_count": 196,
   "id": "556207b0-502e-4d13-8057-eafadaa5610b",
   "metadata": {},
   "outputs": [
    {
     "name": "stdout",
     "output_type": "stream",
     "text": [
      "Country with the highest population:\n",
      "Rank                  10\n",
      "Country            India\n",
      "Population    1389637446\n",
      "Area             3287263\n",
      "Density              423\n",
      "Name: 9, dtype: object\n",
      "\n",
      "Country with the lowest population:\n",
      "Rank                               3\n",
      "Country       Palestine[note 3][100]\n",
      "Population                   5223000\n",
      "Area                            6025\n",
      "Density                          867\n",
      "Name: 2, dtype: object\n"
     ]
    }
   ],
   "source": [
    "max_population_country = population_data.loc[population_data[\"Population\"].idxmax()]\n",
    "min_population_country = population_data.loc[population_data[\"Population\"].idxmin()]\n",
    "\n",
    "print(\"Country with the highest population:\")\n",
    "print(max_population_country)\n",
    "\n",
    "print(\"\\nCountry with the lowest population:\")\n",
    "print(min_population_country)\n"
   ]
  },
  {
   "cell_type": "code",
   "execution_count": 198,
   "id": "27f0b5cc-fffd-4d63-a507-0ae65dcb4051",
   "metadata": {},
   "outputs": [
    {
     "name": "stdout",
     "output_type": "stream",
     "text": [
      "Countries with population greater than 200 million:\n",
      "  Rank Country  Population     Area  Density\n",
      "9   10   India  1389637446  3287263      423\n"
     ]
    }
   ],
   "source": [
    "large_population_countries = population_data[population_data[\"Population\"] > 200_000_000]\n",
    "print(\"Countries with population greater than 200 million:\")\n",
    "print(large_population_countries)\n"
   ]
  },
  {
   "cell_type": "code",
   "execution_count": 199,
   "id": "dd38ee91-5829-4190-855b-676940042e35",
   "metadata": {},
   "outputs": [
    {
     "data": {
      "image/png": "[encoded data removed]",
      "text/plain": [
       "<Figure size 1000x600 with 1 Axes>"
      ]
     },
     "metadata": {},
     "output_type": "display_data"
    }
   ],
   "source": [
    "plt.figure(figsize=(10, 6))\n",
    "plt.scatter(population_data[\"Area\"], population_data[\"Density\"], alpha=0.5)\n",
    "plt.xlabel(\"Area (sq km)\")\n",
    "plt.ylabel(\"Population Density (people per sq km)\")\n",
    "plt.title(\"Area vs. Population Density\")\n",
    "plt.show()\n"
   ]
  },
  {
   "cell_type": "code",
   "execution_count": 201,
   "id": "f1954ac3-1912-4c20-811e-3a89c9d86baa",
   "metadata": {},
   "outputs": [
    {
     "name": "stdout",
     "output_type": "stream",
     "text": [
      "Correlation Matrix:\n",
      "            Population      Area   Density\n",
      "Population    1.000000  0.997343 -0.150719\n",
      "Area          0.997343  1.000000 -0.149191\n",
      "Density      -0.150719 -0.149191  1.000000\n"
     ]
    }
   ],
   "source": [
    "correlation_matrix = population_data[[\"Population\", \"Area\", \"Density\"]].corr()\n",
    "print(\"Correlation Matrix:\")\n",
    "print(correlation_matrix)\n"
   ]
  },
  {
   "cell_type": "code",
   "execution_count": 204,
   "id": "99d5f19a-c6ec-43d7-ab21-4b09b4fee5e3",
   "metadata": {},
   "outputs": [
    {
     "name": "stdout",
     "output_type": "stream",
     "text": [
      "         Population          Area     Density\n",
      "count  1.000000e+01  1.000000e+01    10.00000\n",
      "mean   1.682427e+08  3.664672e+05  1371.00000\n",
      "std    4.319508e+08  1.027321e+06  2422.01413\n",
      "min    5.223000e+06  7.190000e+02   423.00000\n",
      "25%    6.791578e+06  1.328425e+04   467.00000\n",
      "50%    1.293510e+07  2.708400e+04   514.50000\n",
      "75%    4.477880e+07  8.378500e+04   814.00000\n",
      "max    1.389637e+09  3.287263e+06  8235.00000\n"
     ]
    }
   ],
   "source": [
    "print(df.describe())\n"
   ]
  },
  {
   "cell_type": "code",
   "execution_count": 208,
   "id": "c7e5ba10-1cab-4ad9-8ad5-cc8ac3f11d39",
   "metadata": {},
   "outputs": [
    {
     "data": {
      "text/plain": [
       "<Axes: title={'center': 'Top 10 Most Populous Countries'}, xlabel='Country'>"
      ]
     },
     "execution_count": 208,
     "metadata": {},
     "output_type": "execute_result"
    },
    {
     "data": {
      "image/png": "[encoded data removed]",
      "text/plain": [
       "<Figure size 640x480 with 1 Axes>"
      ]
     },
     "metadata": {},
     "output_type": "display_data"
    }
   ],
   "source": [
    "top10_countries = df.sort_values(by='Population', ascending=False).head(10)\n",
    "top10_countries.plot(kind='bar', x='Country', y='Population', title='Top 10 Most Populous Countries')\n"
   ]
  },
  {
   "cell_type": "code",
   "execution_count": 210,
   "id": "c2f6b6ae-f8b0-4334-8acd-ae765d17be4b",
   "metadata": {},
   "outputs": [
    {
     "name": "stdout",
     "output_type": "stream",
     "text": [
      "Collecting folium\n",
      "  Using cached folium-0.19.4-py2.py3-none-any.whl.metadata (3.8 kB)\n",
      "Collecting branca>=0.6.0 (from folium)\n",
      "  Using cached branca-0.8.1-py3-none-any.whl.metadata (1.5 kB)\n",
      "Requirement already satisfied: jinja2>=2.9 in /opt/anaconda3/lib/python3.12/site-packages (from folium) (3.1.4)\n",
      "Requirement already satisfied: numpy in /opt/anaconda3/lib/python3.12/site-packages (from folium) (1.26.4)\n",
      "Requirement already satisfied: requests in /opt/anaconda3/lib/python3.12/site-packages (from folium) (2.32.2)\n",
      "Requirement already satisfied: xyzservices in /opt/anaconda3/lib/python3.12/site-packages (from folium) (2022.9.0)\n",
      "Requirement already satisfied: MarkupSafe>=2.0 in /opt/anaconda3/lib/python3.12/site-packages (from jinja2>=2.9->folium) (2.1.3)\n",
      "Requirement already satisfied: charset-normalizer<4,>=2 in /opt/anaconda3/lib/python3.12/site-packages (from requests->folium) (2.0.4)\n",
      "Requirement already satisfied: idna<4,>=2.5 in /opt/anaconda3/lib/python3.12/site-packages (from requests->folium) (3.7)\n",
      "Requirement already satisfied: urllib3<3,>=1.21.1 in /opt/anaconda3/lib/python3.12/site-packages (from requests->folium) (2.2.2)\n",
      "Requirement already satisfied: certifi>=2017.4.17 in /opt/anaconda3/lib/python3.12/site-packages (from requests->folium) (2024.6.2)\n",
      "Using cached folium-0.19.4-py2.py3-none-any.whl (110 kB)\n",
      "Using cached branca-0.8.1-py3-none-any.whl (26 kB)\n",
      "Installing collected packages: branca, folium\n",
      "Successfully installed branca-0.8.1 folium-0.19.4\n"
     ]
    }
   ],
   "source": [
    "!pip install folium\n"
   ]
  },
  {
   "cell_type": "code",
   "execution_count": 211,
   "id": "aec5d9f2-ff7d-4086-be8c-cd16efebe694",
   "metadata": {},
   "outputs": [
    {
     "data": {
      "text/html": [
       "<div style=\"width:100%;\"><div style=\"position:relative;width:100%;height:0;padding-bottom:60%;\"><span style=\"color:#565656\">Make this Notebook Trusted to load map: File -> Trust Notebook</span><iframe srcdoc=\"&lt;!DOCTYPE html&gt;\n",
       "&lt;html&gt;\n",
       "&lt;head&gt;\n",
       "    \n",
       "    &lt;meta http-equiv=&quot;content-type&quot; content=&quot;text/html; charset=UTF-8&quot; /&gt;\n",
       "    \n",
       "        &lt;script&gt;\n",
       "            L_NO_TOUCH = false;\n",
       "            L_DISABLE_3D = false;\n",
       "        &lt;/script&gt;\n",
       "    \n",
       "    &lt;style&gt;html, body {width: 100%;height: 100%;margin: 0;padding: 0;}&lt;/style&gt;\n",
       "    &lt;style&gt;#map {position:absolute;top:0;bottom:0;right:0;left:0;}&lt;/style&gt;\n",
       "    &lt;script src=&quot;https://cdn.jsdelivr.net/npm/leaflet@1.9.3/dist/leaflet.js&quot;&gt;&lt;/script&gt;\n",
       "    &lt;script src=&quot;https://code.jquery.com/jquery-3.7.1.min.js&quot;&gt;&lt;/script&gt;\n",
       "    &lt;script src=&quot;https://cdn.jsdelivr.net/npm/bootstrap@5.2.2/dist/js/bootstrap.bundle.min.js&quot;&gt;&lt;/script&gt;\n",
       "    &lt;script src=&quot;https://cdnjs.cloudflare.com/ajax/libs/Leaflet.awesome-markers/2.0.2/leaflet.awesome-markers.js&quot;&gt;&lt;/script&gt;\n",
       "    &lt;link rel=&quot;stylesheet&quot; href=&quot;https://cdn.jsdelivr.net/npm/leaflet@1.9.3/dist/leaflet.css&quot;/&gt;\n",
       "    &lt;link rel=&quot;stylesheet&quot; href=&quot;https://cdn.jsdelivr.net/npm/bootstrap@5.2.2/dist/css/bootstrap.min.css&quot;/&gt;\n",
       "    &lt;link rel=&quot;stylesheet&quot; href=&quot;https://netdna.bootstrapcdn.com/bootstrap/3.0.0/css/bootstrap-glyphicons.css&quot;/&gt;\n",
       "    &lt;link rel=&quot;stylesheet&quot; href=&quot;https://cdn.jsdelivr.net/npm/@fortawesome/fontawesome-free@6.2.0/css/all.min.css&quot;/&gt;\n",
       "    &lt;link rel=&quot;stylesheet&quot; href=&quot;https://cdnjs.cloudflare.com/ajax/libs/Leaflet.awesome-markers/2.0.2/leaflet.awesome-markers.css&quot;/&gt;\n",
       "    &lt;link rel=&quot;stylesheet&quot; href=&quot;https://cdn.jsdelivr.net/gh/python-visualization/folium/folium/templates/leaflet.awesome.rotate.min.css&quot;/&gt;\n",
       "    \n",
       "            &lt;meta name=&quot;viewport&quot; content=&quot;width=device-width,\n",
       "                initial-scale=1.0, maximum-scale=1.0, user-scalable=no&quot; /&gt;\n",
       "            &lt;style&gt;\n",
       "                #map_37e7ea63c7812ca0d9e159d256a636b9 {\n",
       "                    position: relative;\n",
       "                    width: 100.0%;\n",
       "                    height: 100.0%;\n",
       "                    left: 0.0%;\n",
       "                    top: 0.0%;\n",
       "                }\n",
       "                .leaflet-container { font-size: 1rem; }\n",
       "            &lt;/style&gt;\n",
       "        \n",
       "&lt;/head&gt;\n",
       "&lt;body&gt;\n",
       "    \n",
       "    \n",
       "            &lt;div class=&quot;folium-map&quot; id=&quot;map_37e7ea63c7812ca0d9e159d256a636b9&quot; &gt;&lt;/div&gt;\n",
       "        \n",
       "&lt;/body&gt;\n",
       "&lt;script&gt;\n",
       "    \n",
       "    \n",
       "            var map_37e7ea63c7812ca0d9e159d256a636b9 = L.map(\n",
       "                &quot;map_37e7ea63c7812ca0d9e159d256a636b9&quot;,\n",
       "                {\n",
       "                    center: [20.0, 0.0],\n",
       "                    crs: L.CRS.EPSG3857,\n",
       "                    ...{\n",
       "  &quot;zoom&quot;: 2,\n",
       "  &quot;zoomControl&quot;: true,\n",
       "  &quot;preferCanvas&quot;: false,\n",
       "}\n",
       "\n",
       "                }\n",
       "            );\n",
       "\n",
       "            \n",
       "\n",
       "        \n",
       "    \n",
       "            var tile_layer_c1ab392228c1d72a285e6d4b51fe2394 = L.tileLayer(\n",
       "                &quot;https://tile.openstreetmap.org/{z}/{x}/{y}.png&quot;,\n",
       "                {\n",
       "  &quot;minZoom&quot;: 0,\n",
       "  &quot;maxZoom&quot;: 19,\n",
       "  &quot;maxNativeZoom&quot;: 19,\n",
       "  &quot;noWrap&quot;: false,\n",
       "  &quot;attribution&quot;: &quot;\\u0026copy; \\u003ca href=\\&quot;https://www.openstreetmap.org/copyright\\&quot;\\u003eOpenStreetMap\\u003c/a\\u003e contributors&quot;,\n",
       "  &quot;subdomains&quot;: &quot;abc&quot;,\n",
       "  &quot;detectRetina&quot;: false,\n",
       "  &quot;tms&quot;: false,\n",
       "  &quot;opacity&quot;: 1,\n",
       "}\n",
       "\n",
       "            );\n",
       "        \n",
       "    \n",
       "            tile_layer_c1ab392228c1d72a285e6d4b51fe2394.addTo(map_37e7ea63c7812ca0d9e159d256a636b9);\n",
       "        \n",
       "    \n",
       "            var circle_marker_b52864459b5f0e5c336f15651cf258f6 = L.circleMarker(\n",
       "                [0.0, 0.0],\n",
       "                {&quot;bubblingMouseEvents&quot;: true, &quot;color&quot;: &quot;blue&quot;, &quot;dashArray&quot;: null, &quot;dashOffset&quot;: null, &quot;fill&quot;: false, &quot;fillColor&quot;: &quot;blue&quot;, &quot;fillOpacity&quot;: 0.2, &quot;fillRule&quot;: &quot;evenodd&quot;, &quot;lineCap&quot;: &quot;round&quot;, &quot;lineJoin&quot;: &quot;round&quot;, &quot;opacity&quot;: 1.0, &quot;radius&quot;: 5, &quot;stroke&quot;: true, &quot;weight&quot;: 3}\n",
       "            ).addTo(map_37e7ea63c7812ca0d9e159d256a636b9);\n",
       "        \n",
       "    \n",
       "        var popup_23894b0666ab1297f96f066bb6fb14dc = L.popup({\n",
       "  &quot;maxWidth&quot;: &quot;100%&quot;,\n",
       "});\n",
       "\n",
       "        \n",
       "            \n",
       "                var html_20c48bc1a9884f068904bf88a4e35bb9 = $(`&lt;div id=&quot;html_20c48bc1a9884f068904bf88a4e35bb9&quot; style=&quot;width: 100.0%; height: 100.0%;&quot;&gt;Singapore&lt;/div&gt;`)[0];\n",
       "                popup_23894b0666ab1297f96f066bb6fb14dc.setContent(html_20c48bc1a9884f068904bf88a4e35bb9);\n",
       "            \n",
       "        \n",
       "\n",
       "        circle_marker_b52864459b5f0e5c336f15651cf258f6.bindPopup(popup_23894b0666ab1297f96f066bb6fb14dc)\n",
       "        ;\n",
       "\n",
       "        \n",
       "    \n",
       "    \n",
       "            var circle_marker_e98f9b52857daaa7c2da29e12dba25e3 = L.circleMarker(\n",
       "                [0.0, 0.0],\n",
       "                {&quot;bubblingMouseEvents&quot;: true, &quot;color&quot;: &quot;blue&quot;, &quot;dashArray&quot;: null, &quot;dashOffset&quot;: null, &quot;fill&quot;: false, &quot;fillColor&quot;: &quot;blue&quot;, &quot;fillOpacity&quot;: 0.2, &quot;fillRule&quot;: &quot;evenodd&quot;, &quot;lineCap&quot;: &quot;round&quot;, &quot;lineJoin&quot;: &quot;round&quot;, &quot;opacity&quot;: 1.0, &quot;radius&quot;: 5, &quot;stroke&quot;: true, &quot;weight&quot;: 3}\n",
       "            ).addTo(map_37e7ea63c7812ca0d9e159d256a636b9);\n",
       "        \n",
       "    \n",
       "        var popup_f886ae85cf5399ecfd16935bff7c0e58 = L.popup({\n",
       "  &quot;maxWidth&quot;: &quot;100%&quot;,\n",
       "});\n",
       "\n",
       "        \n",
       "            \n",
       "                var html_d004531bc4d2f96762f6eca28637bebd = $(`&lt;div id=&quot;html_d004531bc4d2f96762f6eca28637bebd&quot; style=&quot;width: 100.0%; height: 100.0%;&quot;&gt;Bangladesh&lt;/div&gt;`)[0];\n",
       "                popup_f886ae85cf5399ecfd16935bff7c0e58.setContent(html_d004531bc4d2f96762f6eca28637bebd);\n",
       "            \n",
       "        \n",
       "\n",
       "        circle_marker_e98f9b52857daaa7c2da29e12dba25e3.bindPopup(popup_f886ae85cf5399ecfd16935bff7c0e58)\n",
       "        ;\n",
       "\n",
       "        \n",
       "    \n",
       "    \n",
       "            var circle_marker_9273ecc7239076f4149ad0c15c55b25a = L.circleMarker(\n",
       "                [0.0, 0.0],\n",
       "                {&quot;bubblingMouseEvents&quot;: true, &quot;color&quot;: &quot;blue&quot;, &quot;dashArray&quot;: null, &quot;dashOffset&quot;: null, &quot;fill&quot;: false, &quot;fillColor&quot;: &quot;blue&quot;, &quot;fillOpacity&quot;: 0.2, &quot;fillRule&quot;: &quot;evenodd&quot;, &quot;lineCap&quot;: &quot;round&quot;, &quot;lineJoin&quot;: &quot;round&quot;, &quot;opacity&quot;: 1.0, &quot;radius&quot;: 5, &quot;stroke&quot;: true, &quot;weight&quot;: 3}\n",
       "            ).addTo(map_37e7ea63c7812ca0d9e159d256a636b9);\n",
       "        \n",
       "    \n",
       "        var popup_15ccb73ba9dca43538c306e0321b8995 = L.popup({\n",
       "  &quot;maxWidth&quot;: &quot;100%&quot;,\n",
       "});\n",
       "\n",
       "        \n",
       "            \n",
       "                var html_c203471021636dc4d58d47d537e03844 = $(`&lt;div id=&quot;html_c203471021636dc4d58d47d537e03844&quot; style=&quot;width: 100.0%; height: 100.0%;&quot;&gt;Palestine[note 3][100]&lt;/div&gt;`)[0];\n",
       "                popup_15ccb73ba9dca43538c306e0321b8995.setContent(html_c203471021636dc4d58d47d537e03844);\n",
       "            \n",
       "        \n",
       "\n",
       "        circle_marker_9273ecc7239076f4149ad0c15c55b25a.bindPopup(popup_15ccb73ba9dca43538c306e0321b8995)\n",
       "        ;\n",
       "\n",
       "        \n",
       "    \n",
       "    \n",
       "            var circle_marker_bf355916c3d69e5aec49b1087fd4052b = L.circleMarker(\n",
       "                [0.0, 0.0],\n",
       "                {&quot;bubblingMouseEvents&quot;: true, &quot;color&quot;: &quot;blue&quot;, &quot;dashArray&quot;: null, &quot;dashOffset&quot;: null, &quot;fill&quot;: false, &quot;fillColor&quot;: &quot;blue&quot;, &quot;fillOpacity&quot;: 0.2, &quot;fillRule&quot;: &quot;evenodd&quot;, &quot;lineCap&quot;: &quot;round&quot;, &quot;lineJoin&quot;: &quot;round&quot;, &quot;opacity&quot;: 1.0, &quot;radius&quot;: 5, &quot;stroke&quot;: true, &quot;weight&quot;: 3}\n",
       "            ).addTo(map_37e7ea63c7812ca0d9e159d256a636b9);\n",
       "        \n",
       "    \n",
       "        var popup_8cbdd61f20ea302b9f8efc1f6e9e625f = L.popup({\n",
       "  &quot;maxWidth&quot;: &quot;100%&quot;,\n",
       "});\n",
       "\n",
       "        \n",
       "            \n",
       "                var html_0b6d72bd7ba1d0bec351e45b7b5ddf38 = $(`&lt;div id=&quot;html_0b6d72bd7ba1d0bec351e45b7b5ddf38&quot; style=&quot;width: 100.0%; height: 100.0%;&quot;&gt;Taiwan[note 4]&lt;/div&gt;`)[0];\n",
       "                popup_8cbdd61f20ea302b9f8efc1f6e9e625f.setContent(html_0b6d72bd7ba1d0bec351e45b7b5ddf38);\n",
       "            \n",
       "        \n",
       "\n",
       "        circle_marker_bf355916c3d69e5aec49b1087fd4052b.bindPopup(popup_8cbdd61f20ea302b9f8efc1f6e9e625f)\n",
       "        ;\n",
       "\n",
       "        \n",
       "    \n",
       "    \n",
       "            var circle_marker_d77a7bd61cff79668a6888a012693f2f = L.circleMarker(\n",
       "                [0.0, 0.0],\n",
       "                {&quot;bubblingMouseEvents&quot;: true, &quot;color&quot;: &quot;blue&quot;, &quot;dashArray&quot;: null, &quot;dashOffset&quot;: null, &quot;fill&quot;: false, &quot;fillColor&quot;: &quot;blue&quot;, &quot;fillOpacity&quot;: 0.2, &quot;fillRule&quot;: &quot;evenodd&quot;, &quot;lineCap&quot;: &quot;round&quot;, &quot;lineJoin&quot;: &quot;round&quot;, &quot;opacity&quot;: 1.0, &quot;radius&quot;: 5, &quot;stroke&quot;: true, &quot;weight&quot;: 3}\n",
       "            ).addTo(map_37e7ea63c7812ca0d9e159d256a636b9);\n",
       "        \n",
       "    \n",
       "        var popup_5ec25d921e1092c9c4ef2a47f48d3911 = L.popup({\n",
       "  &quot;maxWidth&quot;: &quot;100%&quot;,\n",
       "});\n",
       "\n",
       "        \n",
       "            \n",
       "                var html_6a40597847b9422346ac2bb385ad6605 = $(`&lt;div id=&quot;html_6a40597847b9422346ac2bb385ad6605&quot; style=&quot;width: 100.0%; height: 100.0%;&quot;&gt;South Korea&lt;/div&gt;`)[0];\n",
       "                popup_5ec25d921e1092c9c4ef2a47f48d3911.setContent(html_6a40597847b9422346ac2bb385ad6605);\n",
       "            \n",
       "        \n",
       "\n",
       "        circle_marker_d77a7bd61cff79668a6888a012693f2f.bindPopup(popup_5ec25d921e1092c9c4ef2a47f48d3911)\n",
       "        ;\n",
       "\n",
       "        \n",
       "    \n",
       "    \n",
       "            var circle_marker_875ea9b7c1bb42f9678b0e3c3a12da52 = L.circleMarker(\n",
       "                [0.0, 0.0],\n",
       "                {&quot;bubblingMouseEvents&quot;: true, &quot;color&quot;: &quot;blue&quot;, &quot;dashArray&quot;: null, &quot;dashOffset&quot;: null, &quot;fill&quot;: false, &quot;fillColor&quot;: &quot;blue&quot;, &quot;fillOpacity&quot;: 0.2, &quot;fillRule&quot;: &quot;evenodd&quot;, &quot;lineCap&quot;: &quot;round&quot;, &quot;lineJoin&quot;: &quot;round&quot;, &quot;opacity&quot;: 1.0, &quot;radius&quot;: 5, &quot;stroke&quot;: true, &quot;weight&quot;: 3}\n",
       "            ).addTo(map_37e7ea63c7812ca0d9e159d256a636b9);\n",
       "        \n",
       "    \n",
       "        var popup_be080008ee57620949d801b7d83b4281 = L.popup({\n",
       "  &quot;maxWidth&quot;: &quot;100%&quot;,\n",
       "});\n",
       "\n",
       "        \n",
       "            \n",
       "                var html_eb18948f1df2414ae1fccde02b7bbacc = $(`&lt;div id=&quot;html_eb18948f1df2414ae1fccde02b7bbacc&quot; style=&quot;width: 100.0%; height: 100.0%;&quot;&gt;Lebanon&lt;/div&gt;`)[0];\n",
       "                popup_be080008ee57620949d801b7d83b4281.setContent(html_eb18948f1df2414ae1fccde02b7bbacc);\n",
       "            \n",
       "        \n",
       "\n",
       "        circle_marker_875ea9b7c1bb42f9678b0e3c3a12da52.bindPopup(popup_be080008ee57620949d801b7d83b4281)\n",
       "        ;\n",
       "\n",
       "        \n",
       "    \n",
       "    \n",
       "            var circle_marker_5de79fc727db0fb18c06e1fa3034bf07 = L.circleMarker(\n",
       "                [0.0, 0.0],\n",
       "                {&quot;bubblingMouseEvents&quot;: true, &quot;color&quot;: &quot;blue&quot;, &quot;dashArray&quot;: null, &quot;dashOffset&quot;: null, &quot;fill&quot;: false, &quot;fillColor&quot;: &quot;blue&quot;, &quot;fillOpacity&quot;: 0.2, &quot;fillRule&quot;: &quot;evenodd&quot;, &quot;lineCap&quot;: &quot;round&quot;, &quot;lineJoin&quot;: &quot;round&quot;, &quot;opacity&quot;: 1.0, &quot;radius&quot;: 5, &quot;stroke&quot;: true, &quot;weight&quot;: 3}\n",
       "            ).addTo(map_37e7ea63c7812ca0d9e159d256a636b9);\n",
       "        \n",
       "    \n",
       "        var popup_d0160403126b2a31d28d7e37f82b6fe0 = L.popup({\n",
       "  &quot;maxWidth&quot;: &quot;100%&quot;,\n",
       "});\n",
       "\n",
       "        \n",
       "            \n",
       "                var html_5a9e69b240d91eeceec489478b8bb7b1 = $(`&lt;div id=&quot;html_5a9e69b240d91eeceec489478b8bb7b1&quot; style=&quot;width: 100.0%; height: 100.0%;&quot;&gt;Rwanda&lt;/div&gt;`)[0];\n",
       "                popup_d0160403126b2a31d28d7e37f82b6fe0.setContent(html_5a9e69b240d91eeceec489478b8bb7b1);\n",
       "            \n",
       "        \n",
       "\n",
       "        circle_marker_5de79fc727db0fb18c06e1fa3034bf07.bindPopup(popup_d0160403126b2a31d28d7e37f82b6fe0)\n",
       "        ;\n",
       "\n",
       "        \n",
       "    \n",
       "    \n",
       "            var circle_marker_03180e56c539a782a2401dc06712f88c = L.circleMarker(\n",
       "                [0.0, 0.0],\n",
       "                {&quot;bubblingMouseEvents&quot;: true, &quot;color&quot;: &quot;blue&quot;, &quot;dashArray&quot;: null, &quot;dashOffset&quot;: null, &quot;fill&quot;: false, &quot;fillColor&quot;: &quot;blue&quot;, &quot;fillOpacity&quot;: 0.2, &quot;fillRule&quot;: &quot;evenodd&quot;, &quot;lineCap&quot;: &quot;round&quot;, &quot;lineJoin&quot;: &quot;round&quot;, &quot;opacity&quot;: 1.0, &quot;radius&quot;: 5, &quot;stroke&quot;: true, &quot;weight&quot;: 3}\n",
       "            ).addTo(map_37e7ea63c7812ca0d9e159d256a636b9);\n",
       "        \n",
       "    \n",
       "        var popup_1ea67a0da38b0ac616d64771468b9ed1 = L.popup({\n",
       "  &quot;maxWidth&quot;: &quot;100%&quot;,\n",
       "});\n",
       "\n",
       "        \n",
       "            \n",
       "                var html_74d6a91eedb846c160b51206595a4033 = $(`&lt;div id=&quot;html_74d6a91eedb846c160b51206595a4033&quot; style=&quot;width: 100.0%; height: 100.0%;&quot;&gt;Burundi&lt;/div&gt;`)[0];\n",
       "                popup_1ea67a0da38b0ac616d64771468b9ed1.setContent(html_74d6a91eedb846c160b51206595a4033);\n",
       "            \n",
       "        \n",
       "\n",
       "        circle_marker_03180e56c539a782a2401dc06712f88c.bindPopup(popup_1ea67a0da38b0ac616d64771468b9ed1)\n",
       "        ;\n",
       "\n",
       "        \n",
       "    \n",
       "    \n",
       "            var circle_marker_8c936b930e4b471e312d3835c14538d8 = L.circleMarker(\n",
       "                [0.0, 0.0],\n",
       "                {&quot;bubblingMouseEvents&quot;: true, &quot;color&quot;: &quot;blue&quot;, &quot;dashArray&quot;: null, &quot;dashOffset&quot;: null, &quot;fill&quot;: false, &quot;fillColor&quot;: &quot;blue&quot;, &quot;fillOpacity&quot;: 0.2, &quot;fillRule&quot;: &quot;evenodd&quot;, &quot;lineCap&quot;: &quot;round&quot;, &quot;lineJoin&quot;: &quot;round&quot;, &quot;opacity&quot;: 1.0, &quot;radius&quot;: 5, &quot;stroke&quot;: true, &quot;weight&quot;: 3}\n",
       "            ).addTo(map_37e7ea63c7812ca0d9e159d256a636b9);\n",
       "        \n",
       "    \n",
       "        var popup_bf950982c0f1a9ae4b7fb6b56c0e2326 = L.popup({\n",
       "  &quot;maxWidth&quot;: &quot;100%&quot;,\n",
       "});\n",
       "\n",
       "        \n",
       "            \n",
       "                var html_7de00eb863d668295b7d599f9e7c65ff = $(`&lt;div id=&quot;html_7de00eb863d668295b7d599f9e7c65ff&quot; style=&quot;width: 100.0%; height: 100.0%;&quot;&gt;Israel&lt;/div&gt;`)[0];\n",
       "                popup_bf950982c0f1a9ae4b7fb6b56c0e2326.setContent(html_7de00eb863d668295b7d599f9e7c65ff);\n",
       "            \n",
       "        \n",
       "\n",
       "        circle_marker_8c936b930e4b471e312d3835c14538d8.bindPopup(popup_bf950982c0f1a9ae4b7fb6b56c0e2326)\n",
       "        ;\n",
       "\n",
       "        \n",
       "    \n",
       "    \n",
       "            var circle_marker_679d503f23ed49bf922f9a647e81b4f2 = L.circleMarker(\n",
       "                [0.0, 0.0],\n",
       "                {&quot;bubblingMouseEvents&quot;: true, &quot;color&quot;: &quot;blue&quot;, &quot;dashArray&quot;: null, &quot;dashOffset&quot;: null, &quot;fill&quot;: false, &quot;fillColor&quot;: &quot;blue&quot;, &quot;fillOpacity&quot;: 0.2, &quot;fillRule&quot;: &quot;evenodd&quot;, &quot;lineCap&quot;: &quot;round&quot;, &quot;lineJoin&quot;: &quot;round&quot;, &quot;opacity&quot;: 1.0, &quot;radius&quot;: 5, &quot;stroke&quot;: true, &quot;weight&quot;: 3}\n",
       "            ).addTo(map_37e7ea63c7812ca0d9e159d256a636b9);\n",
       "        \n",
       "    \n",
       "        var popup_e0ba887ab8c97f1200a6ea2816747ae4 = L.popup({\n",
       "  &quot;maxWidth&quot;: &quot;100%&quot;,\n",
       "});\n",
       "\n",
       "        \n",
       "            \n",
       "                var html_bcb9639ed68468de1dc0519f643d79c5 = $(`&lt;div id=&quot;html_bcb9639ed68468de1dc0519f643d79c5&quot; style=&quot;width: 100.0%; height: 100.0%;&quot;&gt;India&lt;/div&gt;`)[0];\n",
       "                popup_e0ba887ab8c97f1200a6ea2816747ae4.setContent(html_bcb9639ed68468de1dc0519f643d79c5);\n",
       "            \n",
       "        \n",
       "\n",
       "        circle_marker_679d503f23ed49bf922f9a647e81b4f2.bindPopup(popup_e0ba887ab8c97f1200a6ea2816747ae4)\n",
       "        ;\n",
       "\n",
       "        \n",
       "    \n",
       "&lt;/script&gt;\n",
       "&lt;/html&gt;\" style=\"position:absolute;width:100%;height:100%;left:0;top:0;border:none !important;\" allowfullscreen webkitallowfullscreen mozallowfullscreen></iframe></div></div>"
      ],
      "text/plain": [
       "<folium.folium.Map at 0x14f746210>"
      ]
     },
     "execution_count": 211,
     "metadata": {},
     "output_type": "execute_result"
    }
   ],
   "source": [
    "import folium\n",
    "\n",
    "# Create a world map centered at a global point\n",
    "world_map = folium.Map(location=[20, 0], zoom_start=2)\n",
    "\n",
    "# Example coordinates (replace with actual latitude/longitude columns if available)\n",
    "for i, row in df.iterrows():\n",
    "    folium.CircleMarker(location=[row.get(\"Latitude\", 0), row.get(\"Longitude\", 0)],  # Ensure lat/lon columns exist\n",
    "                        radius=5, color='blue', popup=row[\"Country\"]).add_to(world_map)\n",
    "\n",
    "# Show the map\n",
    "world_map\n"
   ]
  },
  {
   "cell_type": "code",
   "execution_count": 212,
   "id": "f856811f-edca-476d-80d1-10c3ec1ca587",
   "metadata": {},
   "outputs": [
    {
     "name": "stdout",
     "output_type": "stream",
     "text": [
      "            Population      Area   Density\n",
      "Population    1.000000  0.997343 -0.150719\n",
      "Area          0.997343  1.000000 -0.149191\n",
      "Density      -0.150719 -0.149191  1.000000\n"
     ]
    }
   ],
   "source": [
    "correlation = df[['Population', 'Area', 'Density']].corr()\n",
    "print(correlation)\n"
   ]
  },
  {
   "cell_type": "code",
   "execution_count": 213,
   "id": "a834fa74-5052-48a1-b362-b3fda4477d78",
   "metadata": {},
   "outputs": [
    {
     "data": {
      "text/plain": [
       "<Axes: >"
      ]
     },
     "execution_count": 213,
     "metadata": {},
     "output_type": "execute_result"
    },
    {
     "data": {
      "image/png": "[encoded data removed]",
      "text/plain": [
       "<Figure size 640x480 with 2 Axes>"
      ]
     },
     "metadata": {},
     "output_type": "display_data"
    }
   ],
   "source": [
    "import seaborn as sns\n",
    "sns.heatmap(correlation, annot=True)\n"
   ]
  },
  {
   "cell_type": "code",
   "execution_count": 233,
   "id": "2b0a8b03-3b70-4cdd-a27d-a65112b68962",
   "metadata": {},
   "outputs": [
    {
     "name": "stdout",
     "output_type": "stream",
     "text": [
      "File saved successfully as: /Users/purushottamphuyal/Desktop/Untitled.csv\n"
     ]
    }
   ],
   "source": [
    "# Save as CSV\n",
    "csv_file_path = \"/Users/purushottamphuyal/Desktop/Untitled.csv\"\n",
    "df.to_csv(csv_file_path, index=False)\n",
    "print(f\"File saved successfully as: {csv_file_path}\")\n"
   ]
  },
  {
   "cell_type": "code",
   "execution_count": 235,
   "id": "3fb55f95-6c43-4bc8-ab50-c3665471d54a",
   "metadata": {},
   "outputs": [],
   "source": [
    "# Import required libraries\n",
    "import streamlit as st\n",
    "import pandas as pd\n",
    "import seaborn as sns\n",
    "import matplotlib.pyplot as plt\n",
    "import plotly.express as px\n",
    "\n",
    "# Load CSV data\n",
    "csv_file_path = \"/Users/purushottamphuyal/Desktop/Untitled.csv\"\n",
    "df = pd.read_csv(csv_file_path)\n",
    "\n",
    "# Set the title of the Streamlit app\n",
    "st.title(\"World Population Data Dashboard\")\n",
    "\n",
    "# Show dataset preview\n",
    "st.write(\"### Dataset Preview\")\n",
    "st.write(df.head())  # Display first few rows\n",
    "\n",
    "# Correlation Heatmap\n",
    "st.write(\"### Correlation Heatmap\")\n",
    "if 'Population' in df.columns and 'Area' in df.columns:\n",
    "    correlation = df[['Population', 'Area', 'Density']].corr()\n",
    "    fig, ax = plt.subplots()\n",
    "    sns.heatmap(correlation, annot=True, cmap='coolwarm', ax=ax)\n",
    "    st.pyplot(fig)\n",
    "\n",
    "# Interactive Scatter Map using Plotly\n",
    "st.write(\"### Interactive World Population Map\")\n",
    "if 'Country' in df.columns:\n",
    "    fig_map = px.scatter_geo(df, locations=\"Country\", locationmode=\"country names\",\n",
    "                             size=\"Population\", hover_name=\"Country\",\n",
    "                             projection=\"natural earth\", title=\"Population by Country\")\n",
    "    st.plotly_chart(fig_map)\n",
    "\n",
    "# Sidebar Filters\n",
    "st.sidebar.title(\"Filter Options\")\n",
    "selected_country = st.sidebar.selectbox(\"Select a Country\", df['Country'].unique())\n",
    "filtered_data = df[df['Country'] == selected_country]\n",
    "st.write(f\"### Population Data for {selected_country}\")\n",
    "st.write(filtered_data)\n"
   ]
  },
  {
   "cell_type": "code",
   "execution_count": null,
   "id": "440b9358-bb38-4592-b88d-49fcaa6e707d",
   "metadata": {},
   "outputs": [],
   "source": []
  }
 ],
 "metadata": {
  "kernelspec": {
   "display_name": "Python [conda env:anaconda3]",
   "language": "python",
   "name": "conda-env-anaconda3-py"
  },
  "language_info": {
   "codemirror_mode": {
    "name": "ipython",
    "version": 3
   },
   "file_extension": ".py",
   "mimetype": "text/x-python",
   "name": "python",
   "nbconvert_exporter": "python",
   "pygments_lexer": "ipython3",
   "version": "3.12.4"
  }
 },
 "nbformat": 4,
 "nbformat_minor": 5
}
